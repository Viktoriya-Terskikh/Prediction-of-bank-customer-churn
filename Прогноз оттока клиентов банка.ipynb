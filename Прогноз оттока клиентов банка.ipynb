{
 "cells": [
  {
   "cell_type": "markdown",
   "metadata": {
    "toc": true
   },
   "source": [
    "<h1>Содержание<span class=\"tocSkip\"></span></h1>\n",
    "<div class=\"toc\"><ul class=\"toc-item\"><li><span><a href=\"#Подготовка-данных\" data-toc-modified-id=\"Подготовка-данных-1\"><span class=\"toc-item-num\">1&nbsp;&nbsp;</span>Подготовка данных</a></span></li><li><span><a href=\"#Исследование-задачи\" data-toc-modified-id=\"Исследование-задачи-2\"><span class=\"toc-item-num\">2&nbsp;&nbsp;</span>Исследование задачи</a></span></li><li><span><a href=\"#Построим-модели-без-учета-баланса\" data-toc-modified-id=\"Построим-модели-без-учета-баланса-3\"><span class=\"toc-item-num\">3&nbsp;&nbsp;</span>Построим модели без учета баланса</a></span><ul class=\"toc-item\"><li><span><a href=\"#Дерево-решений\" data-toc-modified-id=\"Дерево-решений-3.1\"><span class=\"toc-item-num\">3.1&nbsp;&nbsp;</span>Дерево решений</a></span><ul class=\"toc-item\"><li><span><a href=\"#Лучшее-значение-для-гиперпараметра-max_depth---5,-при-котором-F1-=-0.57\" data-toc-modified-id=\"Лучшее-значение-для-гиперпараметра-max_depth---5,-при-котором-F1-=-0.57-3.1.1\"><span class=\"toc-item-num\">3.1.1&nbsp;&nbsp;</span>Лучшее значение для гиперпараметра max_depth - 5, при котором F1 = 0.57</a></span></li><li><span><a href=\"#Лучшее-значение-для-гиперпараметра-min_samples_split---2-,-при-котором-F1-=-0.57\" data-toc-modified-id=\"Лучшее-значение-для-гиперпараметра-min_samples_split---2-,-при-котором-F1-=-0.57-3.1.2\"><span class=\"toc-item-num\">3.1.2&nbsp;&nbsp;</span>Лучшее значение для гиперпараметра min_samples_split - 2 , при котором F1 = 0.57</a></span></li><li><span><a href=\"#Лучшее-значение-для-гиперпараметра-min_samples_leaf---18,-при-котором-F1-=-0.571\" data-toc-modified-id=\"Лучшее-значение-для-гиперпараметра-min_samples_leaf---18,-при-котором-F1-=-0.571-3.1.3\"><span class=\"toc-item-num\">3.1.3&nbsp;&nbsp;</span>Лучшее значение для гиперпараметра min_samples_leaf - 18, при котором F1 = 0.571</a></span></li></ul></li><li><span><a href=\"#Случайный-лес\" data-toc-modified-id=\"Случайный-лес-3.2\"><span class=\"toc-item-num\">3.2&nbsp;&nbsp;</span>Случайный лес</a></span><ul class=\"toc-item\"><li><span><a href=\"#Лучшее-значение-для-гиперпараметра-max_depth---22,-при-котором-F1-=-0.572\" data-toc-modified-id=\"Лучшее-значение-для-гиперпараметра-max_depth---22,-при-котором-F1-=-0.572-3.2.1\"><span class=\"toc-item-num\">3.2.1&nbsp;&nbsp;</span>Лучшее значение для гиперпараметра max_depth - 22, при котором F1 = 0.572</a></span></li><li><span><a href=\"#Лучшее-значение-для-гиперпараметра-n_estimators---57,-при-котором-F1-=-0.574\" data-toc-modified-id=\"Лучшее-значение-для-гиперпараметра-n_estimators---57,-при-котором-F1-=-0.574-3.2.2\"><span class=\"toc-item-num\">3.2.2&nbsp;&nbsp;</span>Лучшее значение для гиперпараметра n_estimators - 57, при котором F1 = 0.574</a></span></li><li><span><a href=\"#Лучшее-значение-для-гиперпараметра-min_samples_split---4,-при-котором-F1-=-0.567\" data-toc-modified-id=\"Лучшее-значение-для-гиперпараметра-min_samples_split---4,-при-котором-F1-=-0.567-3.2.3\"><span class=\"toc-item-num\">3.2.3&nbsp;&nbsp;</span>Лучшее значение для гиперпараметра min_samples_split - 4, при котором F1 = 0.567</a></span></li><li><span><a href=\"#Лучшее-значение-для-гиперпараметра-min_samples_leaf---1,-при-котором-F1-=-0.567\" data-toc-modified-id=\"Лучшее-значение-для-гиперпараметра-min_samples_leaf---1,-при-котором-F1-=-0.567-3.2.4\"><span class=\"toc-item-num\">3.2.4&nbsp;&nbsp;</span>Лучшее значение для гиперпараметра min_samples_leaf - 1, при котором F1 = 0.567</a></span></li></ul></li><li><span><a href=\"#Логистическая-регрессия\" data-toc-modified-id=\"Логистическая-регрессия-3.3\"><span class=\"toc-item-num\">3.3&nbsp;&nbsp;</span>Логистическая регрессия</a></span></li><li><span><a href=\"#Вывод:\" data-toc-modified-id=\"Вывод:-3.4\"><span class=\"toc-item-num\">3.4&nbsp;&nbsp;</span>Вывод:</a></span></li></ul></li><li><span><a href=\"#Борьба-с-дисбалансом\" data-toc-modified-id=\"Борьба-с-дисбалансом-4\"><span class=\"toc-item-num\">4&nbsp;&nbsp;</span>Борьба с дисбалансом</a></span><ul class=\"toc-item\"><li><span><a href=\"#Дерево-решений\" data-toc-modified-id=\"Дерево-решений-4.1\"><span class=\"toc-item-num\">4.1&nbsp;&nbsp;</span>Дерево решений</a></span></li><li><span><a href=\"#Случайный-лес\" data-toc-modified-id=\"Случайный-лес-4.2\"><span class=\"toc-item-num\">4.2&nbsp;&nbsp;</span>Случайный лес</a></span></li><li><span><a href=\"#Логистическая-регрессия\" data-toc-modified-id=\"Логистическая-регрессия-4.3\"><span class=\"toc-item-num\">4.3&nbsp;&nbsp;</span>Логистическая регрессия</a></span></li><li><span><a href=\"#Дерево-решений\" data-toc-modified-id=\"Дерево-решений-4.4\"><span class=\"toc-item-num\">4.4&nbsp;&nbsp;</span>Дерево решений</a></span></li><li><span><a href=\"#Случайный-лес\" data-toc-modified-id=\"Случайный-лес-4.5\"><span class=\"toc-item-num\">4.5&nbsp;&nbsp;</span>Случайный лес</a></span></li><li><span><a href=\"#Логистическая-регрессия\" data-toc-modified-id=\"Логистическая-регрессия-4.6\"><span class=\"toc-item-num\">4.6&nbsp;&nbsp;</span>Логистическая регрессия</a></span></li><li><span><a href=\"#Попробуем-метод-борьбы-с-дисбалансом-с-помощью-параметра-class_weight\" data-toc-modified-id=\"Попробуем-метод-борьбы-с-дисбалансом-с-помощью-параметра-class_weight-4.7\"><span class=\"toc-item-num\">4.7&nbsp;&nbsp;</span>Попробуем метод борьбы с дисбалансом с помощью параметра class_weight</a></span></li><li><span><a href=\"#Дерево-решений\" data-toc-modified-id=\"Дерево-решений-4.8\"><span class=\"toc-item-num\">4.8&nbsp;&nbsp;</span>Дерево решений</a></span></li><li><span><a href=\"#Случайный-лес\" data-toc-modified-id=\"Случайный-лес-4.9\"><span class=\"toc-item-num\">4.9&nbsp;&nbsp;</span>Случайный лес</a></span></li><li><span><a href=\"#Логистическая-регрессия\" data-toc-modified-id=\"Логистическая-регрессия-4.10\"><span class=\"toc-item-num\">4.10&nbsp;&nbsp;</span>Логистическая регрессия</a></span><ul class=\"toc-item\"><li><span><a href=\"#Вывод\" data-toc-modified-id=\"Вывод-4.10.1\"><span class=\"toc-item-num\">4.10.1&nbsp;&nbsp;</span>Вывод</a></span></li></ul></li></ul></li><li><span><a href=\"#Тестирование-модели\" data-toc-modified-id=\"Тестирование-модели-5\"><span class=\"toc-item-num\">5&nbsp;&nbsp;</span>Тестирование модели</a></span></li><li><span><a href=\"#Исследование-метрики-AUC-ROC\" data-toc-modified-id=\"Исследование-метрики-AUC-ROC-6\"><span class=\"toc-item-num\">6&nbsp;&nbsp;</span>Исследование метрики AUC-ROC</a></span><ul class=\"toc-item\"><li><span><a href=\"#Дерево-решений\" data-toc-modified-id=\"Дерево-решений-6.1\"><span class=\"toc-item-num\">6.1&nbsp;&nbsp;</span>Дерево решений</a></span></li><li><span><a href=\"#Случайный-лес\" data-toc-modified-id=\"Случайный-лес-6.2\"><span class=\"toc-item-num\">6.2&nbsp;&nbsp;</span>Случайный лес</a></span></li><li><span><a href=\"#Логистическая-регрессия\" data-toc-modified-id=\"Логистическая-регрессия-6.3\"><span class=\"toc-item-num\">6.3&nbsp;&nbsp;</span>Логистическая регрессия</a></span></li></ul></li><li><span><a href=\"#Исправленный-вывод:\" data-toc-modified-id=\"Исправленный-вывод:-7\"><span class=\"toc-item-num\">7&nbsp;&nbsp;</span>Исправленный вывод:</a></span></li><li><span><a href=\"#Чек-лист-готовности-проекта\" data-toc-modified-id=\"Чек-лист-готовности-проекта-8\"><span class=\"toc-item-num\">8&nbsp;&nbsp;</span>Чек-лист готовности проекта</a></span></li></ul></div>"
   ]
  },
  {
   "cell_type": "markdown",
   "metadata": {},
   "source": [
    "# Отток клиентов"
   ]
  },
  {
   "cell_type": "markdown",
   "metadata": {},
   "source": [
    "Из «Бета-Банка» стали уходить клиенты. Каждый месяц. Немного, но заметно. Банковские маркетологи посчитали: сохранять текущих клиентов дешевле, чем привлекать новых.\n",
    "\n",
    "Нужно спрогнозировать, уйдёт клиент из банка в ближайшее время или нет. Вам предоставлены исторические данные о поведении клиентов и расторжении договоров с банком. \n",
    "\n",
    "Постройте модель с предельно большим значением *F1*-меры. Чтобы сдать проект успешно, нужно довести метрику до 0.59. Проверьте *F1*-меру на тестовой выборке самостоятельно.\n",
    "\n",
    "Дополнительно измеряйте *AUC-ROC*, сравнивайте её значение с *F1*-мерой.\n",
    "\n",
    "Источник данных: [https://www.kaggle.com/barelydedicated/bank-customer-churn-modeling](https://www.kaggle.com/barelydedicated/bank-customer-churn-modeling)"
   ]
  },
  {
   "cell_type": "markdown",
   "metadata": {},
   "source": [
    "Описание данных\n",
    "\n",
    "\n",
    "Признаки\n",
    "\n",
    "•\tRowNumber — индекс строки в данных\n",
    "\n",
    "•\tCustomerId — уникальный идентификатор клиента\n",
    "\n",
    "•\tSurname — фамилия\n",
    "\n",
    "•\tCreditScore — кредитный рейтинг\n",
    "\n",
    "•\tGeography — страна проживания\n",
    "\n",
    "•\tGender — пол\n",
    "\n",
    "•\tAge — возраст\n",
    "\n",
    "•\tTenure — сколько лет человек является клиентом банка\n",
    "\n",
    "•\tBalance — баланс на счёте\n",
    "\n",
    "•\tNumOfProducts — количество продуктов банка, используемых клиентом\n",
    "\n",
    "•\tHasCrCard — наличие кредитной карты\n",
    "\n",
    "•\tIsActiveMember — активность клиента\n",
    "\n",
    "•\tEstimatedSalary — предполагаемая зарплата\n",
    "\n",
    "\n",
    "Целевой признак\n",
    "\n",
    "•\tExited — факт ухода клиента\n"
   ]
  },
  {
   "cell_type": "markdown",
   "metadata": {},
   "source": [
    "## Подготовка данных"
   ]
  },
  {
   "cell_type": "code",
   "execution_count": 1,
   "metadata": {
    "scrolled": true
   },
   "outputs": [
    {
     "data": {
      "text/html": [
       "<div>\n",
       "<style scoped>\n",
       "    .dataframe tbody tr th:only-of-type {\n",
       "        vertical-align: middle;\n",
       "    }\n",
       "\n",
       "    .dataframe tbody tr th {\n",
       "        vertical-align: top;\n",
       "    }\n",
       "\n",
       "    .dataframe thead th {\n",
       "        text-align: right;\n",
       "    }\n",
       "</style>\n",
       "<table border=\"1\" class=\"dataframe\">\n",
       "  <thead>\n",
       "    <tr style=\"text-align: right;\">\n",
       "      <th></th>\n",
       "      <th>RowNumber</th>\n",
       "      <th>CustomerId</th>\n",
       "      <th>Surname</th>\n",
       "      <th>CreditScore</th>\n",
       "      <th>Geography</th>\n",
       "      <th>Gender</th>\n",
       "      <th>Age</th>\n",
       "      <th>Tenure</th>\n",
       "      <th>Balance</th>\n",
       "      <th>NumOfProducts</th>\n",
       "      <th>HasCrCard</th>\n",
       "      <th>IsActiveMember</th>\n",
       "      <th>EstimatedSalary</th>\n",
       "      <th>Exited</th>\n",
       "    </tr>\n",
       "  </thead>\n",
       "  <tbody>\n",
       "    <tr>\n",
       "      <th>0</th>\n",
       "      <td>1</td>\n",
       "      <td>15634602</td>\n",
       "      <td>Hargrave</td>\n",
       "      <td>619</td>\n",
       "      <td>France</td>\n",
       "      <td>Female</td>\n",
       "      <td>42</td>\n",
       "      <td>2.0</td>\n",
       "      <td>0.00</td>\n",
       "      <td>1</td>\n",
       "      <td>1</td>\n",
       "      <td>1</td>\n",
       "      <td>101348.88</td>\n",
       "      <td>1</td>\n",
       "    </tr>\n",
       "    <tr>\n",
       "      <th>1</th>\n",
       "      <td>2</td>\n",
       "      <td>15647311</td>\n",
       "      <td>Hill</td>\n",
       "      <td>608</td>\n",
       "      <td>Spain</td>\n",
       "      <td>Female</td>\n",
       "      <td>41</td>\n",
       "      <td>1.0</td>\n",
       "      <td>83807.86</td>\n",
       "      <td>1</td>\n",
       "      <td>0</td>\n",
       "      <td>1</td>\n",
       "      <td>112542.58</td>\n",
       "      <td>0</td>\n",
       "    </tr>\n",
       "    <tr>\n",
       "      <th>2</th>\n",
       "      <td>3</td>\n",
       "      <td>15619304</td>\n",
       "      <td>Onio</td>\n",
       "      <td>502</td>\n",
       "      <td>France</td>\n",
       "      <td>Female</td>\n",
       "      <td>42</td>\n",
       "      <td>8.0</td>\n",
       "      <td>159660.80</td>\n",
       "      <td>3</td>\n",
       "      <td>1</td>\n",
       "      <td>0</td>\n",
       "      <td>113931.57</td>\n",
       "      <td>1</td>\n",
       "    </tr>\n",
       "    <tr>\n",
       "      <th>3</th>\n",
       "      <td>4</td>\n",
       "      <td>15701354</td>\n",
       "      <td>Boni</td>\n",
       "      <td>699</td>\n",
       "      <td>France</td>\n",
       "      <td>Female</td>\n",
       "      <td>39</td>\n",
       "      <td>1.0</td>\n",
       "      <td>0.00</td>\n",
       "      <td>2</td>\n",
       "      <td>0</td>\n",
       "      <td>0</td>\n",
       "      <td>93826.63</td>\n",
       "      <td>0</td>\n",
       "    </tr>\n",
       "    <tr>\n",
       "      <th>4</th>\n",
       "      <td>5</td>\n",
       "      <td>15737888</td>\n",
       "      <td>Mitchell</td>\n",
       "      <td>850</td>\n",
       "      <td>Spain</td>\n",
       "      <td>Female</td>\n",
       "      <td>43</td>\n",
       "      <td>2.0</td>\n",
       "      <td>125510.82</td>\n",
       "      <td>1</td>\n",
       "      <td>1</td>\n",
       "      <td>1</td>\n",
       "      <td>79084.10</td>\n",
       "      <td>0</td>\n",
       "    </tr>\n",
       "    <tr>\n",
       "      <th>5</th>\n",
       "      <td>6</td>\n",
       "      <td>15574012</td>\n",
       "      <td>Chu</td>\n",
       "      <td>645</td>\n",
       "      <td>Spain</td>\n",
       "      <td>Male</td>\n",
       "      <td>44</td>\n",
       "      <td>8.0</td>\n",
       "      <td>113755.78</td>\n",
       "      <td>2</td>\n",
       "      <td>1</td>\n",
       "      <td>0</td>\n",
       "      <td>149756.71</td>\n",
       "      <td>1</td>\n",
       "    </tr>\n",
       "    <tr>\n",
       "      <th>6</th>\n",
       "      <td>7</td>\n",
       "      <td>15592531</td>\n",
       "      <td>Bartlett</td>\n",
       "      <td>822</td>\n",
       "      <td>France</td>\n",
       "      <td>Male</td>\n",
       "      <td>50</td>\n",
       "      <td>7.0</td>\n",
       "      <td>0.00</td>\n",
       "      <td>2</td>\n",
       "      <td>1</td>\n",
       "      <td>1</td>\n",
       "      <td>10062.80</td>\n",
       "      <td>0</td>\n",
       "    </tr>\n",
       "    <tr>\n",
       "      <th>7</th>\n",
       "      <td>8</td>\n",
       "      <td>15656148</td>\n",
       "      <td>Obinna</td>\n",
       "      <td>376</td>\n",
       "      <td>Germany</td>\n",
       "      <td>Female</td>\n",
       "      <td>29</td>\n",
       "      <td>4.0</td>\n",
       "      <td>115046.74</td>\n",
       "      <td>4</td>\n",
       "      <td>1</td>\n",
       "      <td>0</td>\n",
       "      <td>119346.88</td>\n",
       "      <td>1</td>\n",
       "    </tr>\n",
       "    <tr>\n",
       "      <th>8</th>\n",
       "      <td>9</td>\n",
       "      <td>15792365</td>\n",
       "      <td>He</td>\n",
       "      <td>501</td>\n",
       "      <td>France</td>\n",
       "      <td>Male</td>\n",
       "      <td>44</td>\n",
       "      <td>4.0</td>\n",
       "      <td>142051.07</td>\n",
       "      <td>2</td>\n",
       "      <td>0</td>\n",
       "      <td>1</td>\n",
       "      <td>74940.50</td>\n",
       "      <td>0</td>\n",
       "    </tr>\n",
       "    <tr>\n",
       "      <th>9</th>\n",
       "      <td>10</td>\n",
       "      <td>15592389</td>\n",
       "      <td>H?</td>\n",
       "      <td>684</td>\n",
       "      <td>France</td>\n",
       "      <td>Male</td>\n",
       "      <td>27</td>\n",
       "      <td>2.0</td>\n",
       "      <td>134603.88</td>\n",
       "      <td>1</td>\n",
       "      <td>1</td>\n",
       "      <td>1</td>\n",
       "      <td>71725.73</td>\n",
       "      <td>0</td>\n",
       "    </tr>\n",
       "    <tr>\n",
       "      <th>10</th>\n",
       "      <td>11</td>\n",
       "      <td>15767821</td>\n",
       "      <td>Bearce</td>\n",
       "      <td>528</td>\n",
       "      <td>France</td>\n",
       "      <td>Male</td>\n",
       "      <td>31</td>\n",
       "      <td>6.0</td>\n",
       "      <td>102016.72</td>\n",
       "      <td>2</td>\n",
       "      <td>0</td>\n",
       "      <td>0</td>\n",
       "      <td>80181.12</td>\n",
       "      <td>0</td>\n",
       "    </tr>\n",
       "    <tr>\n",
       "      <th>11</th>\n",
       "      <td>12</td>\n",
       "      <td>15737173</td>\n",
       "      <td>Andrews</td>\n",
       "      <td>497</td>\n",
       "      <td>Spain</td>\n",
       "      <td>Male</td>\n",
       "      <td>24</td>\n",
       "      <td>3.0</td>\n",
       "      <td>0.00</td>\n",
       "      <td>2</td>\n",
       "      <td>1</td>\n",
       "      <td>0</td>\n",
       "      <td>76390.01</td>\n",
       "      <td>0</td>\n",
       "    </tr>\n",
       "    <tr>\n",
       "      <th>12</th>\n",
       "      <td>13</td>\n",
       "      <td>15632264</td>\n",
       "      <td>Kay</td>\n",
       "      <td>476</td>\n",
       "      <td>France</td>\n",
       "      <td>Female</td>\n",
       "      <td>34</td>\n",
       "      <td>10.0</td>\n",
       "      <td>0.00</td>\n",
       "      <td>2</td>\n",
       "      <td>1</td>\n",
       "      <td>0</td>\n",
       "      <td>26260.98</td>\n",
       "      <td>0</td>\n",
       "    </tr>\n",
       "    <tr>\n",
       "      <th>13</th>\n",
       "      <td>14</td>\n",
       "      <td>15691483</td>\n",
       "      <td>Chin</td>\n",
       "      <td>549</td>\n",
       "      <td>France</td>\n",
       "      <td>Female</td>\n",
       "      <td>25</td>\n",
       "      <td>5.0</td>\n",
       "      <td>0.00</td>\n",
       "      <td>2</td>\n",
       "      <td>0</td>\n",
       "      <td>0</td>\n",
       "      <td>190857.79</td>\n",
       "      <td>0</td>\n",
       "    </tr>\n",
       "    <tr>\n",
       "      <th>14</th>\n",
       "      <td>15</td>\n",
       "      <td>15600882</td>\n",
       "      <td>Scott</td>\n",
       "      <td>635</td>\n",
       "      <td>Spain</td>\n",
       "      <td>Female</td>\n",
       "      <td>35</td>\n",
       "      <td>7.0</td>\n",
       "      <td>0.00</td>\n",
       "      <td>2</td>\n",
       "      <td>1</td>\n",
       "      <td>1</td>\n",
       "      <td>65951.65</td>\n",
       "      <td>0</td>\n",
       "    </tr>\n",
       "    <tr>\n",
       "      <th>15</th>\n",
       "      <td>16</td>\n",
       "      <td>15643966</td>\n",
       "      <td>Goforth</td>\n",
       "      <td>616</td>\n",
       "      <td>Germany</td>\n",
       "      <td>Male</td>\n",
       "      <td>45</td>\n",
       "      <td>3.0</td>\n",
       "      <td>143129.41</td>\n",
       "      <td>2</td>\n",
       "      <td>0</td>\n",
       "      <td>1</td>\n",
       "      <td>64327.26</td>\n",
       "      <td>0</td>\n",
       "    </tr>\n",
       "    <tr>\n",
       "      <th>16</th>\n",
       "      <td>17</td>\n",
       "      <td>15737452</td>\n",
       "      <td>Romeo</td>\n",
       "      <td>653</td>\n",
       "      <td>Germany</td>\n",
       "      <td>Male</td>\n",
       "      <td>58</td>\n",
       "      <td>1.0</td>\n",
       "      <td>132602.88</td>\n",
       "      <td>1</td>\n",
       "      <td>1</td>\n",
       "      <td>0</td>\n",
       "      <td>5097.67</td>\n",
       "      <td>1</td>\n",
       "    </tr>\n",
       "    <tr>\n",
       "      <th>17</th>\n",
       "      <td>18</td>\n",
       "      <td>15788218</td>\n",
       "      <td>Henderson</td>\n",
       "      <td>549</td>\n",
       "      <td>Spain</td>\n",
       "      <td>Female</td>\n",
       "      <td>24</td>\n",
       "      <td>9.0</td>\n",
       "      <td>0.00</td>\n",
       "      <td>2</td>\n",
       "      <td>1</td>\n",
       "      <td>1</td>\n",
       "      <td>14406.41</td>\n",
       "      <td>0</td>\n",
       "    </tr>\n",
       "    <tr>\n",
       "      <th>18</th>\n",
       "      <td>19</td>\n",
       "      <td>15661507</td>\n",
       "      <td>Muldrow</td>\n",
       "      <td>587</td>\n",
       "      <td>Spain</td>\n",
       "      <td>Male</td>\n",
       "      <td>45</td>\n",
       "      <td>6.0</td>\n",
       "      <td>0.00</td>\n",
       "      <td>1</td>\n",
       "      <td>0</td>\n",
       "      <td>0</td>\n",
       "      <td>158684.81</td>\n",
       "      <td>0</td>\n",
       "    </tr>\n",
       "    <tr>\n",
       "      <th>19</th>\n",
       "      <td>20</td>\n",
       "      <td>15568982</td>\n",
       "      <td>Hao</td>\n",
       "      <td>726</td>\n",
       "      <td>France</td>\n",
       "      <td>Female</td>\n",
       "      <td>24</td>\n",
       "      <td>6.0</td>\n",
       "      <td>0.00</td>\n",
       "      <td>2</td>\n",
       "      <td>1</td>\n",
       "      <td>1</td>\n",
       "      <td>54724.03</td>\n",
       "      <td>0</td>\n",
       "    </tr>\n",
       "  </tbody>\n",
       "</table>\n",
       "</div>"
      ],
      "text/plain": [
       "    RowNumber  CustomerId    Surname  CreditScore Geography  Gender  Age  \\\n",
       "0           1    15634602   Hargrave          619    France  Female   42   \n",
       "1           2    15647311       Hill          608     Spain  Female   41   \n",
       "2           3    15619304       Onio          502    France  Female   42   \n",
       "3           4    15701354       Boni          699    France  Female   39   \n",
       "4           5    15737888   Mitchell          850     Spain  Female   43   \n",
       "5           6    15574012        Chu          645     Spain    Male   44   \n",
       "6           7    15592531   Bartlett          822    France    Male   50   \n",
       "7           8    15656148     Obinna          376   Germany  Female   29   \n",
       "8           9    15792365         He          501    France    Male   44   \n",
       "9          10    15592389         H?          684    France    Male   27   \n",
       "10         11    15767821     Bearce          528    France    Male   31   \n",
       "11         12    15737173    Andrews          497     Spain    Male   24   \n",
       "12         13    15632264        Kay          476    France  Female   34   \n",
       "13         14    15691483       Chin          549    France  Female   25   \n",
       "14         15    15600882      Scott          635     Spain  Female   35   \n",
       "15         16    15643966    Goforth          616   Germany    Male   45   \n",
       "16         17    15737452      Romeo          653   Germany    Male   58   \n",
       "17         18    15788218  Henderson          549     Spain  Female   24   \n",
       "18         19    15661507    Muldrow          587     Spain    Male   45   \n",
       "19         20    15568982        Hao          726    France  Female   24   \n",
       "\n",
       "    Tenure    Balance  NumOfProducts  HasCrCard  IsActiveMember  \\\n",
       "0      2.0       0.00              1          1               1   \n",
       "1      1.0   83807.86              1          0               1   \n",
       "2      8.0  159660.80              3          1               0   \n",
       "3      1.0       0.00              2          0               0   \n",
       "4      2.0  125510.82              1          1               1   \n",
       "5      8.0  113755.78              2          1               0   \n",
       "6      7.0       0.00              2          1               1   \n",
       "7      4.0  115046.74              4          1               0   \n",
       "8      4.0  142051.07              2          0               1   \n",
       "9      2.0  134603.88              1          1               1   \n",
       "10     6.0  102016.72              2          0               0   \n",
       "11     3.0       0.00              2          1               0   \n",
       "12    10.0       0.00              2          1               0   \n",
       "13     5.0       0.00              2          0               0   \n",
       "14     7.0       0.00              2          1               1   \n",
       "15     3.0  143129.41              2          0               1   \n",
       "16     1.0  132602.88              1          1               0   \n",
       "17     9.0       0.00              2          1               1   \n",
       "18     6.0       0.00              1          0               0   \n",
       "19     6.0       0.00              2          1               1   \n",
       "\n",
       "    EstimatedSalary  Exited  \n",
       "0         101348.88       1  \n",
       "1         112542.58       0  \n",
       "2         113931.57       1  \n",
       "3          93826.63       0  \n",
       "4          79084.10       0  \n",
       "5         149756.71       1  \n",
       "6          10062.80       0  \n",
       "7         119346.88       1  \n",
       "8          74940.50       0  \n",
       "9          71725.73       0  \n",
       "10         80181.12       0  \n",
       "11         76390.01       0  \n",
       "12         26260.98       0  \n",
       "13        190857.79       0  \n",
       "14         65951.65       0  \n",
       "15         64327.26       0  \n",
       "16          5097.67       1  \n",
       "17         14406.41       0  \n",
       "18        158684.81       0  \n",
       "19         54724.03       0  "
      ]
     },
     "execution_count": 1,
     "metadata": {},
     "output_type": "execute_result"
    }
   ],
   "source": [
    "# Импортируем все необходимое для работы\n",
    "import pandas as pd\n",
    "import numpy as np\n",
    "import matplotlib.pyplot as plt\n",
    "from sklearn.model_selection import train_test_split\n",
    "from sklearn.linear_model import LogisticRegression\n",
    "from sklearn.ensemble import RandomForestClassifier\n",
    "from sklearn.tree import DecisionTreeClassifier\n",
    "from sklearn.model_selection import GridSearchCV\n",
    "from sklearn.dummy import DummyClassifier\n",
    "from sklearn.metrics import accuracy_score\n",
    "from sklearn.preprocessing import OrdinalEncoder\n",
    "from sklearn.preprocessing import StandardScaler\n",
    "from sklearn.metrics import confusion_matrix\n",
    "from sklearn.metrics import precision_score\n",
    "from sklearn.metrics import recall_score\n",
    "from sklearn.metrics import f1_score\n",
    "from sklearn.utils import shuffle\n",
    "from sklearn.metrics import roc_curve\n",
    "from sklearn.metrics import roc_auc_score\n",
    "from sklearn.metrics import mean_squared_error\n",
    "from sklearn.metrics import r2_score\n",
    "from sklearn.metrics import mean_absolute_error\n",
    "\n",
    "\n",
    "\n",
    "# Отключаем предупреждения\n",
    "import warnings\n",
    "warnings.filterwarnings('ignore')\n",
    "\n",
    "# Откроем файл и выведем первые 20 строк\n",
    "try:\n",
    "    df = pd.read_csv('https://code.s3.yandex.net/datasets/Churn.csv')\n",
    "except:\n",
    "    df = pd.read_csv('Churn.csv')\n",
    "    \n",
    "df.head(20)"
   ]
  },
  {
   "cell_type": "code",
   "execution_count": 2,
   "metadata": {},
   "outputs": [
    {
     "name": "stdout",
     "output_type": "stream",
     "text": [
      "<class 'pandas.core.frame.DataFrame'>\n",
      "RangeIndex: 10000 entries, 0 to 9999\n",
      "Data columns (total 14 columns):\n",
      " #   Column           Non-Null Count  Dtype  \n",
      "---  ------           --------------  -----  \n",
      " 0   RowNumber        10000 non-null  int64  \n",
      " 1   CustomerId       10000 non-null  int64  \n",
      " 2   Surname          10000 non-null  object \n",
      " 3   CreditScore      10000 non-null  int64  \n",
      " 4   Geography        10000 non-null  object \n",
      " 5   Gender           10000 non-null  object \n",
      " 6   Age              10000 non-null  int64  \n",
      " 7   Tenure           9091 non-null   float64\n",
      " 8   Balance          10000 non-null  float64\n",
      " 9   NumOfProducts    10000 non-null  int64  \n",
      " 10  HasCrCard        10000 non-null  int64  \n",
      " 11  IsActiveMember   10000 non-null  int64  \n",
      " 12  EstimatedSalary  10000 non-null  float64\n",
      " 13  Exited           10000 non-null  int64  \n",
      "dtypes: float64(3), int64(8), object(3)\n",
      "memory usage: 1.1+ MB\n"
     ]
    }
   ],
   "source": [
    "# Посмотрим информацию по всему датафрейму \n",
    "df.info()"
   ]
  },
  {
   "cell_type": "code",
   "execution_count": 3,
   "metadata": {},
   "outputs": [
    {
     "data": {
      "text/plain": [
       "Index(['rownumber', 'customerid', 'surname', 'creditscore', 'geography',\n",
       "       'gender', 'age', 'tenure', 'balance', 'numofproducts', 'hascrcard',\n",
       "       'isactivemember', 'estimatedsalary', 'exited'],\n",
       "      dtype='object')"
      ]
     },
     "execution_count": 3,
     "metadata": {},
     "output_type": "execute_result"
    }
   ],
   "source": [
    "# Названия столбцов приведем к нижнему регистру (применяем метод str.lower())\n",
    "df.columns = df.columns.str.lower()\n",
    "df.columns"
   ]
  },
  {
   "cell_type": "code",
   "execution_count": 4,
   "metadata": {
    "scrolled": true
   },
   "outputs": [
    {
     "data": {
      "text/plain": [
       "rownumber            0\n",
       "customerid           0\n",
       "surname              0\n",
       "creditscore          0\n",
       "geography            0\n",
       "gender               0\n",
       "age                  0\n",
       "tenure             909\n",
       "balance              0\n",
       "numofproducts        0\n",
       "hascrcard            0\n",
       "isactivemember       0\n",
       "estimatedsalary      0\n",
       "exited               0\n",
       "dtype: int64"
      ]
     },
     "execution_count": 4,
     "metadata": {},
     "output_type": "execute_result"
    }
   ],
   "source": [
    "# Выведем колличество пропущенных значений для каждого столбца\n",
    "df.isna().sum()"
   ]
  },
  {
   "cell_type": "code",
   "execution_count": 5,
   "metadata": {},
   "outputs": [],
   "source": [
    "df.drop(columns = ['customerid','surname', 'rownumber'],axis = 1, inplace = True)"
   ]
  },
  {
   "cell_type": "markdown",
   "metadata": {},
   "source": [
    "## Исследование задачи"
   ]
  },
  {
   "cell_type": "code",
   "execution_count": 6,
   "metadata": {},
   "outputs": [
    {
     "data": {
      "text/html": [
       "<div>\n",
       "<style scoped>\n",
       "    .dataframe tbody tr th:only-of-type {\n",
       "        vertical-align: middle;\n",
       "    }\n",
       "\n",
       "    .dataframe tbody tr th {\n",
       "        vertical-align: top;\n",
       "    }\n",
       "\n",
       "    .dataframe thead th {\n",
       "        text-align: right;\n",
       "    }\n",
       "</style>\n",
       "<table border=\"1\" class=\"dataframe\">\n",
       "  <thead>\n",
       "    <tr style=\"text-align: right;\">\n",
       "      <th></th>\n",
       "      <th>creditscore</th>\n",
       "      <th>age</th>\n",
       "      <th>tenure</th>\n",
       "      <th>balance</th>\n",
       "      <th>numofproducts</th>\n",
       "      <th>hascrcard</th>\n",
       "      <th>isactivemember</th>\n",
       "      <th>estimatedsalary</th>\n",
       "      <th>exited</th>\n",
       "      <th>geography_Germany</th>\n",
       "      <th>geography_Spain</th>\n",
       "      <th>gender_Male</th>\n",
       "    </tr>\n",
       "  </thead>\n",
       "  <tbody>\n",
       "    <tr>\n",
       "      <th>0</th>\n",
       "      <td>619</td>\n",
       "      <td>42</td>\n",
       "      <td>2.0</td>\n",
       "      <td>0.00</td>\n",
       "      <td>1</td>\n",
       "      <td>1</td>\n",
       "      <td>1</td>\n",
       "      <td>101348.88</td>\n",
       "      <td>1</td>\n",
       "      <td>0</td>\n",
       "      <td>0</td>\n",
       "      <td>0</td>\n",
       "    </tr>\n",
       "    <tr>\n",
       "      <th>1</th>\n",
       "      <td>608</td>\n",
       "      <td>41</td>\n",
       "      <td>1.0</td>\n",
       "      <td>83807.86</td>\n",
       "      <td>1</td>\n",
       "      <td>0</td>\n",
       "      <td>1</td>\n",
       "      <td>112542.58</td>\n",
       "      <td>0</td>\n",
       "      <td>0</td>\n",
       "      <td>1</td>\n",
       "      <td>0</td>\n",
       "    </tr>\n",
       "    <tr>\n",
       "      <th>2</th>\n",
       "      <td>502</td>\n",
       "      <td>42</td>\n",
       "      <td>8.0</td>\n",
       "      <td>159660.80</td>\n",
       "      <td>3</td>\n",
       "      <td>1</td>\n",
       "      <td>0</td>\n",
       "      <td>113931.57</td>\n",
       "      <td>1</td>\n",
       "      <td>0</td>\n",
       "      <td>0</td>\n",
       "      <td>0</td>\n",
       "    </tr>\n",
       "    <tr>\n",
       "      <th>3</th>\n",
       "      <td>699</td>\n",
       "      <td>39</td>\n",
       "      <td>1.0</td>\n",
       "      <td>0.00</td>\n",
       "      <td>2</td>\n",
       "      <td>0</td>\n",
       "      <td>0</td>\n",
       "      <td>93826.63</td>\n",
       "      <td>0</td>\n",
       "      <td>0</td>\n",
       "      <td>0</td>\n",
       "      <td>0</td>\n",
       "    </tr>\n",
       "    <tr>\n",
       "      <th>4</th>\n",
       "      <td>850</td>\n",
       "      <td>43</td>\n",
       "      <td>2.0</td>\n",
       "      <td>125510.82</td>\n",
       "      <td>1</td>\n",
       "      <td>1</td>\n",
       "      <td>1</td>\n",
       "      <td>79084.10</td>\n",
       "      <td>0</td>\n",
       "      <td>0</td>\n",
       "      <td>1</td>\n",
       "      <td>0</td>\n",
       "    </tr>\n",
       "  </tbody>\n",
       "</table>\n",
       "</div>"
      ],
      "text/plain": [
       "   creditscore  age  tenure    balance  numofproducts  hascrcard  \\\n",
       "0          619   42     2.0       0.00              1          1   \n",
       "1          608   41     1.0   83807.86              1          0   \n",
       "2          502   42     8.0  159660.80              3          1   \n",
       "3          699   39     1.0       0.00              2          0   \n",
       "4          850   43     2.0  125510.82              1          1   \n",
       "\n",
       "   isactivemember  estimatedsalary  exited  geography_Germany  \\\n",
       "0               1        101348.88       1                  0   \n",
       "1               1        112542.58       0                  0   \n",
       "2               0        113931.57       1                  0   \n",
       "3               0         93826.63       0                  0   \n",
       "4               1         79084.10       0                  0   \n",
       "\n",
       "   geography_Spain  gender_Male  \n",
       "0                0            0  \n",
       "1                1            0  \n",
       "2                0            0  \n",
       "3                0            0  \n",
       "4                1            0  "
      ]
     },
     "execution_count": 6,
     "metadata": {},
     "output_type": "execute_result"
    }
   ],
   "source": [
    "# Используем one hot encoding чтобы избежать \"ловушку фиктивных признаков\"\n",
    "df_ohe=pd.get_dummies(df, drop_first=True)\n",
    "df_ohe.head()"
   ]
  },
  {
   "cell_type": "code",
   "execution_count": 7,
   "metadata": {},
   "outputs": [
    {
     "data": {
      "text/plain": [
       "count    9091.000000\n",
       "mean        4.997690\n",
       "std         2.894723\n",
       "min         0.000000\n",
       "25%         2.000000\n",
       "50%         5.000000\n",
       "75%         7.000000\n",
       "max        10.000000\n",
       "Name: tenure, dtype: float64"
      ]
     },
     "execution_count": 7,
     "metadata": {},
     "output_type": "execute_result"
    }
   ],
   "source": [
    "# Выведем информацию по столбцу tenure\n",
    "df_ohe['tenure'].describe()"
   ]
  },
  {
   "cell_type": "code",
   "execution_count": 8,
   "metadata": {},
   "outputs": [
    {
     "data": {
      "text/plain": [
       "1.0     952\n",
       "2.0     950\n",
       "8.0     933\n",
       "3.0     928\n",
       "5.0     927\n",
       "7.0     925\n",
       "4.0     885\n",
       "9.0     882\n",
       "6.0     881\n",
       "10.0    446\n",
       "0.0     382\n",
       "Name: tenure, dtype: int64"
      ]
     },
     "execution_count": 8,
     "metadata": {},
     "output_type": "execute_result"
    }
   ],
   "source": [
    "# Посмотрим количество уникальных значений в столбце tenure\n",
    "df_ohe['tenure'].value_counts()"
   ]
  },
  {
   "cell_type": "code",
   "execution_count": 9,
   "metadata": {},
   "outputs": [
    {
     "data": {
      "text/plain": [
       "<AxesSubplot:>"
      ]
     },
     "execution_count": 9,
     "metadata": {},
     "output_type": "execute_result"
    },
    {
     "data": {
      "image/png": "[encoded data removed]",
      "text/plain": [
       "<Figure size 432x288 with 1 Axes>"
      ]
     },
     "metadata": {
      "needs_background": "light"
     },
     "output_type": "display_data"
    }
   ],
   "source": [
    "# Построим гисторгамму по столбцу tenure\n",
    "df_ohe['tenure'].hist(bins = 10)"
   ]
  },
  {
   "cell_type": "code",
   "execution_count": 10,
   "metadata": {},
   "outputs": [],
   "source": [
    "# Характер пропусков нам не известен, поэтому заполним пропуски в столбце tenure случайными числами от 0 до 10\n",
    "# Делаем мы это для того, чтобы заполнение не повлияло на распределение\n",
    "df = (np.random.randint(0,10,size=df_ohe['tenure'].isna().sum()))\n",
    "df_ohe.loc[df_ohe['tenure'].isna(),'tenure']=df"
   ]
  },
  {
   "cell_type": "code",
   "execution_count": 11,
   "metadata": {},
   "outputs": [
    {
     "data": {
      "text/plain": [
       "<AxesSubplot:>"
      ]
     },
     "execution_count": 11,
     "metadata": {},
     "output_type": "execute_result"
    },
    {
     "data": {
      "image/png": "[encoded data removed]",
      "text/plain": [
       "<Figure size 432x288 with 1 Axes>"
      ]
     },
     "metadata": {
      "needs_background": "light"
     },
     "output_type": "display_data"
    }
   ],
   "source": [
    "# Еще раз посмотрим гисторгамму по стобцу tenure\n",
    "df_ohe['tenure'].hist(bins = 10)"
   ]
  },
  {
   "cell_type": "code",
   "execution_count": 12,
   "metadata": {},
   "outputs": [
    {
     "data": {
      "text/plain": [
       "creditscore          0\n",
       "age                  0\n",
       "tenure               0\n",
       "balance              0\n",
       "numofproducts        0\n",
       "hascrcard            0\n",
       "isactivemember       0\n",
       "estimatedsalary      0\n",
       "exited               0\n",
       "geography_Germany    0\n",
       "geography_Spain      0\n",
       "gender_Male          0\n",
       "dtype: int64"
      ]
     },
     "execution_count": 12,
     "metadata": {},
     "output_type": "execute_result"
    }
   ],
   "source": [
    "# Проверим остались ли пропуски в данных\n",
    "df_ohe.isna().sum()"
   ]
  },
  {
   "cell_type": "code",
   "execution_count": 13,
   "metadata": {},
   "outputs": [
    {
     "data": {
      "text/plain": [
       "<AxesSubplot:>"
      ]
     },
     "execution_count": 13,
     "metadata": {},
     "output_type": "execute_result"
    },
    {
     "data": {
      "image/png": "[encoded data removed]",
      "text/plain": [
       "<Figure size 720x360 with 1 Axes>"
      ]
     },
     "metadata": {
      "needs_background": "light"
     },
     "output_type": "display_data"
    }
   ],
   "source": [
    "# Построим график соотношения значений оттока и оставшихся клиентов\n",
    "df_ohe['exited'].value_counts().plot(kind = 'bar', grid = True, figsize = (10, 5))"
   ]
  },
  {
   "cell_type": "markdown",
   "metadata": {},
   "source": [
    "По графику можно сделать вывод, что присутствует дисбаланс в данных тк соотношение оттока и клиентов которые остались примерно 1 к 4"
   ]
  },
  {
   "cell_type": "code",
   "execution_count": 14,
   "metadata": {},
   "outputs": [],
   "source": [
    "# Создадим список с числовыми столбцами\n",
    "numeric = ['creditscore','age','balance','numofproducts','estimatedsalary','tenure']"
   ]
  },
  {
   "cell_type": "code",
   "execution_count": 15,
   "metadata": {},
   "outputs": [],
   "source": [
    "# Разделим данные. В target целевой признак, а в features поместим оставшшиеся признаки\n",
    "features = df_ohe.drop(['exited'], axis = 1)\n",
    "target = df_ohe['exited']"
   ]
  },
  {
   "cell_type": "code",
   "execution_count": 16,
   "metadata": {},
   "outputs": [],
   "source": [
    "# Поделим датафрейм на обучающую выборку и выборку, которую еще разделим на валидационную и тестовую\n",
    "df_ohe_train, df_ohe_dvalid = train_test_split(df_ohe, test_size=0.40, random_state=12345, stratify = target)\n",
    "\n",
    "# <Поделим df_divide валидационную и тестовую выборку.>\n",
    "df_ohe_valid, df_ohe_test = train_test_split(df_ohe_dvalid, test_size=0.50, random_state=12345)"
   ]
  },
  {
   "cell_type": "code",
   "execution_count": 17,
   "metadata": {},
   "outputs": [],
   "source": [
    "# Разделим обучающий датафрейм на features и target - целевой признак\n",
    "features_train = df_ohe_train.drop(['exited'], axis=1)\n",
    "target_train = df_ohe_train['exited']\n",
    "\n",
    "# Разделим валидационный датафрейм на features и target - целевой признак\n",
    "features_valid = df_ohe_dvalid.drop(['exited'], axis=1)  \n",
    "target_valid = df_ohe_dvalid['exited']"
   ]
  },
  {
   "cell_type": "code",
   "execution_count": 18,
   "metadata": {},
   "outputs": [],
   "source": [
    "# Стандартизируем численные признаки чтобы у всех признаков был одинаковый масштаб\n",
    "scaler = StandardScaler()\n",
    "scaler.fit(features_train[numeric])\n",
    "features_train[numeric] = scaler.transform(features_train[numeric])\n",
    "features_valid[numeric] = scaler.transform(features_valid[numeric])"
   ]
  },
  {
   "cell_type": "code",
   "execution_count": 19,
   "metadata": {},
   "outputs": [],
   "source": [
    "# Разделим тестовый датафрейм на features и target\n",
    "features_test = df_ohe_test.drop(['exited'], axis=1)  \n",
    "target_test = df_ohe_test['exited']"
   ]
  },
  {
   "cell_type": "code",
   "execution_count": 20,
   "metadata": {},
   "outputs": [],
   "source": [
    "features_test[numeric] = scaler.transform(features_test[numeric])"
   ]
  },
  {
   "cell_type": "code",
   "execution_count": 21,
   "metadata": {},
   "outputs": [
    {
     "data": {
      "text/html": [
       "<div>\n",
       "<style scoped>\n",
       "    .dataframe tbody tr th:only-of-type {\n",
       "        vertical-align: middle;\n",
       "    }\n",
       "\n",
       "    .dataframe tbody tr th {\n",
       "        vertical-align: top;\n",
       "    }\n",
       "\n",
       "    .dataframe thead th {\n",
       "        text-align: right;\n",
       "    }\n",
       "</style>\n",
       "<table border=\"1\" class=\"dataframe\">\n",
       "  <thead>\n",
       "    <tr style=\"text-align: right;\">\n",
       "      <th></th>\n",
       "      <th>creditscore</th>\n",
       "      <th>age</th>\n",
       "      <th>tenure</th>\n",
       "      <th>balance</th>\n",
       "      <th>numofproducts</th>\n",
       "      <th>hascrcard</th>\n",
       "      <th>isactivemember</th>\n",
       "      <th>estimatedsalary</th>\n",
       "      <th>geography_Germany</th>\n",
       "      <th>geography_Spain</th>\n",
       "      <th>gender_Male</th>\n",
       "    </tr>\n",
       "  </thead>\n",
       "  <tbody>\n",
       "    <tr>\n",
       "      <th>2837</th>\n",
       "      <td>-1.040434</td>\n",
       "      <td>0.953312</td>\n",
       "      <td>0.361249</td>\n",
       "      <td>0.774657</td>\n",
       "      <td>-0.914708</td>\n",
       "      <td>0</td>\n",
       "      <td>1</td>\n",
       "      <td>-0.119110</td>\n",
       "      <td>1</td>\n",
       "      <td>0</td>\n",
       "      <td>0</td>\n",
       "    </tr>\n",
       "    <tr>\n",
       "      <th>9925</th>\n",
       "      <td>0.454006</td>\n",
       "      <td>-0.095244</td>\n",
       "      <td>1.395687</td>\n",
       "      <td>1.910540</td>\n",
       "      <td>-0.914708</td>\n",
       "      <td>1</td>\n",
       "      <td>1</td>\n",
       "      <td>-0.258658</td>\n",
       "      <td>0</td>\n",
       "      <td>0</td>\n",
       "      <td>0</td>\n",
       "    </tr>\n",
       "    <tr>\n",
       "      <th>8746</th>\n",
       "      <td>0.103585</td>\n",
       "      <td>-0.476537</td>\n",
       "      <td>1.050874</td>\n",
       "      <td>0.481608</td>\n",
       "      <td>0.820981</td>\n",
       "      <td>0</td>\n",
       "      <td>1</td>\n",
       "      <td>1.422836</td>\n",
       "      <td>0</td>\n",
       "      <td>0</td>\n",
       "      <td>1</td>\n",
       "    </tr>\n",
       "    <tr>\n",
       "      <th>660</th>\n",
       "      <td>-0.184996</td>\n",
       "      <td>0.190726</td>\n",
       "      <td>1.395687</td>\n",
       "      <td>0.088439</td>\n",
       "      <td>-0.914708</td>\n",
       "      <td>1</td>\n",
       "      <td>1</td>\n",
       "      <td>-1.160427</td>\n",
       "      <td>1</td>\n",
       "      <td>0</td>\n",
       "      <td>0</td>\n",
       "    </tr>\n",
       "    <tr>\n",
       "      <th>3610</th>\n",
       "      <td>-0.720933</td>\n",
       "      <td>1.620574</td>\n",
       "      <td>-1.362815</td>\n",
       "      <td>0.879129</td>\n",
       "      <td>-0.914708</td>\n",
       "      <td>1</td>\n",
       "      <td>0</td>\n",
       "      <td>0.113236</td>\n",
       "      <td>0</td>\n",
       "      <td>0</td>\n",
       "      <td>0</td>\n",
       "    </tr>\n",
       "  </tbody>\n",
       "</table>\n",
       "</div>"
      ],
      "text/plain": [
       "      creditscore       age    tenure   balance  numofproducts  hascrcard  \\\n",
       "2837    -1.040434  0.953312  0.361249  0.774657      -0.914708          0   \n",
       "9925     0.454006 -0.095244  1.395687  1.910540      -0.914708          1   \n",
       "8746     0.103585 -0.476537  1.050874  0.481608       0.820981          0   \n",
       "660     -0.184996  0.190726  1.395687  0.088439      -0.914708          1   \n",
       "3610    -0.720933  1.620574 -1.362815  0.879129      -0.914708          1   \n",
       "\n",
       "      isactivemember  estimatedsalary  geography_Germany  geography_Spain  \\\n",
       "2837               1        -0.119110                  1                0   \n",
       "9925               1        -0.258658                  0                0   \n",
       "8746               1         1.422836                  0                0   \n",
       "660                1        -1.160427                  1                0   \n",
       "3610               0         0.113236                  0                0   \n",
       "\n",
       "      gender_Male  \n",
       "2837            0  \n",
       "9925            0  \n",
       "8746            1  \n",
       "660             0  \n",
       "3610            0  "
      ]
     },
     "execution_count": 21,
     "metadata": {},
     "output_type": "execute_result"
    }
   ],
   "source": [
    "features_train.head()"
   ]
  },
  {
   "cell_type": "code",
   "execution_count": 22,
   "metadata": {},
   "outputs": [
    {
     "data": {
      "text/plain": [
       "(6000, 11)"
      ]
     },
     "execution_count": 22,
     "metadata": {},
     "output_type": "execute_result"
    }
   ],
   "source": [
    "features_train.shape"
   ]
  },
  {
   "cell_type": "code",
   "execution_count": 23,
   "metadata": {},
   "outputs": [
    {
     "data": {
      "text/plain": [
       "(4000, 11)"
      ]
     },
     "execution_count": 23,
     "metadata": {},
     "output_type": "execute_result"
    }
   ],
   "source": [
    "features_valid.shape"
   ]
  },
  {
   "cell_type": "code",
   "execution_count": 24,
   "metadata": {},
   "outputs": [
    {
     "data": {
      "text/plain": [
       "(2000, 12)"
      ]
     },
     "execution_count": 24,
     "metadata": {},
     "output_type": "execute_result"
    }
   ],
   "source": [
    "df_ohe_test.shape"
   ]
  },
  {
   "cell_type": "markdown",
   "metadata": {},
   "source": [
    "## Построим модели без учета баланса\n"
   ]
  },
  {
   "cell_type": "markdown",
   "metadata": {},
   "source": [
    "### Дерево решений"
   ]
  },
  {
   "cell_type": "code",
   "execution_count": 27,
   "metadata": {
    "scrolled": true
   },
   "outputs": [
    {
     "name": "stdout",
     "output_type": "stream",
     "text": [
      "max_depth: 1 F1: 0.0\n",
      "max_depth: 2 F1: 0.5007407407407407\n",
      "max_depth: 3 F1: 0.5195571955719558\n",
      "max_depth: 4 F1: 0.4995957962813258\n",
      "max_depth: 5 F1: 0.51869918699187\n",
      "max_depth: 6 F1: 0.5576036866359446\n",
      "max_depth: 7 F1: 0.5775165319617929\n",
      "max_depth: 8 F1: 0.5325077399380805\n",
      "max_depth: 9 F1: 0.5249813571961223\n",
      "max_depth: 10 F1: 0.5422535211267605\n",
      "max_depth: 11 F1: 0.5227750525578135\n",
      "max_depth: 12 F1: 0.5249487354750513\n",
      "max_depth: 13 F1: 0.5171957671957673\n",
      "max_depth: 14 F1: 0.5156657963446476\n",
      "max_depth: 15 F1: 0.5031367628607277\n",
      "max_depth: 16 F1: 0.5065502183406113\n",
      "max_depth: 17 F1: 0.5003111387678905\n"
     ]
    }
   ],
   "source": [
    "# Напишем цикл для поиска лучшего варианта гиперпараметра max_depth\n",
    "\n",
    "for depth in range(1, 18, 1):\n",
    "    model_dtc = DecisionTreeClassifier( max_depth = depth, random_state = 12345)\n",
    "    model_dtc.fit(features_train, target_train)\n",
    "    prediction = model_dtc.predict(features_valid)\n",
    "    print('max_depth:', depth, 'F1:', f1_score(target_valid, prediction))"
   ]
  },
  {
   "cell_type": "markdown",
   "metadata": {},
   "source": [
    "####  Лучшее значение для гиперпараметра max_depth - 5, при котором F1 = 0.57"
   ]
  },
  {
   "cell_type": "code",
   "execution_count": 28,
   "metadata": {},
   "outputs": [
    {
     "name": "stdout",
     "output_type": "stream",
     "text": [
      "min_samples_split: 2 F1: 0.5775165319617929\n",
      "min_samples_split: 4 F1: 0.5781364636830522\n",
      "min_samples_split: 6 F1: 0.5812591508052709\n",
      "min_samples_split: 8 F1: 0.5812591508052709\n",
      "min_samples_split: 10 F1: 0.5812591508052709\n",
      "min_samples_split: 12 F1: 0.5812591508052709\n",
      "min_samples_split: 14 F1: 0.5812591508052709\n",
      "min_samples_split: 16 F1: 0.5743740795287188\n",
      "min_samples_split: 18 F1: 0.5743740795287188\n",
      "min_samples_split: 20 F1: 0.5739514348785872\n",
      "min_samples_split: 22 F1: 0.5739514348785872\n",
      "min_samples_split: 24 F1: 0.5739514348785872\n",
      "min_samples_split: 26 F1: 0.5739514348785872\n",
      "min_samples_split: 28 F1: 0.5710059171597633\n"
     ]
    }
   ],
   "source": [
    "# Напишем цикл для поиска лучшего варианта гиперпараметра min_samples_split\n",
    "\n",
    "for split in range(2, 30, 2):\n",
    "    model_dtc = DecisionTreeClassifier(max_depth = 7, min_samples_split = split, random_state = 12345)\n",
    "    model_dtc.fit(features_train, target_train)\n",
    "    prediction = model_dtc.predict(features_valid)\n",
    "    print('min_samples_split:', split, 'F1:', f1_score(target_valid, prediction))"
   ]
  },
  {
   "cell_type": "markdown",
   "metadata": {},
   "source": [
    "#### Лучшее значение для гиперпараметра min_samples_split - 2 , при котором F1 = 0.57"
   ]
  },
  {
   "cell_type": "code",
   "execution_count": 29,
   "metadata": {},
   "outputs": [
    {
     "name": "stdout",
     "output_type": "stream",
     "text": [
      "min_samples_leaf: 1 F1: 0.5812591508052709\n",
      "min_samples_leaf: 2 F1: 0.5798381162619572\n",
      "min_samples_leaf: 3 F1: 0.5722713864306784\n",
      "min_samples_leaf: 4 F1: 0.5768390386016023\n",
      "min_samples_leaf: 5 F1: 0.5778421433743663\n",
      "min_samples_leaf: 6 F1: 0.566789667896679\n",
      "min_samples_leaf: 7 F1: 0.5670103092783504\n",
      "min_samples_leaf: 8 F1: 0.5678650036683787\n",
      "min_samples_leaf: 9 F1: 0.5710059171597633\n",
      "min_samples_leaf: 10 F1: 0.5689019896831246\n",
      "min_samples_leaf: 11 F1: 0.5684830633284241\n",
      "min_samples_leaf: 12 F1: 0.573343261355175\n",
      "min_samples_leaf: 13 F1: 0.573343261355175\n",
      "min_samples_leaf: 14 F1: 0.5703758290346352\n",
      "min_samples_leaf: 15 F1: 0.5703758290346352\n",
      "min_samples_leaf: 16 F1: 0.5703758290346352\n",
      "min_samples_leaf: 17 F1: 0.5703758290346352\n",
      "min_samples_leaf: 18 F1: 0.5703758290346352\n",
      "min_samples_leaf: 19 F1: 0.5716385011021308\n"
     ]
    }
   ],
   "source": [
    "# Напишем цикл для поиска лучшего варианта гиперпараметра min_samples_leaf\n",
    "\n",
    "for leaf in range(1, 20, 1):\n",
    "    model_dtc = DecisionTreeClassifier(max_depth = 7, min_samples_split = 6,\n",
    "                                       min_samples_leaf = leaf, random_state = 12345)\n",
    "    model_dtc.fit(features_train, target_train)\n",
    "    prediction = model_dtc.predict(features_valid)\n",
    "    print('min_samples_leaf:', leaf, 'F1:', f1_score(target_valid, prediction))"
   ]
  },
  {
   "cell_type": "markdown",
   "metadata": {},
   "source": [
    "#### Лучшее значение для гиперпараметра min_samples_leaf - 1, при котором F1 = 0.58"
   ]
  },
  {
   "cell_type": "code",
   "execution_count": 30,
   "metadata": {},
   "outputs": [
    {
     "name": "stdout",
     "output_type": "stream",
     "text": [
      "Accuracy модели: 0.857\n",
      "Полнота: 0.48711656441717793\n",
      "Точность: 0.720508166969147\n",
      "F1: 0.5812591508052709\n",
      "ROC_auc: 0.8270323891708643\n"
     ]
    }
   ],
   "source": [
    "# Объявляем классификатор DecisionTreeClassifier\n",
    "model_dtc = DecisionTreeClassifier(max_depth = 7, min_samples_split = 6,\n",
    "                                       min_samples_leaf = 1, random_state = 12345)\n",
    "# Запускаем обучение\n",
    "model_dtc.fit(features_train, target_train)\n",
    "\n",
    "predicted_valid_dtc = model_dtc.predict(features_valid)\n",
    "accuracy_valid_dtc = accuracy_score(target_valid, predicted_valid_dtc)\n",
    "\n",
    "probabilites_valid_dtc = model_dtc.predict_proba(features_valid)\n",
    "probabilites_one_valid_dtc = probabilites_valid_dtc[:, 1]\n",
    "\n",
    "print('Accuracy модели:', accuracy_valid_dtc)\n",
    "\n",
    "print('Полнота:', recall_score(target_valid, predicted_valid_dtc))\n",
    "print('Точность:', precision_score(target_valid, predicted_valid_dtc))\n",
    "\n",
    "print('F1:', f1_score(target_valid, predicted_valid_dtc))\n",
    "print(\"ROC_auc:\", roc_auc_score(target_valid, probabilites_one_valid_dtc))"
   ]
  },
  {
   "cell_type": "markdown",
   "metadata": {},
   "source": [
    "### Случайный лес"
   ]
  },
  {
   "cell_type": "code",
   "execution_count": 31,
   "metadata": {},
   "outputs": [
    {
     "name": "stdout",
     "output_type": "stream",
     "text": [
      "max_depth: 2 F1: 0.13501144164759724\n",
      "max_depth: 4 F1: 0.4521422060164085\n",
      "max_depth: 6 F1: 0.5158597662771286\n",
      "max_depth: 8 F1: 0.5523809523809523\n",
      "max_depth: 10 F1: 0.5621118012422361\n",
      "max_depth: 12 F1: 0.5745007680491551\n",
      "max_depth: 14 F1: 0.5768645357686454\n",
      "max_depth: 16 F1: 0.5684051398337112\n",
      "max_depth: 18 F1: 0.5699168556311414\n",
      "max_depth: 20 F1: 0.5785876993166288\n",
      "max_depth: 22 F1: 0.580015026296018\n",
      "max_depth: 24 F1: 0.5826415094339623\n",
      "max_depth: 26 F1: 0.5875281743050339\n",
      "max_depth: 28 F1: 0.58796992481203\n"
     ]
    }
   ],
   "source": [
    "# Используем цикл для поиска лучшего варианта гиперпараметра max_depth\n",
    "\n",
    "for depth_rfc in range(2, 30, 2):\n",
    "    model_rfc = RandomForestClassifier(max_depth = depth_rfc, random_state = 12345)\n",
    "    model_rfc.fit(features_train, target_train)\n",
    "    prediction = model_rfc.predict(features_valid)\n",
    "    print('max_depth:', depth_rfc, 'F1:', f1_score(target_valid, prediction))"
   ]
  },
  {
   "cell_type": "markdown",
   "metadata": {},
   "source": [
    "#### Лучшее значение для гиперпараметра max_depth - 14, при котором F1 = 0.58"
   ]
  },
  {
   "cell_type": "code",
   "execution_count": 32,
   "metadata": {},
   "outputs": [
    {
     "name": "stdout",
     "output_type": "stream",
     "text": [
      "n_estimators: 1 F1: 0.5084087968952135\n",
      "n_estimators: 3 F1: 0.5397260273972603\n",
      "n_estimators: 5 F1: 0.5536723163841808\n",
      "n_estimators: 7 F1: 0.5655563430191354\n",
      "n_estimators: 9 F1: 0.5672514619883041\n",
      "n_estimators: 11 F1: 0.5720620842572062\n",
      "n_estimators: 13 F1: 0.5785977859778598\n",
      "n_estimators: 15 F1: 0.573529411764706\n",
      "n_estimators: 17 F1: 0.5764705882352942\n",
      "n_estimators: 19 F1: 0.5773809523809524\n",
      "n_estimators: 21 F1: 0.5716417910447761\n",
      "n_estimators: 23 F1: 0.5763473053892215\n",
      "n_estimators: 25 F1: 0.5772113943028485\n",
      "n_estimators: 27 F1: 0.5714285714285714\n",
      "n_estimators: 29 F1: 0.5731523378582202\n",
      "n_estimators: 31 F1: 0.570566037735849\n",
      "n_estimators: 33 F1: 0.5725075528700906\n",
      "n_estimators: 35 F1: 0.5768072289156626\n",
      "n_estimators: 37 F1: 0.5812734082397004\n",
      "n_estimators: 39 F1: 0.5847076461769115\n",
      "n_estimators: 41 F1: 0.5860255447032308\n",
      "n_estimators: 43 F1: 0.5867269984917044\n",
      "n_estimators: 45 F1: 0.5875281743050339\n",
      "n_estimators: 47 F1: 0.5815709969788518\n",
      "n_estimators: 49 F1: 0.5818181818181818\n",
      "n_estimators: 51 F1: 0.5889477668433004\n",
      "n_estimators: 53 F1: 0.5851063829787234\n",
      "n_estimators: 55 F1: 0.5837755875663381\n",
      "n_estimators: 57 F1: 0.5824508320726172\n",
      "n_estimators: 59 F1: 0.5850340136054422\n"
     ]
    }
   ],
   "source": [
    "# Напишем цикл для поиска лучшего варианта гиперпараметра n_estimators\n",
    "\n",
    "for n_rfc in range(1, 60, 2):\n",
    "    model_rfc = RandomForestClassifier(n_estimators = n_rfc, max_depth = 14, random_state = 12345)\n",
    "    model_rfc.fit(features_train, target_train)\n",
    "    prediction = model_rfc.predict(features_valid)\n",
    "    print('n_estimators:', n_rfc, 'F1:', f1_score(target_valid, prediction))"
   ]
  },
  {
   "cell_type": "markdown",
   "metadata": {},
   "source": [
    "####  Лучшее значение для гиперпараметра n_estimators - 13, при котором F1 = 0.584"
   ]
  },
  {
   "cell_type": "code",
   "execution_count": 33,
   "metadata": {},
   "outputs": [
    {
     "name": "stdout",
     "output_type": "stream",
     "text": [
      "min_samples_split: 2 F1: 0.5785977859778598\n",
      "min_samples_split: 4 F1: 0.5637982195845697\n",
      "min_samples_split: 6 F1: 0.5812734082397004\n",
      "min_samples_split: 8 F1: 0.5766037735849058\n",
      "min_samples_split: 10 F1: 0.5699326851159312\n",
      "min_samples_split: 12 F1: 0.5811712379540401\n",
      "min_samples_split: 14 F1: 0.5772113943028485\n",
      "min_samples_split: 16 F1: 0.5703363914373089\n",
      "min_samples_split: 18 F1: 0.5735963581183612\n",
      "min_samples_split: 20 F1: 0.5735849056603773\n",
      "min_samples_split: 22 F1: 0.5792682926829267\n",
      "min_samples_split: 24 F1: 0.5642201834862385\n",
      "min_samples_split: 26 F1: 0.5747303543913714\n",
      "min_samples_split: 28 F1: 0.5722937168811506\n"
     ]
    }
   ],
   "source": [
    "# Используем цикл для поиска лучшего варианта гиперпараметра min_samples_split\n",
    "\n",
    "for split in range(2, 30, 2):\n",
    "    model_rfc = RandomForestClassifier(n_estimators = 13, max_depth = 14, min_samples_split = split, random_state = 12345)\n",
    "    model_rfc.fit(features_train, target_train)\n",
    "    prediction = model_rfc.predict(features_valid)\n",
    "    print('min_samples_split:', split, 'F1:', f1_score(target_valid, prediction))"
   ]
  },
  {
   "cell_type": "markdown",
   "metadata": {},
   "source": [
    "#### Лучшее значение для гиперпараметра min_samples_split - 2, при котором F1 = 0.588"
   ]
  },
  {
   "cell_type": "code",
   "execution_count": 34,
   "metadata": {},
   "outputs": [
    {
     "name": "stdout",
     "output_type": "stream",
     "text": [
      "min_samples_leaf: 1 F1: 0.5785977859778598\n",
      "min_samples_leaf: 2 F1: 0.5841363973313565\n",
      "min_samples_leaf: 3 F1: 0.5869894099848714\n",
      "min_samples_leaf: 4 F1: 0.5685975609756098\n",
      "min_samples_leaf: 5 F1: 0.5677321156773212\n",
      "min_samples_leaf: 6 F1: 0.5692425401683243\n",
      "min_samples_leaf: 7 F1: 0.5681645087585682\n",
      "min_samples_leaf: 8 F1: 0.5656565656565656\n",
      "min_samples_leaf: 9 F1: 0.5643410852713178\n",
      "min_samples_leaf: 10 F1: 0.5705521472392637\n",
      "min_samples_leaf: 11 F1: 0.566412213740458\n",
      "min_samples_leaf: 12 F1: 0.5511811023622047\n",
      "min_samples_leaf: 13 F1: 0.5720823798627003\n",
      "min_samples_leaf: 14 F1: 0.5574534161490684\n"
     ]
    }
   ],
   "source": [
    "# Используем цикл для поиска лучшего варианта гиперпараметра min_samples_leaf\n",
    "\n",
    "for leaf in range(1, 15, 1):\n",
    "    model_rfc = RandomForestClassifier(n_estimators = 13,max_depth = 14,min_samples_split = 2,\n",
    "                                       min_samples_leaf = leaf, random_state = 12345)\n",
    "    model_rfc.fit(features_train, target_train)\n",
    "    prediction = model_rfc.predict(features_valid)\n",
    "    print('min_samples_leaf:', leaf, 'F1:', f1_score(target_valid, prediction))"
   ]
  },
  {
   "cell_type": "markdown",
   "metadata": {},
   "source": [
    "#### Лучшее значение для гиперпараметра min_samples_leaf - 1, при котором F1 = 0.588"
   ]
  },
  {
   "cell_type": "code",
   "execution_count": 35,
   "metadata": {},
   "outputs": [
    {
     "name": "stdout",
     "output_type": "stream",
     "text": [
      "Accuracy модели: 0.85725\n",
      "Полнота: 0.48098159509202454\n",
      "Точность: 0.725925925925926\n",
      "F1: 0.5785977859778598\n",
      "ROC_auc: 0.8395785459063285\n"
     ]
    }
   ],
   "source": [
    "# Создаём модель случайного леса\n",
    "model_rfc = RandomForestClassifier(n_estimators = 13, max_depth = 14, min_samples_split = 2,\n",
    "                                       min_samples_leaf = 1, random_state = 12345)\n",
    "# Запускаем обучение\n",
    "model_rfc.fit(features_train, target_train)\n",
    "\n",
    "predicted_valid_rfc = model_rfc.predict(features_valid)\n",
    "accuracy_valid_rfc = accuracy_score(target_valid, predicted_valid_rfc)\n",
    "\n",
    "probabilites_valid_rfc = model_rfc.predict_proba(features_valid)\n",
    "probabilites_one_valid_rfc = probabilites_valid_rfc[:, 1]\n",
    "\n",
    "print('Accuracy модели:', accuracy_valid_rfc)\n",
    "\n",
    "print('Полнота:', recall_score(target_valid, predicted_valid_rfc))\n",
    "print('Точность:', precision_score(target_valid, predicted_valid_rfc))\n",
    "\n",
    "print('F1:', f1_score(target_valid, predicted_valid_rfc))\n",
    "print(\"ROC_auc:\", roc_auc_score(target_valid, probabilites_one_valid_rfc))"
   ]
  },
  {
   "cell_type": "markdown",
   "metadata": {},
   "source": [
    "### Логистическая регрессия"
   ]
  },
  {
   "cell_type": "code",
   "execution_count": 36,
   "metadata": {},
   "outputs": [
    {
     "name": "stdout",
     "output_type": "stream",
     "text": [
      "Accuracy модели: 0.81125\n",
      "Полнота: 0.19631901840490798\n",
      "Точность: 0.6153846153846154\n",
      "F1: 0.29767441860465116\n",
      "ROC_auc: 0.7693817838603114\n"
     ]
    }
   ],
   "source": [
    "# Создаём модель логистической регрессии\n",
    "model_lgr = LogisticRegression(random_state = 12345, solver = 'liblinear')\n",
    "\n",
    "# Запускаем обучение\n",
    "model_lgr.fit(features_train, target_train)\n",
    "\n",
    "predicted_lgr = model_lgr.predict(features_valid)\n",
    "accuracy_lgr = accuracy_score(target_valid, predicted_lgr)\n",
    "\n",
    "probabilites_valid_lgr = model_lgr.predict_proba(features_valid)\n",
    "probabilites_one_valid_lgr = probabilites_valid_lgr[:, 1]\n",
    "\n",
    "print('Accuracy модели:', accuracy_lgr)\n",
    "\n",
    "print('Полнота:', recall_score(target_valid, predicted_lgr))\n",
    "print('Точность:', precision_score(target_valid, predicted_lgr))\n",
    "\n",
    "print('F1:', f1_score(target_valid, predicted_lgr))\n",
    "print(\"ROC_auc:\", roc_auc_score(target_valid, probabilites_one_valid_lgr))"
   ]
  },
  {
   "cell_type": "markdown",
   "metadata": {},
   "source": [
    "### Вывод: \n",
    "\n",
    "Рассмотрев данные с дисбалансом, делаем вывод, что лучшие результаты выдает модель случайного леса со значенями F1 = 0.588 и ROC_auc = 0.84."
   ]
  },
  {
   "cell_type": "markdown",
   "metadata": {},
   "source": [
    "## Борьба с дисбалансом"
   ]
  },
  {
   "cell_type": "code",
   "execution_count": 37,
   "metadata": {},
   "outputs": [
    {
     "data": {
      "text/plain": [
       "((7963, 11), (2037, 11))"
      ]
     },
     "execution_count": 37,
     "metadata": {},
     "output_type": "execute_result"
    }
   ],
   "source": [
    "# Посмотрим количество объектов отрицательного и положительно класса\n",
    "features[target == 0].shape, features[target == 1].shape"
   ]
  },
  {
   "cell_type": "code",
   "execution_count": 38,
   "metadata": {},
   "outputs": [],
   "source": [
    "# Для борьбы с дисбаланосм воспользуемся функцией upsampling\n",
    "\n",
    "def upsample(features, target, repeat):\n",
    "    features_zeros = features_train[target_train == 0]\n",
    "    features_ones = features_train[target_train == 1]\n",
    "    target_zeros = target_train[target_train == 0]\n",
    "    target_ones = target_train[target_train == 1]\n",
    "    \n",
    "    repeat = 4\n",
    "    features_upsampled = pd.concat([features_zeros] + [features_ones] * repeat)\n",
    "    target_upsampled = pd.concat([target_zeros] + [target_ones] * repeat)\n",
    "    \n",
    "    features_upsampled = shuffle(features_upsampled, random_state=12345)\n",
    "    target_upsampled = shuffle(target_upsampled, random_state=12345)\n",
    "    \n",
    "    return features_upsampled, target_upsampled"
   ]
  },
  {
   "cell_type": "code",
   "execution_count": 39,
   "metadata": {},
   "outputs": [],
   "source": [
    "features_upsampled, target_upsampled = upsample(features_train, target_train, 4)"
   ]
  },
  {
   "cell_type": "code",
   "execution_count": 40,
   "metadata": {},
   "outputs": [
    {
     "data": {
      "text/plain": [
       "(9666, 11)"
      ]
     },
     "execution_count": 40,
     "metadata": {},
     "output_type": "execute_result"
    }
   ],
   "source": [
    "features_upsampled.shape"
   ]
  },
  {
   "cell_type": "code",
   "execution_count": 41,
   "metadata": {},
   "outputs": [
    {
     "data": {
      "text/plain": [
       "(9666,)"
      ]
     },
     "execution_count": 41,
     "metadata": {},
     "output_type": "execute_result"
    }
   ],
   "source": [
    "target_upsampled.shape"
   ]
  },
  {
   "cell_type": "markdown",
   "metadata": {},
   "source": [
    "### Дерево решений"
   ]
  },
  {
   "cell_type": "code",
   "execution_count": 42,
   "metadata": {},
   "outputs": [
    {
     "name": "stdout",
     "output_type": "stream",
     "text": [
      "F1: 0.5593451568894952\n",
      "ROC_auc: 0.8040244243048801\n"
     ]
    }
   ],
   "source": [
    "# Объявляем классификатор DecisionTreeClassifier\n",
    "model_dtc = DecisionTreeClassifier(max_depth = 7, min_samples_split = 6,\n",
    "                                       min_samples_leaf = 1, random_state = 12345)\n",
    "\n",
    "# Запускаем обучение\n",
    "model_dtc.fit(features_upsampled, target_upsampled)\n",
    "\n",
    "predicted_valid_dtc = model_dtc.predict(features_valid)\n",
    "probabilites_valid_dtc = model_dtc.predict_proba(features_valid)\n",
    "probabilites_one_valid_dtc = probabilites_valid_dtc[:, 1]\n",
    "\n",
    "\n",
    "print('F1:', f1_score(target_valid, predicted_valid_dtc))\n",
    "print(\"ROC_auc:\", roc_auc_score(target_valid, probabilites_one_valid_dtc))"
   ]
  },
  {
   "cell_type": "code",
   "execution_count": 43,
   "metadata": {
    "scrolled": true
   },
   "outputs": [
    {
     "name": "stdout",
     "output_type": "stream",
     "text": [
      "Порог = 0.00 | Точность = 0.201, Полнота = 0.941, F1 = 0.332, ROC_auc = 0.804\n",
      "Порог = 0.02 | Точность = 0.224, Полнота = 0.936, F1 = 0.362, ROC_auc = 0.804\n",
      "Порог = 0.04 | Точность = 0.224, Полнота = 0.936, F1 = 0.362, ROC_auc = 0.804\n",
      "Порог = 0.06 | Точность = 0.242, Полнота = 0.918, F1 = 0.383, ROC_auc = 0.804\n",
      "Порог = 0.08 | Точность = 0.242, Полнота = 0.918, F1 = 0.383, ROC_auc = 0.804\n",
      "Порог = 0.10 | Точность = 0.245, Полнота = 0.912, F1 = 0.386, ROC_auc = 0.804\n",
      "Порог = 0.12 | Точность = 0.253, Полнота = 0.909, F1 = 0.396, ROC_auc = 0.804\n",
      "Порог = 0.14 | Точность = 0.255, Полнота = 0.902, F1 = 0.397, ROC_auc = 0.804\n",
      "Порог = 0.16 | Точность = 0.282, Полнота = 0.881, F1 = 0.427, ROC_auc = 0.804\n",
      "Порог = 0.18 | Точность = 0.293, Полнота = 0.874, F1 = 0.439, ROC_auc = 0.804\n",
      "Порог = 0.20 | Точность = 0.300, Полнота = 0.871, F1 = 0.446, ROC_auc = 0.804\n",
      "Порог = 0.22 | Точность = 0.330, Полнота = 0.845, F1 = 0.474, ROC_auc = 0.804\n",
      "Порог = 0.24 | Точность = 0.330, Полнота = 0.845, F1 = 0.474, ROC_auc = 0.804\n",
      "Порог = 0.26 | Точность = 0.330, Полнота = 0.845, F1 = 0.474, ROC_auc = 0.804\n",
      "Порог = 0.28 | Точность = 0.339, Полнота = 0.831, F1 = 0.481, ROC_auc = 0.804\n",
      "Порог = 0.30 | Точность = 0.384, Полнота = 0.800, F1 = 0.518, ROC_auc = 0.804\n",
      "Порог = 0.32 | Точность = 0.384, Полнота = 0.800, F1 = 0.518, ROC_auc = 0.804\n",
      "Порог = 0.34 | Точность = 0.384, Полнота = 0.800, F1 = 0.518, ROC_auc = 0.804\n",
      "Порог = 0.36 | Точность = 0.393, Полнота = 0.799, F1 = 0.527, ROC_auc = 0.804\n",
      "Порог = 0.38 | Точность = 0.398, Полнота = 0.779, F1 = 0.527, ROC_auc = 0.804\n",
      "Порог = 0.40 | Точность = 0.411, Полнота = 0.772, F1 = 0.536, ROC_auc = 0.804\n",
      "Порог = 0.42 | Точность = 0.426, Полнота = 0.762, F1 = 0.547, ROC_auc = 0.804\n",
      "Порог = 0.44 | Точность = 0.426, Полнота = 0.762, F1 = 0.547, ROC_auc = 0.804\n",
      "Порог = 0.46 | Точность = 0.426, Полнота = 0.762, F1 = 0.547, ROC_auc = 0.804\n",
      "Порог = 0.48 | Точность = 0.433, Полнота = 0.760, F1 = 0.552, ROC_auc = 0.804\n",
      "Порог = 0.50 | Точность = 0.444, Полнота = 0.755, F1 = 0.559, ROC_auc = 0.804\n",
      "Порог = 0.52 | Точность = 0.444, Полнота = 0.755, F1 = 0.559, ROC_auc = 0.804\n",
      "Порог = 0.54 | Точность = 0.444, Полнота = 0.755, F1 = 0.559, ROC_auc = 0.804\n",
      "Порог = 0.56 | Точность = 0.481, Полнота = 0.699, F1 = 0.570, ROC_auc = 0.804\n",
      "Порог = 0.58 | Точность = 0.521, Полнота = 0.661, F1 = 0.583, ROC_auc = 0.804\n",
      "Порог = 0.60 | Точность = 0.521, Полнота = 0.661, F1 = 0.583, ROC_auc = 0.804\n",
      "Порог = 0.62 | Точность = 0.521, Полнота = 0.661, F1 = 0.583, ROC_auc = 0.804\n",
      "Порог = 0.64 | Точность = 0.521, Полнота = 0.661, F1 = 0.583, ROC_auc = 0.804\n",
      "Порог = 0.66 | Точность = 0.556, Полнота = 0.587, F1 = 0.571, ROC_auc = 0.804\n",
      "Порог = 0.68 | Точность = 0.561, Полнота = 0.568, F1 = 0.564, ROC_auc = 0.804\n",
      "Порог = 0.70 | Точность = 0.592, Полнота = 0.553, F1 = 0.572, ROC_auc = 0.804\n",
      "Порог = 0.72 | Точность = 0.592, Полнота = 0.553, F1 = 0.572, ROC_auc = 0.804\n",
      "Порог = 0.74 | Точность = 0.703, Полнота = 0.467, F1 = 0.562, ROC_auc = 0.804\n",
      "Порог = 0.76 | Точность = 0.700, Полнота = 0.455, F1 = 0.552, ROC_auc = 0.804\n",
      "Порог = 0.78 | Точность = 0.704, Полнота = 0.455, F1 = 0.553, ROC_auc = 0.804\n"
     ]
    }
   ],
   "source": [
    "# Рассчитаем оптимальный порог классификации для дерева решений \n",
    "\n",
    "for threshold in np.arange(0, 0.8, 0.02):\n",
    "    predicted_valid_dtc = probabilites_one_valid_dtc > threshold \n",
    "    precision = precision_score(target_valid,predicted_valid_dtc) \n",
    "    recall = recall_score(target_valid,predicted_valid_dtc) \n",
    "    print(\"Порог = {:.2f} | Точность = {:.3f}, Полнота = {:.3f}, F1 = {:.3f}, ROC_auc = {:.3f}\".format(\n",
    "        threshold, precision, recall, f1_score(target_valid, predicted_valid_dtc), roc_auc_score(target_valid, probabilites_one_valid_dtc)))\n"
   ]
  },
  {
   "cell_type": "markdown",
   "metadata": {},
   "source": [
    "Лучший результат:\n",
    "    \n",
    "Порог = 0.64 | Точность = 0.522, Полнота = 0.658, F1 = 0.582, ROC_auc = 0.805"
   ]
  },
  {
   "cell_type": "markdown",
   "metadata": {},
   "source": [
    "### Случайный лес"
   ]
  },
  {
   "cell_type": "code",
   "execution_count": 44,
   "metadata": {},
   "outputs": [
    {
     "name": "stdout",
     "output_type": "stream",
     "text": [
      "F1: 0.589242053789731\n",
      "ROC_auc: 0.8349887798441697\n"
     ]
    }
   ],
   "source": [
    "# Создаём модель случайного леса\n",
    "model_rfc = RandomForestClassifier(n_estimators = 13, max_depth = 14, min_samples_split = 2,\n",
    "                                       min_samples_leaf = 1, random_state = 12345)\n",
    "\n",
    "# Запускаем обучение\n",
    "model_rfc.fit(features_upsampled, target_upsampled)\n",
    "\n",
    "predicted_valid_rfc = model_rfc.predict(features_valid)\n",
    "probabilites_valid_rfc = model_rfc.predict_proba(features_valid)\n",
    "probabilites_one_valid_rfc = probabilites_valid_rfc[:, 1]\n",
    "\n",
    "print('F1:', f1_score(target_valid, predicted_valid_rfc))\n",
    "print(\"ROC_auc:\", roc_auc_score(target_valid, probabilites_one_valid_rfc))"
   ]
  },
  {
   "cell_type": "code",
   "execution_count": 45,
   "metadata": {},
   "outputs": [
    {
     "name": "stdout",
     "output_type": "stream",
     "text": [
      "Порог = 0.00 | Точность = 0.210, Полнота = 0.995, F1 = 0.347, ROC_auc = 0.835\n",
      "Порог = 0.02 | Точность = 0.228, Полнота = 0.989, F1 = 0.370, ROC_auc = 0.835\n",
      "Порог = 0.04 | Точность = 0.241, Полнота = 0.973, F1 = 0.386, ROC_auc = 0.835\n",
      "Порог = 0.06 | Точность = 0.250, Полнота = 0.963, F1 = 0.397, ROC_auc = 0.835\n",
      "Порог = 0.08 | Точность = 0.267, Полнота = 0.945, F1 = 0.416, ROC_auc = 0.835\n",
      "Порог = 0.10 | Точность = 0.282, Полнота = 0.928, F1 = 0.432, ROC_auc = 0.835\n",
      "Порог = 0.12 | Точность = 0.293, Полнота = 0.910, F1 = 0.444, ROC_auc = 0.835\n",
      "Порог = 0.14 | Точность = 0.306, Полнота = 0.897, F1 = 0.457, ROC_auc = 0.835\n",
      "Порог = 0.16 | Точность = 0.325, Полнота = 0.879, F1 = 0.475, ROC_auc = 0.835\n",
      "Порог = 0.18 | Точность = 0.344, Полнота = 0.867, F1 = 0.493, ROC_auc = 0.835\n",
      "Порог = 0.20 | Точность = 0.356, Полнота = 0.858, F1 = 0.503, ROC_auc = 0.835\n",
      "Порог = 0.22 | Точность = 0.372, Полнота = 0.847, F1 = 0.517, ROC_auc = 0.835\n",
      "Порог = 0.24 | Точность = 0.395, Полнота = 0.822, F1 = 0.534, ROC_auc = 0.835\n",
      "Порог = 0.26 | Точность = 0.410, Полнота = 0.805, F1 = 0.543, ROC_auc = 0.835\n",
      "Порог = 0.28 | Точность = 0.426, Полнота = 0.785, F1 = 0.553, ROC_auc = 0.835\n",
      "Порог = 0.30 | Точность = 0.443, Полнота = 0.773, F1 = 0.563, ROC_auc = 0.835\n",
      "Порог = 0.32 | Точность = 0.460, Полнота = 0.747, F1 = 0.569, ROC_auc = 0.835\n",
      "Порог = 0.34 | Точность = 0.475, Полнота = 0.733, F1 = 0.576, ROC_auc = 0.835\n",
      "Порог = 0.36 | Точность = 0.491, Полнота = 0.721, F1 = 0.584, ROC_auc = 0.835\n",
      "Порог = 0.38 | Точность = 0.506, Полнота = 0.702, F1 = 0.588, ROC_auc = 0.835\n",
      "Порог = 0.40 | Точность = 0.526, Полнота = 0.679, F1 = 0.593, ROC_auc = 0.835\n",
      "Порог = 0.42 | Точность = 0.541, Полнота = 0.665, F1 = 0.597, ROC_auc = 0.835\n",
      "Порог = 0.44 | Точность = 0.554, Полнота = 0.645, F1 = 0.596, ROC_auc = 0.835\n",
      "Порог = 0.46 | Точность = 0.567, Полнота = 0.626, F1 = 0.595, ROC_auc = 0.835\n",
      "Порог = 0.48 | Точность = 0.581, Полнота = 0.606, F1 = 0.593, ROC_auc = 0.835\n",
      "Порог = 0.50 | Точность = 0.587, Полнота = 0.591, F1 = 0.589, ROC_auc = 0.835\n",
      "Порог = 0.52 | Точность = 0.601, Полнота = 0.573, F1 = 0.587, ROC_auc = 0.835\n",
      "Порог = 0.54 | Точность = 0.606, Полнота = 0.540, F1 = 0.571, ROC_auc = 0.835\n",
      "Порог = 0.56 | Точность = 0.618, Полнота = 0.526, F1 = 0.569, ROC_auc = 0.835\n",
      "Порог = 0.58 | Точность = 0.627, Полнота = 0.512, F1 = 0.564, ROC_auc = 0.835\n",
      "Порог = 0.60 | Точность = 0.646, Полнота = 0.502, F1 = 0.565, ROC_auc = 0.835\n",
      "Порог = 0.62 | Точность = 0.672, Полнота = 0.472, F1 = 0.555, ROC_auc = 0.835\n",
      "Порог = 0.64 | Точность = 0.685, Полнота = 0.455, F1 = 0.547, ROC_auc = 0.835\n",
      "Порог = 0.66 | Точность = 0.703, Полнота = 0.438, F1 = 0.540, ROC_auc = 0.835\n",
      "Порог = 0.68 | Точность = 0.719, Полнота = 0.427, F1 = 0.536, ROC_auc = 0.835\n",
      "Порог = 0.70 | Точность = 0.726, Полнота = 0.396, F1 = 0.513, ROC_auc = 0.835\n",
      "Порог = 0.72 | Точность = 0.737, Полнота = 0.379, F1 = 0.501, ROC_auc = 0.835\n",
      "Порог = 0.74 | Точность = 0.752, Полнота = 0.369, F1 = 0.495, ROC_auc = 0.835\n",
      "Порог = 0.76 | Точность = 0.767, Полнота = 0.351, F1 = 0.481, ROC_auc = 0.835\n",
      "Порог = 0.78 | Точность = 0.777, Полнота = 0.308, F1 = 0.441, ROC_auc = 0.835\n"
     ]
    }
   ],
   "source": [
    "# Рассчитаем оптимальный порог классификации для случайного леса \n",
    "\n",
    "for threshold in np.arange(0, 0.8, 0.02):\n",
    "    predicted_valid_rfc = probabilites_one_valid_rfc > threshold \n",
    "    precision = precision_score(target_valid,predicted_valid_rfc) \n",
    "    recall = recall_score(target_valid,predicted_valid_rfc) \n",
    "    print(\"Порог = {:.2f} | Точность = {:.3f}, Полнота = {:.3f}, F1 = {:.3f}, ROC_auc = {:.3f}\".format(\n",
    "        threshold, precision, recall, f1_score(target_valid, predicted_valid_rfc), roc_auc_score(target_valid, probabilites_one_valid_rfc)))\n"
   ]
  },
  {
   "cell_type": "markdown",
   "metadata": {},
   "source": [
    "Лучший результат:\n",
    "\n",
    "\n",
    "Порог = 0.50 | Точность = 0.600, Полнота = 0.594, F1 = 0.597, ROC_auc = 0.841"
   ]
  },
  {
   "cell_type": "markdown",
   "metadata": {},
   "source": [
    "### Логистическая регрессия"
   ]
  },
  {
   "cell_type": "code",
   "execution_count": 46,
   "metadata": {},
   "outputs": [
    {
     "name": "stdout",
     "output_type": "stream",
     "text": [
      "F1: 0.5008605851979345\n",
      "ROC_auc: 0.7742635629051053\n"
     ]
    }
   ],
   "source": [
    "# Создаём модель логистической регрессии\n",
    "model_lgr = LogisticRegression(random_state = 12345, solver = 'liblinear')\n",
    "\n",
    "# Запускаем обучение\n",
    "model_lgr.fit(features_upsampled, target_upsampled)\n",
    "\n",
    "predicted_lgr = model_lgr.predict(features_valid)\n",
    "probabilites_valid_lgr = model_lgr.predict_proba(features_valid)\n",
    "probabilites_one_valid_lgr = probabilites_valid_lgr[:, 1]\n",
    "\n",
    "print('F1:', f1_score(target_valid, predicted_lgr))\n",
    "print(\"ROC_auc:\", roc_auc_score(target_valid, probabilites_one_valid_lgr))"
   ]
  },
  {
   "cell_type": "code",
   "execution_count": 47,
   "metadata": {},
   "outputs": [
    {
     "name": "stdout",
     "output_type": "stream",
     "text": [
      "Порог = 0.00 | Точность = 0.204, Полнота = 1.000, F1 = 0.339, ROC_auc = 0.774\n",
      "Порог = 0.02 | Точность = 0.204, Полнота = 1.000, F1 = 0.339, ROC_auc = 0.774\n",
      "Порог = 0.04 | Точность = 0.204, Полнота = 1.000, F1 = 0.339, ROC_auc = 0.774\n",
      "Порог = 0.06 | Точность = 0.204, Полнота = 0.999, F1 = 0.339, ROC_auc = 0.774\n",
      "Порог = 0.08 | Точность = 0.205, Полнота = 0.998, F1 = 0.340, ROC_auc = 0.774\n",
      "Порог = 0.10 | Точность = 0.207, Полнота = 0.995, F1 = 0.343, ROC_auc = 0.774\n",
      "Порог = 0.12 | Точность = 0.210, Полнота = 0.995, F1 = 0.347, ROC_auc = 0.774\n",
      "Порог = 0.14 | Точность = 0.215, Полнота = 0.991, F1 = 0.353, ROC_auc = 0.774\n",
      "Порог = 0.16 | Точность = 0.220, Полнота = 0.988, F1 = 0.360, ROC_auc = 0.774\n",
      "Порог = 0.18 | Точность = 0.226, Полнота = 0.982, F1 = 0.367, ROC_auc = 0.774\n",
      "Порог = 0.20 | Точность = 0.232, Полнота = 0.973, F1 = 0.375, ROC_auc = 0.774\n",
      "Порог = 0.22 | Точность = 0.238, Полнота = 0.966, F1 = 0.382, ROC_auc = 0.774\n",
      "Порог = 0.24 | Точность = 0.248, Полнота = 0.957, F1 = 0.393, ROC_auc = 0.774\n",
      "Порог = 0.26 | Точность = 0.255, Полнота = 0.947, F1 = 0.402, ROC_auc = 0.774\n",
      "Порог = 0.28 | Точность = 0.264, Полнота = 0.933, F1 = 0.411, ROC_auc = 0.774\n",
      "Порог = 0.30 | Точность = 0.271, Полнота = 0.923, F1 = 0.419, ROC_auc = 0.774\n",
      "Порог = 0.32 | Точность = 0.278, Полнота = 0.908, F1 = 0.426, ROC_auc = 0.774\n",
      "Порог = 0.34 | Точность = 0.289, Полнота = 0.896, F1 = 0.437, ROC_auc = 0.774\n",
      "Порог = 0.36 | Точность = 0.299, Полнота = 0.879, F1 = 0.446, ROC_auc = 0.774\n",
      "Порог = 0.38 | Точность = 0.310, Полнота = 0.860, F1 = 0.456, ROC_auc = 0.774\n",
      "Порог = 0.40 | Точность = 0.315, Полнота = 0.833, F1 = 0.457, ROC_auc = 0.774\n",
      "Порог = 0.42 | Точность = 0.331, Полнота = 0.816, F1 = 0.471, ROC_auc = 0.774\n",
      "Порог = 0.44 | Точность = 0.344, Полнота = 0.793, F1 = 0.480, ROC_auc = 0.774\n",
      "Порог = 0.46 | Точность = 0.359, Полнота = 0.775, F1 = 0.490, ROC_auc = 0.774\n",
      "Порог = 0.48 | Точность = 0.369, Полнота = 0.737, F1 = 0.492, ROC_auc = 0.774\n",
      "Порог = 0.50 | Точность = 0.386, Полнота = 0.714, F1 = 0.501, ROC_auc = 0.774\n",
      "Порог = 0.52 | Точность = 0.400, Полнота = 0.687, F1 = 0.505, ROC_auc = 0.774\n",
      "Порог = 0.54 | Точность = 0.407, Полнота = 0.659, F1 = 0.503, ROC_auc = 0.774\n",
      "Порог = 0.56 | Точность = 0.425, Полнота = 0.625, F1 = 0.506, ROC_auc = 0.774\n",
      "Порог = 0.58 | Точность = 0.436, Полнота = 0.588, F1 = 0.501, ROC_auc = 0.774\n",
      "Порог = 0.60 | Точность = 0.452, Полнота = 0.552, F1 = 0.497, ROC_auc = 0.774\n",
      "Порог = 0.62 | Точность = 0.461, Полнота = 0.513, F1 = 0.486, ROC_auc = 0.774\n",
      "Порог = 0.64 | Точность = 0.477, Полнота = 0.486, F1 = 0.481, ROC_auc = 0.774\n",
      "Порог = 0.66 | Точность = 0.503, Полнота = 0.448, F1 = 0.474, ROC_auc = 0.774\n",
      "Порог = 0.68 | Точность = 0.505, Полнота = 0.402, F1 = 0.448, ROC_auc = 0.774\n",
      "Порог = 0.70 | Точность = 0.503, Полнота = 0.363, F1 = 0.422, ROC_auc = 0.774\n",
      "Порог = 0.72 | Точность = 0.519, Полнота = 0.333, F1 = 0.405, ROC_auc = 0.774\n",
      "Порог = 0.74 | Точность = 0.528, Полнота = 0.287, F1 = 0.372, ROC_auc = 0.774\n",
      "Порог = 0.76 | Точность = 0.536, Полнота = 0.254, F1 = 0.345, ROC_auc = 0.774\n",
      "Порог = 0.78 | Точность = 0.553, Полнота = 0.223, F1 = 0.318, ROC_auc = 0.774\n"
     ]
    }
   ],
   "source": [
    "# Рассчитаем оптимальный порог классификации для логистической регрессии \n",
    "\n",
    "for threshold in np.arange(0, 0.8, 0.02):\n",
    "    predicted_valid_lgr = probabilites_one_valid_lgr > threshold \n",
    "    precision = precision_score(target_valid,predicted_valid_lgr) \n",
    "    recall = recall_score(target_valid,predicted_valid_lgr) \n",
    "    print(\"Порог = {:.2f} | Точность = {:.3f}, Полнота = {:.3f}, F1 = {:.3f}, ROC_auc = {:.3f}\".format(\n",
    "        threshold, precision, recall, f1_score(target_valid, predicted_valid_lgr), roc_auc_score(target_valid, probabilites_one_valid_lgr)))\n"
   ]
  },
  {
   "cell_type": "markdown",
   "metadata": {},
   "source": [
    "Лучший результат:\n",
    "\n",
    "    \n",
    "Порог = 0.52 | Точность = 0.400, Полнота = 0.690, F1 = 0.507, ROC_auc = 0.774"
   ]
  },
  {
   "cell_type": "markdown",
   "metadata": {},
   "source": [
    "<div class=\"alert alert-info\">\n",
    "Вывод:\n",
    "\n",
    "С увеличением выборки модели дали результат лучше, чем без борьбы с дисбалансом.\n",
    "\n",
    "После увеличения выборки лучшего результата достигла модель случайного леса, показавшая меру F1 = 0.596 и ROC_auc = 0.84.\n",
    "    \n",
    "Затем идет дерево решений с мерой F1 = 0.55 и ROC_auc = 0.80.\n",
    "    \n",
    "Модель логистической регрессии повела себя немного после увеличения выборки, мера F1 = 0.50 и ROC_auc = 0.77."
   ]
  },
  {
   "cell_type": "code",
   "execution_count": 48,
   "metadata": {},
   "outputs": [],
   "source": [
    "def downsample(features, target, fraction):\n",
    "    features_zeros = features[target == 0]\n",
    "    features_ones = features[target == 1]\n",
    "    target_zeros = target[target == 0]\n",
    "    target_ones = target[target == 1]\n",
    "\n",
    "    features_downsampled = pd.concat(\n",
    "        [features_zeros.sample(frac=fraction, random_state=12345)] + [features_ones])\n",
    "    target_downsampled = pd.concat(\n",
    "        [target_zeros.sample(frac=fraction, random_state=12345)] + [target_ones])\n",
    "    \n",
    "    features_downsampled, target_downsampled = shuffle(\n",
    "        features_downsampled, target_downsampled, random_state=12345)\n",
    "    \n",
    "    return features_downsampled, target_downsampled"
   ]
  },
  {
   "cell_type": "code",
   "execution_count": 49,
   "metadata": {},
   "outputs": [],
   "source": [
    "features_downsampled, target_downsampled = downsample(features_train, target_train, 0.25)"
   ]
  },
  {
   "cell_type": "code",
   "execution_count": 50,
   "metadata": {},
   "outputs": [
    {
     "data": {
      "text/plain": [
       "(2416, 11)"
      ]
     },
     "execution_count": 50,
     "metadata": {},
     "output_type": "execute_result"
    }
   ],
   "source": [
    "features_downsampled.shape"
   ]
  },
  {
   "cell_type": "code",
   "execution_count": 51,
   "metadata": {},
   "outputs": [
    {
     "data": {
      "text/plain": [
       "(2416,)"
      ]
     },
     "execution_count": 51,
     "metadata": {},
     "output_type": "execute_result"
    }
   ],
   "source": [
    "target_downsampled.shape"
   ]
  },
  {
   "cell_type": "markdown",
   "metadata": {},
   "source": [
    "### Дерево решений"
   ]
  },
  {
   "cell_type": "code",
   "execution_count": 52,
   "metadata": {},
   "outputs": [
    {
     "name": "stdout",
     "output_type": "stream",
     "text": [
      "F1: 0.5596330275229358\n",
      "ROC_auc: 0.8206319885198062\n"
     ]
    }
   ],
   "source": [
    "# Объявляем классификатор DecisionTreeClassifier\n",
    "model_dtc = DecisionTreeClassifier(max_depth = 7, min_samples_split = 6,\n",
    "                                       min_samples_leaf = 1, random_state = 12345)\n",
    "\n",
    "# Запускаем обучение\n",
    "model_dtc.fit(features_downsampled, target_downsampled)\n",
    "\n",
    "predicted_valid_dtc = model_dtc.predict(features_valid)\n",
    "probabilites_valid_dtc = model_dtc.predict_proba(features_valid)\n",
    "probabilites_one_valid_dtc = probabilites_valid_dtc[:, 1]\n",
    "\n",
    "\n",
    "print('F1:', f1_score(target_valid, predicted_valid_dtc))\n",
    "print(\"ROC_auc:\", roc_auc_score(target_valid, probabilites_one_valid_dtc))"
   ]
  },
  {
   "cell_type": "code",
   "execution_count": 53,
   "metadata": {},
   "outputs": [
    {
     "name": "stdout",
     "output_type": "stream",
     "text": [
      "Порог = 0.00 | Точность = 0.208, Полнота = 0.968, F1 = 0.343, ROC_auc = 0.821\n",
      "Порог = 0.02 | Точность = 0.237, Полнота = 0.961, F1 = 0.380, ROC_auc = 0.821\n",
      "Порог = 0.04 | Точность = 0.237, Полнота = 0.961, F1 = 0.380, ROC_auc = 0.821\n",
      "Порог = 0.06 | Точность = 0.239, Полнота = 0.955, F1 = 0.382, ROC_auc = 0.821\n",
      "Порог = 0.08 | Точность = 0.242, Полнота = 0.952, F1 = 0.386, ROC_auc = 0.821\n",
      "Порог = 0.10 | Точность = 0.246, Полнота = 0.952, F1 = 0.391, ROC_auc = 0.821\n",
      "Порог = 0.12 | Точность = 0.246, Полнота = 0.952, F1 = 0.391, ROC_auc = 0.821\n",
      "Порог = 0.14 | Точность = 0.246, Полнота = 0.952, F1 = 0.391, ROC_auc = 0.821\n",
      "Порог = 0.16 | Точность = 0.287, Полнота = 0.924, F1 = 0.438, ROC_auc = 0.821\n",
      "Порог = 0.18 | Точность = 0.287, Полнота = 0.924, F1 = 0.438, ROC_auc = 0.821\n",
      "Порог = 0.20 | Точность = 0.304, Полнота = 0.910, F1 = 0.455, ROC_auc = 0.821\n",
      "Порог = 0.22 | Точность = 0.304, Полнота = 0.910, F1 = 0.455, ROC_auc = 0.821\n",
      "Порог = 0.24 | Точность = 0.324, Полнота = 0.890, F1 = 0.475, ROC_auc = 0.821\n",
      "Порог = 0.26 | Точность = 0.324, Полнота = 0.890, F1 = 0.475, ROC_auc = 0.821\n",
      "Порог = 0.28 | Точность = 0.331, Полнота = 0.863, F1 = 0.479, ROC_auc = 0.821\n",
      "Порог = 0.30 | Точность = 0.331, Полнота = 0.863, F1 = 0.479, ROC_auc = 0.821\n",
      "Порог = 0.32 | Точность = 0.402, Полнота = 0.812, F1 = 0.538, ROC_auc = 0.821\n",
      "Порог = 0.34 | Точность = 0.403, Полнота = 0.811, F1 = 0.538, ROC_auc = 0.821\n",
      "Порог = 0.36 | Точность = 0.436, Полнота = 0.764, F1 = 0.555, ROC_auc = 0.821\n",
      "Порог = 0.38 | Точность = 0.436, Полнота = 0.764, F1 = 0.555, ROC_auc = 0.821\n",
      "Порог = 0.40 | Точность = 0.444, Полнота = 0.756, F1 = 0.559, ROC_auc = 0.821\n",
      "Порог = 0.42 | Точность = 0.444, Полнота = 0.756, F1 = 0.559, ROC_auc = 0.821\n",
      "Порог = 0.44 | Точность = 0.444, Полнота = 0.756, F1 = 0.559, ROC_auc = 0.821\n",
      "Порог = 0.46 | Точность = 0.444, Полнота = 0.756, F1 = 0.559, ROC_auc = 0.821\n",
      "Порог = 0.48 | Точность = 0.444, Полнота = 0.756, F1 = 0.559, ROC_auc = 0.821\n",
      "Порог = 0.50 | Точность = 0.447, Полнота = 0.748, F1 = 0.560, ROC_auc = 0.821\n",
      "Порог = 0.52 | Точность = 0.447, Полнота = 0.748, F1 = 0.560, ROC_auc = 0.821\n",
      "Порог = 0.54 | Точность = 0.447, Полнота = 0.748, F1 = 0.560, ROC_auc = 0.821\n",
      "Порог = 0.56 | Точность = 0.485, Полнота = 0.701, F1 = 0.573, ROC_auc = 0.821\n",
      "Порог = 0.58 | Точность = 0.492, Полнота = 0.699, F1 = 0.578, ROC_auc = 0.821\n",
      "Порог = 0.60 | Точность = 0.513, Полнота = 0.680, F1 = 0.585, ROC_auc = 0.821\n",
      "Порог = 0.62 | Точность = 0.513, Полнота = 0.680, F1 = 0.585, ROC_auc = 0.821\n",
      "Порог = 0.64 | Точность = 0.513, Полнота = 0.680, F1 = 0.585, ROC_auc = 0.821\n",
      "Порог = 0.66 | Точность = 0.513, Полнота = 0.680, F1 = 0.585, ROC_auc = 0.821\n",
      "Порог = 0.68 | Точность = 0.513, Полнота = 0.680, F1 = 0.585, ROC_auc = 0.821\n",
      "Порог = 0.70 | Точность = 0.513, Полнота = 0.680, F1 = 0.585, ROC_auc = 0.821\n",
      "Порог = 0.72 | Точность = 0.513, Полнота = 0.680, F1 = 0.585, ROC_auc = 0.821\n",
      "Порог = 0.74 | Точность = 0.513, Полнота = 0.680, F1 = 0.585, ROC_auc = 0.821\n",
      "Порог = 0.76 | Точность = 0.563, Полнота = 0.612, F1 = 0.587, ROC_auc = 0.821\n",
      "Порог = 0.78 | Точность = 0.586, Полнота = 0.562, F1 = 0.574, ROC_auc = 0.821\n"
     ]
    }
   ],
   "source": [
    "# Рассчитаем оптимальный порог классификации для дерева решений \n",
    "\n",
    "for threshold in np.arange(0, 0.8, 0.02):\n",
    "    predicted_valid_dtc = probabilites_one_valid_dtc > threshold \n",
    "    precision = precision_score(target_valid,predicted_valid_dtc) \n",
    "    recall = recall_score(target_valid,predicted_valid_dtc) \n",
    "    print(\"Порог = {:.2f} | Точность = {:.3f}, Полнота = {:.3f}, F1 = {:.3f}, ROC_auc = {:.3f}\".format(\n",
    "        threshold, precision, recall, f1_score(target_valid, predicted_valid_dtc), roc_auc_score(target_valid, probabilites_one_valid_dtc)))\n"
   ]
  },
  {
   "cell_type": "markdown",
   "metadata": {},
   "source": [
    "Лучший результат:\n",
    "\n",
    "Порог = 0.68 | Точность = 0.515, Полнота = 0.674, F1 = 0.584, ROC_auc = 0.818"
   ]
  },
  {
   "cell_type": "markdown",
   "metadata": {},
   "source": [
    "### Случайный лес"
   ]
  },
  {
   "cell_type": "code",
   "execution_count": 54,
   "metadata": {},
   "outputs": [
    {
     "name": "stdout",
     "output_type": "stream",
     "text": [
      "F1: 0.5569160997732426\n",
      "ROC_auc: 0.8405709277576061\n"
     ]
    }
   ],
   "source": [
    "# Создаём модель случайного леса\n",
    "model_rfc = RandomForestClassifier(n_estimators = 13, max_depth = 14, min_samples_split = 2,\n",
    "                                       min_samples_leaf = 1, random_state = 12345)\n",
    "\n",
    "# Запускаем обучение\n",
    "model_rfc.fit(features_downsampled, target_downsampled)\n",
    "\n",
    "predicted_valid_rfc = model_rfc.predict(features_valid)\n",
    "probabilites_valid_rfc = model_rfc.predict_proba(features_valid)\n",
    "probabilites_one_valid_rfc = probabilites_valid_rfc[:, 1]\n",
    "\n",
    "print('F1:', f1_score(target_valid, predicted_valid_rfc))\n",
    "print(\"ROC_auc:\", roc_auc_score(target_valid, probabilites_one_valid_rfc))"
   ]
  },
  {
   "cell_type": "code",
   "execution_count": 55,
   "metadata": {},
   "outputs": [
    {
     "name": "stdout",
     "output_type": "stream",
     "text": [
      "Порог = 0.00 | Точность = 0.212, Полнота = 0.999, F1 = 0.350, ROC_auc = 0.841\n",
      "Порог = 0.02 | Точность = 0.216, Полнота = 0.999, F1 = 0.355, ROC_auc = 0.841\n",
      "Порог = 0.04 | Точность = 0.219, Полнота = 0.995, F1 = 0.359, ROC_auc = 0.841\n",
      "Порог = 0.06 | Точность = 0.220, Полнота = 0.994, F1 = 0.360, ROC_auc = 0.841\n",
      "Порог = 0.08 | Точность = 0.235, Полнота = 0.985, F1 = 0.379, ROC_auc = 0.841\n",
      "Порог = 0.10 | Точность = 0.243, Полнота = 0.982, F1 = 0.390, ROC_auc = 0.841\n",
      "Порог = 0.12 | Точность = 0.248, Полнота = 0.979, F1 = 0.395, ROC_auc = 0.841\n",
      "Порог = 0.14 | Точность = 0.250, Полнота = 0.978, F1 = 0.398, ROC_auc = 0.841\n",
      "Порог = 0.16 | Точность = 0.267, Полнота = 0.966, F1 = 0.419, ROC_auc = 0.841\n",
      "Порог = 0.18 | Точность = 0.274, Полнота = 0.956, F1 = 0.426, ROC_auc = 0.841\n",
      "Порог = 0.20 | Точность = 0.280, Полнота = 0.951, F1 = 0.432, ROC_auc = 0.841\n",
      "Порог = 0.22 | Точность = 0.282, Полнота = 0.948, F1 = 0.435, ROC_auc = 0.841\n",
      "Порог = 0.24 | Точность = 0.303, Полнота = 0.928, F1 = 0.457, ROC_auc = 0.841\n",
      "Порог = 0.26 | Точность = 0.312, Полнота = 0.917, F1 = 0.465, ROC_auc = 0.841\n",
      "Порог = 0.28 | Точность = 0.316, Полнота = 0.910, F1 = 0.469, ROC_auc = 0.841\n",
      "Порог = 0.30 | Точность = 0.321, Полнота = 0.908, F1 = 0.474, ROC_auc = 0.841\n",
      "Порог = 0.32 | Точность = 0.344, Полнота = 0.886, F1 = 0.496, ROC_auc = 0.841\n",
      "Порог = 0.34 | Точность = 0.350, Полнота = 0.876, F1 = 0.501, ROC_auc = 0.841\n",
      "Порог = 0.36 | Точность = 0.357, Полнота = 0.870, F1 = 0.506, ROC_auc = 0.841\n",
      "Порог = 0.38 | Точность = 0.359, Полнота = 0.859, F1 = 0.507, ROC_auc = 0.841\n",
      "Порог = 0.40 | Точность = 0.383, Полнота = 0.823, F1 = 0.523, ROC_auc = 0.841\n",
      "Порог = 0.42 | Точность = 0.393, Полнота = 0.817, F1 = 0.531, ROC_auc = 0.841\n",
      "Порог = 0.44 | Точность = 0.401, Полнота = 0.806, F1 = 0.536, ROC_auc = 0.841\n",
      "Порог = 0.46 | Точность = 0.407, Полнота = 0.800, F1 = 0.539, ROC_auc = 0.841\n",
      "Порог = 0.48 | Точность = 0.429, Полнота = 0.760, F1 = 0.549, ROC_auc = 0.841\n",
      "Порог = 0.50 | Точность = 0.442, Полнота = 0.753, F1 = 0.557, ROC_auc = 0.841\n",
      "Порог = 0.52 | Точность = 0.447, Полнота = 0.744, F1 = 0.558, ROC_auc = 0.841\n",
      "Порог = 0.54 | Точность = 0.479, Полнота = 0.710, F1 = 0.572, ROC_auc = 0.841\n",
      "Порог = 0.56 | Точность = 0.488, Полнота = 0.701, F1 = 0.576, ROC_auc = 0.841\n",
      "Порог = 0.58 | Точность = 0.503, Полнота = 0.688, F1 = 0.581, ROC_auc = 0.841\n",
      "Порог = 0.60 | Точность = 0.514, Полнота = 0.677, F1 = 0.585, ROC_auc = 0.841\n",
      "Порог = 0.62 | Точность = 0.557, Полнота = 0.637, F1 = 0.594, ROC_auc = 0.841\n",
      "Порог = 0.64 | Точность = 0.576, Полнота = 0.627, F1 = 0.600, ROC_auc = 0.841\n",
      "Порог = 0.66 | Точность = 0.584, Полнота = 0.616, F1 = 0.599, ROC_auc = 0.841\n",
      "Порог = 0.68 | Точность = 0.592, Полнота = 0.606, F1 = 0.599, ROC_auc = 0.841\n",
      "Порог = 0.70 | Точность = 0.631, Полнота = 0.551, F1 = 0.588, ROC_auc = 0.841\n",
      "Порог = 0.72 | Точность = 0.633, Полнота = 0.534, F1 = 0.579, ROC_auc = 0.841\n",
      "Порог = 0.74 | Точность = 0.652, Полнота = 0.524, F1 = 0.581, ROC_auc = 0.841\n",
      "Порог = 0.76 | Точность = 0.669, Полнота = 0.510, F1 = 0.579, ROC_auc = 0.841\n",
      "Порог = 0.78 | Точность = 0.712, Полнота = 0.434, F1 = 0.540, ROC_auc = 0.841\n"
     ]
    }
   ],
   "source": [
    "# Рассчитаем оптимальный порог классификации для случайного леса \n",
    "\n",
    "for threshold in np.arange(0, 0.8, 0.02):\n",
    "    predicted_valid_rfc = probabilites_one_valid_rfc > threshold \n",
    "    precision = precision_score(target_valid,predicted_valid_rfc) \n",
    "    recall = recall_score(target_valid,predicted_valid_rfc) \n",
    "    print(\"Порог = {:.2f} | Точность = {:.3f}, Полнота = {:.3f}, F1 = {:.3f}, ROC_auc = {:.3f}\".format(\n",
    "        threshold, precision, recall, f1_score(target_valid, predicted_valid_rfc), roc_auc_score(target_valid, probabilites_one_valid_rfc)))\n"
   ]
  },
  {
   "cell_type": "markdown",
   "metadata": {},
   "source": [
    "Лучший результат:\n",
    "\n",
    "\n",
    "Порог = 0.62 | Точность = 0.560, Полнота = 0.645, F1 = 0.599, ROC_auc = 0.835"
   ]
  },
  {
   "cell_type": "markdown",
   "metadata": {},
   "source": [
    "### Логистическая регрессия"
   ]
  },
  {
   "cell_type": "code",
   "execution_count": 56,
   "metadata": {},
   "outputs": [
    {
     "name": "stdout",
     "output_type": "stream",
     "text": [
      "F1: 0.5025728987993139\n",
      "ROC_auc: 0.7724899114907879\n"
     ]
    }
   ],
   "source": [
    "# Создаём модель логистической регрессии\n",
    "model_lgr = LogisticRegression(random_state = 12345, solver = 'liblinear')\n",
    "\n",
    "# Запускаем обучение\n",
    "model_lgr.fit(features_downsampled, target_downsampled)\n",
    "\n",
    "predicted_lgr = model_lgr.predict(features_valid)\n",
    "probabilites_valid_lgr = model_lgr.predict_proba(features_valid)\n",
    "probabilites_one_valid_lgr = probabilites_valid_lgr[:, 1]\n",
    "\n",
    "print('F1:', f1_score(target_valid, predicted_lgr))\n",
    "print(\"ROC_auc:\", roc_auc_score(target_valid, probabilites_one_valid_lgr))"
   ]
  },
  {
   "cell_type": "code",
   "execution_count": 57,
   "metadata": {},
   "outputs": [
    {
     "name": "stdout",
     "output_type": "stream",
     "text": [
      "Порог = 0.00 | Точность = 0.204, Полнота = 1.000, F1 = 0.339, ROC_auc = 0.772\n",
      "Порог = 0.02 | Точность = 0.204, Полнота = 1.000, F1 = 0.339, ROC_auc = 0.772\n",
      "Порог = 0.04 | Точность = 0.204, Полнота = 1.000, F1 = 0.339, ROC_auc = 0.772\n",
      "Порог = 0.06 | Точность = 0.204, Полнота = 0.999, F1 = 0.339, ROC_auc = 0.772\n",
      "Порог = 0.08 | Точность = 0.205, Полнота = 0.996, F1 = 0.340, ROC_auc = 0.772\n",
      "Порог = 0.10 | Точность = 0.207, Полнота = 0.996, F1 = 0.343, ROC_auc = 0.772\n",
      "Порог = 0.12 | Точность = 0.210, Полнота = 0.994, F1 = 0.347, ROC_auc = 0.772\n",
      "Порог = 0.14 | Точность = 0.215, Полнота = 0.991, F1 = 0.353, ROC_auc = 0.772\n",
      "Порог = 0.16 | Точность = 0.220, Полнота = 0.988, F1 = 0.360, ROC_auc = 0.772\n",
      "Порог = 0.18 | Точность = 0.225, Полнота = 0.978, F1 = 0.365, ROC_auc = 0.772\n",
      "Порог = 0.20 | Точность = 0.231, Полнота = 0.969, F1 = 0.373, ROC_auc = 0.772\n",
      "Порог = 0.22 | Точность = 0.238, Полнота = 0.960, F1 = 0.381, ROC_auc = 0.772\n",
      "Порог = 0.24 | Точность = 0.246, Полнота = 0.953, F1 = 0.391, ROC_auc = 0.772\n",
      "Порог = 0.26 | Точность = 0.254, Полнота = 0.941, F1 = 0.401, ROC_auc = 0.772\n",
      "Порог = 0.28 | Точность = 0.262, Полнота = 0.929, F1 = 0.409, ROC_auc = 0.772\n",
      "Порог = 0.30 | Точность = 0.271, Полнота = 0.918, F1 = 0.418, ROC_auc = 0.772\n",
      "Порог = 0.32 | Точность = 0.279, Полнота = 0.903, F1 = 0.427, ROC_auc = 0.772\n",
      "Порог = 0.34 | Точность = 0.289, Полнота = 0.890, F1 = 0.436, ROC_auc = 0.772\n",
      "Порог = 0.36 | Точность = 0.300, Полнота = 0.880, F1 = 0.448, ROC_auc = 0.772\n",
      "Порог = 0.38 | Точность = 0.310, Полнота = 0.856, F1 = 0.456, ROC_auc = 0.772\n",
      "Порог = 0.40 | Точность = 0.319, Полнота = 0.831, F1 = 0.461, ROC_auc = 0.772\n",
      "Порог = 0.42 | Точность = 0.331, Полнота = 0.812, F1 = 0.471, ROC_auc = 0.772\n",
      "Порог = 0.44 | Точность = 0.343, Полнота = 0.793, F1 = 0.479, ROC_auc = 0.772\n",
      "Порог = 0.46 | Точность = 0.356, Полнота = 0.768, F1 = 0.486, ROC_auc = 0.772\n",
      "Порог = 0.48 | Точность = 0.374, Полнота = 0.742, F1 = 0.498, ROC_auc = 0.772\n",
      "Порог = 0.50 | Точность = 0.386, Полнота = 0.719, F1 = 0.503, ROC_auc = 0.772\n",
      "Порог = 0.52 | Точность = 0.401, Полнота = 0.690, F1 = 0.507, ROC_auc = 0.772\n",
      "Порог = 0.54 | Точность = 0.412, Полнота = 0.658, F1 = 0.506, ROC_auc = 0.772\n",
      "Порог = 0.56 | Точность = 0.420, Полнота = 0.625, F1 = 0.502, ROC_auc = 0.772\n",
      "Порог = 0.58 | Точность = 0.438, Полнота = 0.590, F1 = 0.503, ROC_auc = 0.772\n",
      "Порог = 0.60 | Точность = 0.447, Полнота = 0.548, F1 = 0.492, ROC_auc = 0.772\n",
      "Порог = 0.62 | Точность = 0.458, Полнота = 0.507, F1 = 0.481, ROC_auc = 0.772\n",
      "Порог = 0.64 | Точность = 0.472, Полнота = 0.480, F1 = 0.476, ROC_auc = 0.772\n",
      "Порог = 0.66 | Точность = 0.493, Полнота = 0.440, F1 = 0.465, ROC_auc = 0.772\n",
      "Порог = 0.68 | Точность = 0.505, Полнота = 0.410, F1 = 0.452, ROC_auc = 0.772\n",
      "Порог = 0.70 | Точность = 0.503, Полнота = 0.367, F1 = 0.424, ROC_auc = 0.772\n",
      "Порог = 0.72 | Точность = 0.508, Полнота = 0.336, F1 = 0.405, ROC_auc = 0.772\n",
      "Порог = 0.74 | Точность = 0.516, Полнота = 0.298, F1 = 0.378, ROC_auc = 0.772\n",
      "Порог = 0.76 | Точность = 0.544, Полнота = 0.265, F1 = 0.356, ROC_auc = 0.772\n",
      "Порог = 0.78 | Точность = 0.553, Полнота = 0.237, F1 = 0.332, ROC_auc = 0.772\n"
     ]
    }
   ],
   "source": [
    "# Рассчитаем оптимальный порог классификации для логистической регрессии \n",
    "\n",
    "for threshold in np.arange(0, 0.8, 0.02):\n",
    "    predicted_valid_lgr = probabilites_one_valid_lgr > threshold \n",
    "    precision = precision_score(target_valid,predicted_valid_lgr) \n",
    "    recall = recall_score(target_valid,predicted_valid_lgr) \n",
    "    print(\"Порог = {:.2f} | Точность = {:.3f}, Полнота = {:.3f}, F1 = {:.3f}, ROC_auc = {:.3f}\".format(\n",
    "        threshold, precision, recall, f1_score(target_valid, predicted_valid_lgr), roc_auc_score(target_valid, probabilites_one_valid_lgr)))\n"
   ]
  },
  {
   "cell_type": "markdown",
   "metadata": {},
   "source": [
    "Лучший результат:\n",
    "\n",
    "Порог = 0.54 | Точность = 0.413, Полнота = 0.660, F1 = 0.508, ROC_auc = 0.772"
   ]
  },
  {
   "cell_type": "markdown",
   "metadata": {},
   "source": [
    "<div class=\"alert alert-info\">\n",
    "Вывод:\n",
    "\n",
    "С уменьшением выборки, модели дали такие же результаты.\n",
    "\n",
    "После уменьшения выборки лучшего результата достигла модель случайного леса, показавшая меру F1 = 0.599 и ROC_auc = 0.83 при пороге 0,62.\n",
    "    \n",
    "Затем идет дерево решений с мерой F1 = 0.584 и ROC_auc = 0.81 при пороге 0,68.\n",
    "    \n",
    "Модель логистической регрессии повела себя немного после уменьшения выборки, мера F1 = 0.50 и ROC_auc = 0.77 при пороге 0,54."
   ]
  },
  {
   "cell_type": "markdown",
   "metadata": {},
   "source": [
    "### Попробуем метод борьбы с дисбалансом с помощью параметра class_weight"
   ]
  },
  {
   "cell_type": "markdown",
   "metadata": {},
   "source": [
    "### Дерево решений\n"
   ]
  },
  {
   "cell_type": "code",
   "execution_count": 58,
   "metadata": {},
   "outputs": [
    {
     "name": "stdout",
     "output_type": "stream",
     "text": [
      "F1: 0.5618486633439058\n",
      "ROC_auc: 0.8088002619641533\n"
     ]
    }
   ],
   "source": [
    "# Объявляем классификатор DecisionTreeClassifier\n",
    "model_dtc = DecisionTreeClassifier(class_weight = 'balanced', max_depth = 7, min_samples_split = 6,\n",
    "                                       min_samples_leaf = 1, random_state = 12345)\n",
    "# Запускаем обучение\n",
    "model_dtc.fit(features_train, target_train)\n",
    "\n",
    "predicted_valid_dtc = model_dtc.predict(features_valid)\n",
    "probabilites_valid_dtc = model_dtc.predict_proba(features_valid)\n",
    "probabilites_one_valid_dtc = probabilites_valid_dtc[:, 1]\n",
    "\n",
    "\n",
    "print('F1:', f1_score(target_valid, predicted_valid_dtc))\n",
    "print(\"ROC_auc:\", roc_auc_score(target_valid, probabilites_one_valid_dtc))"
   ]
  },
  {
   "cell_type": "code",
   "execution_count": 59,
   "metadata": {},
   "outputs": [
    {
     "name": "stdout",
     "output_type": "stream",
     "text": [
      "Порог = 0.00 | Точность = 0.202, Полнота = 0.947, F1 = 0.333, ROC_auc = 0.809\n",
      "Порог = 0.02 | Точность = 0.225, Полнота = 0.942, F1 = 0.364, ROC_auc = 0.809\n",
      "Порог = 0.04 | Точность = 0.225, Полнота = 0.942, F1 = 0.364, ROC_auc = 0.809\n",
      "Порог = 0.06 | Точность = 0.243, Полнота = 0.924, F1 = 0.385, ROC_auc = 0.809\n",
      "Порог = 0.08 | Точность = 0.243, Полнота = 0.924, F1 = 0.385, ROC_auc = 0.809\n",
      "Порог = 0.10 | Точность = 0.246, Полнота = 0.918, F1 = 0.388, ROC_auc = 0.809\n",
      "Порог = 0.12 | Точность = 0.254, Полнота = 0.915, F1 = 0.398, ROC_auc = 0.809\n",
      "Порог = 0.14 | Точность = 0.258, Полнота = 0.902, F1 = 0.401, ROC_auc = 0.809\n",
      "Порог = 0.16 | Точность = 0.283, Полнота = 0.887, F1 = 0.429, ROC_auc = 0.809\n",
      "Порог = 0.18 | Точность = 0.301, Полнота = 0.877, F1 = 0.448, ROC_auc = 0.809\n",
      "Порог = 0.20 | Точность = 0.301, Полнота = 0.877, F1 = 0.448, ROC_auc = 0.809\n",
      "Порог = 0.22 | Точность = 0.330, Полнота = 0.852, F1 = 0.476, ROC_auc = 0.809\n",
      "Порог = 0.24 | Точность = 0.330, Полнота = 0.852, F1 = 0.476, ROC_auc = 0.809\n",
      "Порог = 0.26 | Точность = 0.330, Полнота = 0.852, F1 = 0.476, ROC_auc = 0.809\n",
      "Порог = 0.28 | Точность = 0.339, Полнота = 0.837, F1 = 0.483, ROC_auc = 0.809\n",
      "Порог = 0.30 | Точность = 0.384, Полнота = 0.806, F1 = 0.520, ROC_auc = 0.809\n",
      "Порог = 0.32 | Точность = 0.384, Полнота = 0.806, F1 = 0.520, ROC_auc = 0.809\n",
      "Порог = 0.34 | Точность = 0.384, Полнота = 0.806, F1 = 0.520, ROC_auc = 0.809\n",
      "Порог = 0.36 | Точность = 0.394, Полнота = 0.805, F1 = 0.529, ROC_auc = 0.809\n",
      "Порог = 0.38 | Точность = 0.399, Полнота = 0.785, F1 = 0.529, ROC_auc = 0.809\n",
      "Порог = 0.40 | Точность = 0.411, Полнота = 0.778, F1 = 0.538, ROC_auc = 0.809\n",
      "Порог = 0.42 | Точность = 0.427, Полнота = 0.768, F1 = 0.549, ROC_auc = 0.809\n",
      "Порог = 0.44 | Точность = 0.427, Полнота = 0.768, F1 = 0.549, ROC_auc = 0.809\n",
      "Порог = 0.46 | Точность = 0.427, Полнота = 0.768, F1 = 0.549, ROC_auc = 0.809\n",
      "Порог = 0.48 | Точность = 0.434, Полнота = 0.766, F1 = 0.554, ROC_auc = 0.809\n",
      "Порог = 0.50 | Точность = 0.445, Полнота = 0.761, F1 = 0.562, ROC_auc = 0.809\n",
      "Порог = 0.52 | Точность = 0.445, Полнота = 0.761, F1 = 0.562, ROC_auc = 0.809\n",
      "Порог = 0.54 | Точность = 0.445, Полнота = 0.761, F1 = 0.562, ROC_auc = 0.809\n",
      "Порог = 0.56 | Точность = 0.482, Полнота = 0.706, F1 = 0.573, ROC_auc = 0.809\n",
      "Порог = 0.58 | Точность = 0.522, Полнота = 0.666, F1 = 0.585, ROC_auc = 0.809\n",
      "Порог = 0.60 | Точность = 0.522, Полнота = 0.666, F1 = 0.585, ROC_auc = 0.809\n",
      "Порог = 0.62 | Точность = 0.522, Полнота = 0.666, F1 = 0.585, ROC_auc = 0.809\n",
      "Порог = 0.64 | Точность = 0.557, Полнота = 0.591, F1 = 0.574, ROC_auc = 0.809\n",
      "Порог = 0.66 | Точность = 0.557, Полнота = 0.591, F1 = 0.574, ROC_auc = 0.809\n",
      "Порог = 0.68 | Точность = 0.561, Полнота = 0.573, F1 = 0.567, ROC_auc = 0.809\n",
      "Порог = 0.70 | Точность = 0.592, Полнота = 0.558, F1 = 0.574, ROC_auc = 0.809\n",
      "Порог = 0.72 | Точность = 0.637, Полнота = 0.519, F1 = 0.572, ROC_auc = 0.809\n",
      "Порог = 0.74 | Точность = 0.701, Полнота = 0.472, F1 = 0.565, ROC_auc = 0.809\n",
      "Порог = 0.76 | Точность = 0.702, Полнота = 0.460, F1 = 0.556, ROC_auc = 0.809\n",
      "Порог = 0.78 | Точность = 0.702, Полнота = 0.460, F1 = 0.556, ROC_auc = 0.809\n"
     ]
    }
   ],
   "source": [
    "# Рассчитаем оптимальный порог классификации для дерева решений с параметром class_weight = 'balanced'\n",
    "\n",
    "for threshold in np.arange(0, 0.8, 0.02):\n",
    "    predicted_valid_dtc = probabilites_one_valid_dtc > threshold \n",
    "    precision = precision_score(target_valid,predicted_valid_dtc) \n",
    "    recall = recall_score(target_valid,predicted_valid_dtc) \n",
    "    print(\"Порог = {:.2f} | Точность = {:.3f}, Полнота = {:.3f}, F1 = {:.3f}, ROC_auc = {:.3f}\".format(\n",
    "        threshold, precision, recall, f1_score(target_valid, predicted_valid_dtc), roc_auc_score(target_valid, probabilites_one_valid_dtc)))"
   ]
  },
  {
   "cell_type": "markdown",
   "metadata": {},
   "source": [
    "Лучший результат:\n",
    "\n",
    "Порог = 0.62 | Точность = 0.524, Полнота = 0.663, F1 = 0.585, ROC_auc = 0.810"
   ]
  },
  {
   "cell_type": "markdown",
   "metadata": {},
   "source": [
    "### Случайный лес"
   ]
  },
  {
   "cell_type": "code",
   "execution_count": 60,
   "metadata": {},
   "outputs": [
    {
     "name": "stdout",
     "output_type": "stream",
     "text": [
      "F1: 0.554765291607397\n",
      "ROC_auc: 0.8364134025483719\n"
     ]
    }
   ],
   "source": [
    "# Создаём модель случайного леса \n",
    "model_rfc = RandomForestClassifier(class_weight = 'balanced', n_estimators = 13, max_depth = 14, min_samples_split = 2,\n",
    "                                       min_samples_leaf = 1, random_state = 12345)\n",
    "# Запускаем обучение\n",
    "model_rfc.fit(features_train, target_train)\n",
    "\n",
    "predicted_valid_rfc = model_rfc.predict(features_valid)\n",
    "probabilites_valid_rfc = model_rfc.predict_proba(features_valid)\n",
    "probabilites_one_valid_rfc = probabilites_valid_rfc[:, 1]\n",
    "\n",
    "print('F1:', f1_score(target_valid, predicted_valid_rfc))\n",
    "print(\"ROC_auc:\", roc_auc_score(target_valid, probabilites_one_valid_rfc))"
   ]
  },
  {
   "cell_type": "code",
   "execution_count": 61,
   "metadata": {},
   "outputs": [
    {
     "name": "stdout",
     "output_type": "stream",
     "text": [
      "Порог = 0.00 | Точность = 0.225, Полнота = 0.983, F1 = 0.366, ROC_auc = 0.836\n",
      "Порог = 0.02 | Точность = 0.244, Полнота = 0.975, F1 = 0.390, ROC_auc = 0.836\n",
      "Порог = 0.04 | Точность = 0.258, Полнота = 0.968, F1 = 0.408, ROC_auc = 0.836\n",
      "Порог = 0.06 | Точность = 0.273, Полнота = 0.958, F1 = 0.425, ROC_auc = 0.836\n",
      "Порог = 0.08 | Точность = 0.298, Полнота = 0.923, F1 = 0.450, ROC_auc = 0.836\n",
      "Порог = 0.10 | Точность = 0.310, Полнота = 0.906, F1 = 0.462, ROC_auc = 0.836\n",
      "Порог = 0.12 | Точность = 0.324, Полнота = 0.891, F1 = 0.475, ROC_auc = 0.836\n",
      "Порог = 0.14 | Точность = 0.341, Полнота = 0.874, F1 = 0.490, ROC_auc = 0.836\n",
      "Порог = 0.16 | Точность = 0.366, Полнота = 0.848, F1 = 0.511, ROC_auc = 0.836\n",
      "Порог = 0.18 | Точность = 0.380, Полнота = 0.813, F1 = 0.518, ROC_auc = 0.836\n",
      "Порог = 0.20 | Точность = 0.401, Полнота = 0.801, F1 = 0.534, ROC_auc = 0.836\n",
      "Порог = 0.22 | Точность = 0.421, Полнота = 0.782, F1 = 0.547, ROC_auc = 0.836\n",
      "Порог = 0.24 | Точность = 0.443, Полнота = 0.753, F1 = 0.558, ROC_auc = 0.836\n",
      "Порог = 0.26 | Точность = 0.460, Полнота = 0.744, F1 = 0.568, ROC_auc = 0.836\n",
      "Порог = 0.28 | Точность = 0.477, Полнота = 0.723, F1 = 0.575, ROC_auc = 0.836\n",
      "Порог = 0.30 | Точность = 0.501, Полнота = 0.699, F1 = 0.584, ROC_auc = 0.836\n",
      "Порог = 0.32 | Точность = 0.523, Полнота = 0.666, F1 = 0.586, ROC_auc = 0.836\n",
      "Порог = 0.34 | Точность = 0.541, Полнота = 0.654, F1 = 0.592, ROC_auc = 0.836\n",
      "Порог = 0.36 | Точность = 0.553, Полнота = 0.633, F1 = 0.590, ROC_auc = 0.836\n",
      "Порог = 0.38 | Точность = 0.569, Полнота = 0.612, F1 = 0.590, ROC_auc = 0.836\n",
      "Порог = 0.40 | Точность = 0.585, Полнота = 0.587, F1 = 0.586, ROC_auc = 0.836\n",
      "Порог = 0.42 | Точность = 0.595, Полнота = 0.571, F1 = 0.582, ROC_auc = 0.836\n",
      "Порог = 0.44 | Точность = 0.614, Полнота = 0.545, F1 = 0.577, ROC_auc = 0.836\n",
      "Порог = 0.46 | Точность = 0.627, Полнота = 0.526, F1 = 0.572, ROC_auc = 0.836\n",
      "Порог = 0.48 | Точность = 0.641, Полнота = 0.493, F1 = 0.558, ROC_auc = 0.836\n",
      "Порог = 0.50 | Точность = 0.660, Полнота = 0.479, F1 = 0.555, ROC_auc = 0.836\n",
      "Порог = 0.52 | Точность = 0.682, Полнота = 0.464, F1 = 0.552, ROC_auc = 0.836\n",
      "Порог = 0.54 | Точность = 0.709, Полнота = 0.440, F1 = 0.544, ROC_auc = 0.836\n",
      "Порог = 0.56 | Точность = 0.717, Полнота = 0.426, F1 = 0.534, ROC_auc = 0.836\n",
      "Порог = 0.58 | Точность = 0.730, Полнота = 0.411, F1 = 0.526, ROC_auc = 0.836\n",
      "Порог = 0.60 | Точность = 0.745, Полнота = 0.402, F1 = 0.523, ROC_auc = 0.836\n",
      "Порог = 0.62 | Точность = 0.756, Полнота = 0.364, F1 = 0.492, ROC_auc = 0.836\n",
      "Порог = 0.64 | Точность = 0.779, Полнота = 0.355, F1 = 0.487, ROC_auc = 0.836\n",
      "Порог = 0.66 | Точность = 0.799, Полнота = 0.347, F1 = 0.484, ROC_auc = 0.836\n",
      "Порог = 0.68 | Точность = 0.811, Полнота = 0.331, F1 = 0.470, ROC_auc = 0.836\n",
      "Порог = 0.70 | Точность = 0.823, Полнота = 0.291, F1 = 0.430, ROC_auc = 0.836\n",
      "Порог = 0.72 | Точность = 0.830, Полнота = 0.281, F1 = 0.420, ROC_auc = 0.836\n",
      "Порог = 0.74 | Точность = 0.839, Полнота = 0.275, F1 = 0.414, ROC_auc = 0.836\n",
      "Порог = 0.76 | Точность = 0.842, Полнота = 0.249, F1 = 0.384, ROC_auc = 0.836\n",
      "Порог = 0.78 | Точность = 0.866, Полнота = 0.213, F1 = 0.343, ROC_auc = 0.836\n"
     ]
    }
   ],
   "source": [
    "# Рассчитаем оптимальный порог классификации для случайного леса с параметром class_weight = 'balanced'\n",
    "\n",
    "for threshold in np.arange(0, 0.8, 0.02):\n",
    "    predicted_valid_rfc = probabilites_one_valid_rfc > threshold \n",
    "    precision = precision_score(target_valid,predicted_valid_rfc) \n",
    "    recall = recall_score(target_valid,predicted_valid_rfc) \n",
    "    print(\"Порог = {:.2f} | Точность = {:.3f}, Полнота = {:.3f}, F1 = {:.3f}, ROC_auc = {:.3f}\".format(\n",
    "        threshold, precision, recall, f1_score(target_valid, predicted_valid_rfc), roc_auc_score(target_valid, probabilites_one_valid_rfc)))"
   ]
  },
  {
   "cell_type": "markdown",
   "metadata": {},
   "source": [
    "Лучший результат:\n",
    "\n",
    "Порог = 0.36 | Точность = 0.553, Полнота = 0.644, F1 = 0.595, ROC_auc = 0.830"
   ]
  },
  {
   "cell_type": "markdown",
   "metadata": {},
   "source": [
    "### Логистическая регрессия"
   ]
  },
  {
   "cell_type": "code",
   "execution_count": 62,
   "metadata": {},
   "outputs": [
    {
     "name": "stdout",
     "output_type": "stream",
     "text": [
      "F1: 0.5024027959807776\n",
      "ROC_auc: 0.7742273502133274\n"
     ]
    }
   ],
   "source": [
    "# Создаём модель логистической регрессии\n",
    "model_lgr = LogisticRegression(class_weight = 'balanced', random_state = 12345, solver = 'liblinear')\n",
    "\n",
    "# Запускаем обучение\n",
    "model_lgr.fit(features_train, target_train)\n",
    "\n",
    "predicted_lgr = model_lgr.predict(features_valid)\n",
    "probabilites_valid_lgr = model_lgr.predict_proba(features_valid)\n",
    "probabilites_one_valid_lgr = probabilites_valid_lgr[:, 1]\n",
    "\n",
    "print('F1:', f1_score(target_valid, predicted_lgr))\n",
    "print(\"ROC_auc:\", roc_auc_score(target_valid, probabilites_one_valid_lgr))"
   ]
  },
  {
   "cell_type": "code",
   "execution_count": 63,
   "metadata": {},
   "outputs": [
    {
     "name": "stdout",
     "output_type": "stream",
     "text": [
      "Порог = 0.00 | Точность = 0.204, Полнота = 1.000, F1 = 0.339, ROC_auc = 0.774\n",
      "Порог = 0.02 | Точность = 0.204, Полнота = 1.000, F1 = 0.339, ROC_auc = 0.774\n",
      "Порог = 0.04 | Точность = 0.204, Полнота = 1.000, F1 = 0.339, ROC_auc = 0.774\n",
      "Порог = 0.06 | Точность = 0.204, Полнота = 0.999, F1 = 0.339, ROC_auc = 0.774\n",
      "Порог = 0.08 | Точность = 0.205, Полнота = 0.998, F1 = 0.340, ROC_auc = 0.774\n",
      "Порог = 0.10 | Точность = 0.207, Полнота = 0.995, F1 = 0.343, ROC_auc = 0.774\n",
      "Порог = 0.12 | Точность = 0.211, Полнота = 0.995, F1 = 0.348, ROC_auc = 0.774\n",
      "Порог = 0.14 | Точность = 0.215, Полнота = 0.991, F1 = 0.354, ROC_auc = 0.774\n",
      "Порог = 0.16 | Точность = 0.221, Полнота = 0.987, F1 = 0.361, ROC_auc = 0.774\n",
      "Порог = 0.18 | Точность = 0.227, Полнота = 0.979, F1 = 0.368, ROC_auc = 0.774\n",
      "Порог = 0.20 | Точность = 0.233, Полнота = 0.969, F1 = 0.375, ROC_auc = 0.774\n",
      "Порог = 0.22 | Точность = 0.239, Полнота = 0.963, F1 = 0.384, ROC_auc = 0.774\n",
      "Порог = 0.24 | Точность = 0.249, Полнота = 0.955, F1 = 0.395, ROC_auc = 0.774\n",
      "Порог = 0.26 | Точность = 0.257, Полнота = 0.946, F1 = 0.405, ROC_auc = 0.774\n",
      "Порог = 0.28 | Точность = 0.264, Полнота = 0.928, F1 = 0.411, ROC_auc = 0.774\n",
      "Порог = 0.30 | Точность = 0.273, Полнота = 0.919, F1 = 0.421, ROC_auc = 0.774\n",
      "Порог = 0.32 | Точность = 0.280, Полнота = 0.902, F1 = 0.427, ROC_auc = 0.774\n",
      "Порог = 0.34 | Точность = 0.292, Полнота = 0.892, F1 = 0.440, ROC_auc = 0.774\n",
      "Порог = 0.36 | Точность = 0.302, Полнота = 0.872, F1 = 0.449, ROC_auc = 0.774\n",
      "Порог = 0.38 | Точность = 0.313, Полнота = 0.853, F1 = 0.458, ROC_auc = 0.774\n",
      "Порог = 0.40 | Точность = 0.319, Полнота = 0.828, F1 = 0.461, ROC_auc = 0.774\n",
      "Порог = 0.42 | Точность = 0.335, Полнота = 0.809, F1 = 0.474, ROC_auc = 0.774\n",
      "Порог = 0.44 | Точность = 0.347, Полнота = 0.789, F1 = 0.482, ROC_auc = 0.774\n",
      "Порог = 0.46 | Точность = 0.363, Полнота = 0.766, F1 = 0.493, ROC_auc = 0.774\n",
      "Порог = 0.48 | Точность = 0.373, Полнота = 0.733, F1 = 0.494, ROC_auc = 0.774\n",
      "Порог = 0.50 | Точность = 0.390, Полнота = 0.706, F1 = 0.502, ROC_auc = 0.774\n",
      "Порог = 0.52 | Точность = 0.403, Полнота = 0.681, F1 = 0.506, ROC_auc = 0.774\n",
      "Порог = 0.54 | Точность = 0.415, Полнота = 0.653, F1 = 0.507, ROC_auc = 0.774\n",
      "Порог = 0.56 | Точность = 0.425, Полнота = 0.611, F1 = 0.502, ROC_auc = 0.774\n",
      "Порог = 0.58 | Точность = 0.441, Полнота = 0.575, F1 = 0.499, ROC_auc = 0.774\n",
      "Порог = 0.60 | Точность = 0.453, Полнота = 0.542, F1 = 0.494, ROC_auc = 0.774\n",
      "Порог = 0.62 | Точность = 0.461, Полнота = 0.499, F1 = 0.479, ROC_auc = 0.774\n",
      "Порог = 0.64 | Точность = 0.486, Полнота = 0.474, F1 = 0.480, ROC_auc = 0.774\n",
      "Порог = 0.66 | Точность = 0.511, Полнота = 0.439, F1 = 0.472, ROC_auc = 0.774\n",
      "Порог = 0.68 | Точность = 0.503, Полнота = 0.388, F1 = 0.438, ROC_auc = 0.774\n",
      "Порог = 0.70 | Точность = 0.503, Полнота = 0.356, F1 = 0.417, ROC_auc = 0.774\n",
      "Порог = 0.72 | Точность = 0.518, Полнота = 0.321, F1 = 0.397, ROC_auc = 0.774\n",
      "Порог = 0.74 | Точность = 0.536, Полнота = 0.285, F1 = 0.372, ROC_auc = 0.774\n",
      "Порог = 0.76 | Точность = 0.550, Полнота = 0.250, F1 = 0.344, ROC_auc = 0.774\n",
      "Порог = 0.78 | Точность = 0.558, Полнота = 0.220, F1 = 0.315, ROC_auc = 0.774\n"
     ]
    }
   ],
   "source": [
    "# Рассчитаем оптимальный порог классификации для логистической регрессии с параметром class_weight = 'balanced'\n",
    "\n",
    "for threshold in np.arange(0, 0.8, 0.02):\n",
    "    predicted_valid_lgr = probabilites_one_valid_lgr > threshold \n",
    "    precision = precision_score(target_valid,predicted_valid_lgr) \n",
    "    recall = recall_score(target_valid,predicted_valid_lgr) \n",
    "    print(\"Порог = {:.2f} | Точность = {:.3f}, Полнота = {:.3f}, F1 = {:.3f}, ROC_auc = {:.3f}\".format(\n",
    "        threshold, precision, recall, f1_score(target_valid, predicted_valid_lgr), roc_auc_score(target_valid, probabilites_one_valid_lgr)))"
   ]
  },
  {
   "cell_type": "markdown",
   "metadata": {},
   "source": [
    "Лучший результат:\n",
    "\n",
    "Порог = 0.54 | Точность = 0.414, Полнота = 0.652, F1 = 0.506, ROC_auc = 0.774"
   ]
  },
  {
   "cell_type": "markdown",
   "metadata": {},
   "source": [
    "#### Вывод\n",
    "\n",
    "Модель дерево решений показала результат на тестовых данных f1 - 0.60 и roc_auc - 0.76. \n",
    "При изменении порога классификации на тестовых данных оптимальные значений метрик составляют: Порог = 0.28, F1 = 0.607, ROC_auc = 0.752\n",
    "\n",
    "Модель случайного леса показала результат на тестовых данных f1 - 0.58 и roc_auc - 0.71.\n",
    "При изменении порога классификации на тестовых данных оптимальные значений метрик составляют: Порог = 0.28, F1 = 0.621, ROC_auc = 0.769.\n",
    "\n",
    "Модель логистической регрессии показала результат на тестовых данных по f1 - 0.50 и roc_auc - 0.70.\n",
    "При изменении порога классификации в логистической регрессии оптимальные значений метрик составляют: Порог = 0.24, F1 = 0.506, ROC_auc = 0.699.\n",
    "\n",
    "Делаем вывод, что лучший результат на текущих обучающих данных получены на модели случайного леса."
   ]
  },
  {
   "cell_type": "markdown",
   "metadata": {},
   "source": [
    "## Тестирование модели"
   ]
  },
  {
   "cell_type": "markdown",
   "metadata": {},
   "source": [
    "После работы с дисбалансом лучшие результаты показала модель случайного леса. На ней и будем проводить тестирование.\n",
    "    \n",
    "Порог = 0.44 | Точность = 0.599, Полнота = 0.644, F1 = 0.621, ROC_auc = 0.859\n",
    "\n"
   ]
  },
  {
   "cell_type": "code",
   "execution_count": 64,
   "metadata": {
    "scrolled": true
   },
   "outputs": [
    {
     "name": "stdout",
     "output_type": "stream",
     "text": [
      "F1: 0.5524861878453039\n",
      "ROC_auc: 0.8422519993295662\n"
     ]
    }
   ],
   "source": [
    "# Создаём модель случайного леса\n",
    "model_rfc = RandomForestClassifier(class_weight = 'balanced', n_estimators = 13, max_depth = 14, min_samples_split = 2,\n",
    "                                       min_samples_leaf = 1, random_state = 12345)\n",
    "\n",
    "# Запускаем обучение\n",
    "model_rfc.fit(features_train, target_train)\n",
    "\n",
    "predicted_test_rfc = model_rfc.predict(features_test)\n",
    "probabilites_test_rfc = model_rfc.predict_proba(features_test)\n",
    "probabilites_one_test_rfc = probabilites_test_rfc[:, 1]\n",
    "\n",
    "print('F1:', f1_score(target_test, predicted_test_rfc))\n",
    "print(\"ROC_auc:\", roc_auc_score(target_test, probabilites_one_test_rfc))"
   ]
  },
  {
   "cell_type": "markdown",
   "metadata": {},
   "source": [
    "Цель довести метрику F1 минимум до 0.59 - достигнута.\n"
   ]
  },
  {
   "cell_type": "markdown",
   "metadata": {},
   "source": [
    "## Исследование метрики AUC-ROC"
   ]
  },
  {
   "cell_type": "markdown",
   "metadata": {},
   "source": [
    "### Дерево решений"
   ]
  },
  {
   "cell_type": "code",
   "execution_count": 65,
   "metadata": {},
   "outputs": [],
   "source": [
    "probabilities_dtc = model_dtc.predict_proba(features_valid)\n",
    "probabilities_one_valid_dtc = probabilities_dtc[:, 1]\n",
    "fpr_dtc, tpr_dtc, thresholds = roc_curve(target_valid, probabilities_one_valid_dtc) "
   ]
  },
  {
   "cell_type": "code",
   "execution_count": 66,
   "metadata": {},
   "outputs": [
    {
     "data": {
      "text/plain": [
       "0.8088002619641533"
      ]
     },
     "execution_count": 66,
     "metadata": {},
     "output_type": "execute_result"
    }
   ],
   "source": [
    "auc_roc = roc_auc_score(target_valid, probabilities_one_valid_dtc)\n",
    "auc_roc"
   ]
  },
  {
   "cell_type": "markdown",
   "metadata": {},
   "source": [
    "### Случайный лес"
   ]
  },
  {
   "cell_type": "code",
   "execution_count": 67,
   "metadata": {},
   "outputs": [],
   "source": [
    "probabilities_rfc = model_rfc.predict_proba(features_valid)\n",
    "probabilities_one_valid_rfc = probabilities_rfc[:, 1]\n",
    "fpr_rfc, tpr_rfc, thresholds = roc_curve(target_valid, probabilities_one_valid_rfc) "
   ]
  },
  {
   "cell_type": "code",
   "execution_count": 68,
   "metadata": {},
   "outputs": [
    {
     "data": {
      "text/plain": [
       "0.8364134025483719"
      ]
     },
     "execution_count": 68,
     "metadata": {},
     "output_type": "execute_result"
    }
   ],
   "source": [
    "auc_roc = roc_auc_score(target_valid, probabilities_one_valid_rfc)\n",
    "auc_roc"
   ]
  },
  {
   "cell_type": "markdown",
   "metadata": {},
   "source": [
    "### Логистическая регрессия"
   ]
  },
  {
   "cell_type": "code",
   "execution_count": 69,
   "metadata": {},
   "outputs": [],
   "source": [
    "probabilities_lgr = model_lgr.predict_proba(features_valid)\n",
    "probabilities_one_valid_lgr = probabilities_lgr[:, 1]\n",
    "fpr_lgr, tpr_lgr, thresholds = roc_curve(target_valid, probabilities_one_valid_lgr) "
   ]
  },
  {
   "cell_type": "code",
   "execution_count": 70,
   "metadata": {},
   "outputs": [
    {
     "data": {
      "text/plain": [
       "0.7742273502133274"
      ]
     },
     "execution_count": 70,
     "metadata": {},
     "output_type": "execute_result"
    }
   ],
   "source": [
    "auc_roc = roc_auc_score(target_valid, probabilities_one_valid_lgr)\n",
    "auc_roc"
   ]
  },
  {
   "cell_type": "code",
   "execution_count": 71,
   "metadata": {},
   "outputs": [
    {
     "data": {
      "text/plain": [
       "<Figure size 432x288 with 0 Axes>"
      ]
     },
     "metadata": {},
     "output_type": "display_data"
    },
    {
     "data": {
      "image/png": "[encoded data removed]",
      "text/plain": [
       "<Figure size 1440x720 with 1 Axes>"
      ]
     },
     "metadata": {
      "needs_background": "light"
     },
     "output_type": "display_data"
    }
   ],
   "source": [
    "plt.figure()\n",
    "\n",
    "plt.figure(figsize = (20, 10))\n",
    "plt.plot([0, 1], [0, 1], linestyle = '--')\n",
    "plt.xlim([0.0, 1.0])\n",
    "plt.ylim([0.0, 1.0])\n",
    "plt.plot(fpr_dtc, tpr_dtc)\n",
    "plt.plot(fpr_rfc, tpr_rfc)\n",
    "plt.plot(fpr_lgr, tpr_lgr)\n",
    "plt.xlabel('False Positive Rate')\n",
    "plt.ylabel('True Positive Rate')\n",
    "plt.title('ROC-кривая')\n",
    "plt.legend(('Случайная модель', 'Дерево решений', 'Случайный лес', 'Логистическая регрессия'), loc = 'upper left')\n",
    "\n",
    "plt.show()"
   ]
  },
  {
   "cell_type": "markdown",
   "metadata": {},
   "source": [
    "## Вывод:\n",
    "\n",
    "\n",
    "1. В процессе подготовки датафрейма мы выяснили, что присутствует сильный дисбаланс в данных. Соотношение оттока и клиентов которые остались примерно 1 к 4.\n",
    "\n",
    "\n",
    "2. В столбце tenure было обнаружено большое количество пропусков. Было принято решение заменить их случайными значениями от 0 до 10. Это сделано для того, чтобы заполнение не повлияло на распределение.\n",
    "\n",
    "\n",
    "3. Использовали one hot encoding чтобы избежать \"ловушку фиктивных признаков\". Для проведения исследования создали список со всеми числовыми столбцами, выделили целевой признак в переменную target и оставшиеся признаки в переменную features. Разделили данные на три выборки: тренировочную, валидационную и тестовую в соотношении 60:20:20. Стандартизировали численные признаки чтобы привести к единому масштабу с помощью функции StandardScaler().\n",
    "\n",
    "\n",
    "4. Написали функции для подбора наилучших вариантов гиперпараметров для 3-х моделей: дерево решений, случайный лес и логистическая регрессия. Рассмотрели работу этих моделей с подобранными гиперпараметрами без учета дисбаланса и получили следующие результаты.\n",
    "\n",
    "Дерево решений:\n",
    "\n",
    "F1: 0.58\n",
    "\n",
    "ROC_AUC: 0.82\n",
    "\n",
    "Случайный лес: \n",
    "\n",
    "\n",
    "F1: 0.588\n",
    "\n",
    "ROC_AUC: 0.84\n",
    "\n",
    "Логистическая регрессия:\n",
    "\n",
    "F1: 0.29\n",
    "\n",
    "ROC_AUC: 0.76\n",
    "\n",
    "\n",
    "5. Провели борьбу с дисбалансом, используя функции upsampling и downsampling, а также применили параметр class_weight = 'balanced'. В результате проверки моделей после каждого метода выбрали нилучший вариант для тестирования.\n",
    "\n",
    "Модель случайного леса:\n",
    "\n",
    "F1: 0.597\n",
    "\n",
    "ROC_AUC: 0.84\n",
    "\n",
    "Порог: 0,50\n",
    "\n",
    "\n",
    "6. По результатам тестирования можно сделать вывод, что лучший результат показала модель случайного леса при параметрах class_weight = 'balanced', n_estimators = 13, max_depth = 14, min_samples_split = 2, min_samples_leaf = 1.\n",
    "\n",
    "F1: 0.60\n",
    "\n",
    "ROC_auc: 0.84"
   ]
  }
 ],
 "metadata": {
  "ExecuteTimeLog": [
   {
    "duration": 1545,
    "start_time": "2023-03-12T17:32:57.730Z"
   },
   {
    "duration": 110,
    "start_time": "2023-03-12T17:33:11.425Z"
   },
   {
    "duration": 69,
    "start_time": "2023-03-12T17:34:38.895Z"
   },
   {
    "duration": 13,
    "start_time": "2023-03-12T17:36:36.701Z"
   },
   {
    "duration": 8,
    "start_time": "2023-03-12T17:51:23.920Z"
   },
   {
    "duration": 5,
    "start_time": "2023-03-12T17:53:33.983Z"
   },
   {
    "duration": 4,
    "start_time": "2023-03-12T18:07:27.505Z"
   },
   {
    "duration": 4,
    "start_time": "2023-03-12T18:07:28.994Z"
   },
   {
    "duration": 4,
    "start_time": "2023-03-12T18:07:30.298Z"
   },
   {
    "duration": 8,
    "start_time": "2023-03-12T18:07:30.721Z"
   },
   {
    "duration": 50,
    "start_time": "2023-03-12T18:42:13.567Z"
   },
   {
    "duration": 17,
    "start_time": "2023-03-12T18:42:17.733Z"
   },
   {
    "duration": 43,
    "start_time": "2023-03-12T18:42:45.712Z"
   },
   {
    "duration": 62,
    "start_time": "2023-03-12T18:43:03.829Z"
   },
   {
    "duration": 14,
    "start_time": "2023-03-12T18:43:04.181Z"
   },
   {
    "duration": 7,
    "start_time": "2023-03-12T18:43:04.625Z"
   },
   {
    "duration": 5,
    "start_time": "2023-03-12T18:43:05.081Z"
   },
   {
    "duration": 4,
    "start_time": "2023-03-12T18:43:05.640Z"
   },
   {
    "duration": 7,
    "start_time": "2023-03-12T18:43:06.081Z"
   },
   {
    "duration": 10,
    "start_time": "2023-03-12T18:43:06.573Z"
   },
   {
    "duration": 13,
    "start_time": "2023-03-12T18:47:46.185Z"
   },
   {
    "duration": 4,
    "start_time": "2023-03-12T18:47:58.933Z"
   },
   {
    "duration": 1530,
    "start_time": "2023-03-13T18:28:15.440Z"
   },
   {
    "duration": 11,
    "start_time": "2023-03-13T18:28:16.972Z"
   },
   {
    "duration": 6,
    "start_time": "2023-03-13T18:28:16.984Z"
   },
   {
    "duration": 4,
    "start_time": "2023-03-13T18:28:17.000Z"
   },
   {
    "duration": 4,
    "start_time": "2023-03-13T18:28:17.715Z"
   },
   {
    "duration": 8,
    "start_time": "2023-03-13T18:28:18.459Z"
   },
   {
    "duration": 3,
    "start_time": "2023-03-13T18:28:22.285Z"
   },
   {
    "duration": 103,
    "start_time": "2023-03-13T18:52:40.636Z"
   },
   {
    "duration": 4,
    "start_time": "2023-03-13T18:52:48.108Z"
   },
   {
    "duration": 3,
    "start_time": "2023-03-13T18:52:49.936Z"
   },
   {
    "duration": 6,
    "start_time": "2023-03-13T18:52:50.315Z"
   },
   {
    "duration": 14,
    "start_time": "2023-03-13T18:52:52.385Z"
   },
   {
    "duration": 12,
    "start_time": "2023-03-13T18:53:17.383Z"
   },
   {
    "duration": 58,
    "start_time": "2023-03-13T18:53:27.095Z"
   },
   {
    "duration": 12,
    "start_time": "2023-03-13T18:53:27.435Z"
   },
   {
    "duration": 7,
    "start_time": "2023-03-13T18:53:27.855Z"
   },
   {
    "duration": 5,
    "start_time": "2023-03-13T18:53:28.455Z"
   },
   {
    "duration": 4,
    "start_time": "2023-03-13T18:53:28.967Z"
   },
   {
    "duration": 6,
    "start_time": "2023-03-13T18:53:29.439Z"
   },
   {
    "duration": 4,
    "start_time": "2023-03-13T18:53:30.089Z"
   },
   {
    "duration": 19,
    "start_time": "2023-03-13T18:55:02.391Z"
   },
   {
    "duration": 89,
    "start_time": "2023-03-13T19:05:31.313Z"
   },
   {
    "duration": 13,
    "start_time": "2023-03-13T19:05:31.515Z"
   },
   {
    "duration": 9,
    "start_time": "2023-03-13T19:05:31.774Z"
   },
   {
    "duration": 5,
    "start_time": "2023-03-13T19:05:32.410Z"
   },
   {
    "duration": 3,
    "start_time": "2023-03-13T19:05:32.869Z"
   },
   {
    "duration": 8,
    "start_time": "2023-03-13T19:05:33.437Z"
   },
   {
    "duration": 5,
    "start_time": "2023-03-13T19:05:34.008Z"
   },
   {
    "duration": 17,
    "start_time": "2023-03-13T19:05:37.246Z"
   },
   {
    "duration": 24,
    "start_time": "2023-03-13T19:06:11.377Z"
   },
   {
    "duration": 7,
    "start_time": "2023-03-13T19:06:18.134Z"
   },
   {
    "duration": 6,
    "start_time": "2023-03-13T19:06:51.150Z"
   },
   {
    "duration": 63,
    "start_time": "2023-03-13T19:07:53.055Z"
   },
   {
    "duration": 15,
    "start_time": "2023-03-13T19:07:53.846Z"
   },
   {
    "duration": 9,
    "start_time": "2023-03-13T19:07:57.306Z"
   },
   {
    "duration": 5,
    "start_time": "2023-03-13T19:07:57.973Z"
   },
   {
    "duration": 2,
    "start_time": "2023-03-13T19:07:58.741Z"
   },
   {
    "duration": 7,
    "start_time": "2023-03-13T19:07:58.849Z"
   },
   {
    "duration": 5,
    "start_time": "2023-03-13T19:07:59.369Z"
   },
   {
    "duration": 18,
    "start_time": "2023-03-13T19:08:01.986Z"
   },
   {
    "duration": 10,
    "start_time": "2023-03-13T19:08:02.613Z"
   },
   {
    "duration": 6,
    "start_time": "2023-03-13T19:08:03.114Z"
   },
   {
    "duration": 116,
    "start_time": "2023-03-13T19:08:26.711Z"
   },
   {
    "duration": 97,
    "start_time": "2023-03-13T19:08:33.413Z"
   },
   {
    "duration": 103,
    "start_time": "2023-03-13T19:08:36.361Z"
   },
   {
    "duration": 108,
    "start_time": "2023-03-13T19:08:39.153Z"
   },
   {
    "duration": 154,
    "start_time": "2023-03-13T19:08:43.125Z"
   },
   {
    "duration": 102,
    "start_time": "2023-03-13T19:08:47.617Z"
   },
   {
    "duration": 4,
    "start_time": "2023-03-13T19:09:59.224Z"
   },
   {
    "duration": 102,
    "start_time": "2023-03-13T19:10:17.250Z"
   },
   {
    "duration": 4,
    "start_time": "2023-03-13T19:13:31.118Z"
   },
   {
    "duration": 4,
    "start_time": "2023-03-13T19:13:32.770Z"
   },
   {
    "duration": 4,
    "start_time": "2023-03-13T19:13:35.134Z"
   },
   {
    "duration": 104,
    "start_time": "2023-03-13T19:13:35.616Z"
   },
   {
    "duration": 105,
    "start_time": "2023-03-13T19:13:48.658Z"
   },
   {
    "duration": 104,
    "start_time": "2023-03-13T19:13:53.420Z"
   },
   {
    "duration": 93,
    "start_time": "2023-03-13T19:13:59.514Z"
   },
   {
    "duration": 114,
    "start_time": "2023-03-13T19:14:04.155Z"
   },
   {
    "duration": 4,
    "start_time": "2023-03-13T19:14:22.367Z"
   },
   {
    "duration": 95,
    "start_time": "2023-03-13T19:14:22.813Z"
   },
   {
    "duration": 9,
    "start_time": "2023-03-13T19:14:55.315Z"
   },
   {
    "duration": 6,
    "start_time": "2023-03-13T19:15:08.614Z"
   },
   {
    "duration": 3,
    "start_time": "2023-03-13T19:15:48.313Z"
   },
   {
    "duration": 3,
    "start_time": "2023-03-13T19:15:49.823Z"
   },
   {
    "duration": 94,
    "start_time": "2023-03-13T19:15:50.319Z"
   },
   {
    "duration": 4,
    "start_time": "2023-03-13T19:15:56.842Z"
   },
   {
    "duration": 93,
    "start_time": "2023-03-13T19:15:57.116Z"
   },
   {
    "duration": 6,
    "start_time": "2023-03-13T19:15:57.435Z"
   },
   {
    "duration": 4,
    "start_time": "2023-03-13T19:40:05.807Z"
   },
   {
    "duration": 115,
    "start_time": "2023-03-13T19:40:06.173Z"
   },
   {
    "duration": 7,
    "start_time": "2023-03-13T19:40:06.597Z"
   },
   {
    "duration": 116,
    "start_time": "2023-03-13T19:40:43.315Z"
   },
   {
    "duration": 11,
    "start_time": "2023-03-13T19:40:43.655Z"
   },
   {
    "duration": 9,
    "start_time": "2023-03-13T19:40:43.918Z"
   },
   {
    "duration": 5,
    "start_time": "2023-03-13T19:40:44.160Z"
   },
   {
    "duration": 6,
    "start_time": "2023-03-13T19:40:47.663Z"
   },
   {
    "duration": 5,
    "start_time": "2023-03-13T19:40:47.930Z"
   },
   {
    "duration": 17,
    "start_time": "2023-03-13T19:40:52.111Z"
   },
   {
    "duration": 8,
    "start_time": "2023-03-13T19:40:52.675Z"
   },
   {
    "duration": 5,
    "start_time": "2023-03-13T19:40:53.463Z"
   },
   {
    "duration": 93,
    "start_time": "2023-03-13T19:40:54.375Z"
   },
   {
    "duration": 3,
    "start_time": "2023-03-13T19:40:56.567Z"
   },
   {
    "duration": 103,
    "start_time": "2023-03-13T19:40:57.331Z"
   },
   {
    "duration": 119,
    "start_time": "2023-03-13T19:41:03.251Z"
   },
   {
    "duration": 104,
    "start_time": "2023-03-13T19:41:05.211Z"
   },
   {
    "duration": 108,
    "start_time": "2023-03-13T19:41:12.119Z"
   },
   {
    "duration": 4,
    "start_time": "2023-03-13T19:41:12.843Z"
   },
   {
    "duration": 108,
    "start_time": "2023-03-13T19:41:13.308Z"
   },
   {
    "duration": 6,
    "start_time": "2023-03-13T19:41:15.647Z"
   },
   {
    "duration": 53,
    "start_time": "2023-03-13T19:44:26.715Z"
   },
   {
    "duration": 5,
    "start_time": "2023-03-13T19:45:17.659Z"
   },
   {
    "duration": 6,
    "start_time": "2023-03-13T19:45:48.687Z"
   },
   {
    "duration": 3,
    "start_time": "2023-03-13T19:47:30.331Z"
   },
   {
    "duration": 3,
    "start_time": "2023-03-13T19:47:32.285Z"
   },
   {
    "duration": 4,
    "start_time": "2023-03-13T19:47:32.696Z"
   },
   {
    "duration": 6,
    "start_time": "2023-03-13T19:47:33.187Z"
   },
   {
    "duration": 4,
    "start_time": "2023-03-13T19:49:33.375Z"
   },
   {
    "duration": 3,
    "start_time": "2023-03-13T19:49:41.371Z"
   },
   {
    "duration": 3,
    "start_time": "2023-03-13T19:49:44.447Z"
   },
   {
    "duration": 6,
    "start_time": "2023-03-13T19:51:15.727Z"
   },
   {
    "duration": 5,
    "start_time": "2023-03-13T19:51:21.301Z"
   },
   {
    "duration": 39,
    "start_time": "2023-03-13T20:06:20.542Z"
   },
   {
    "duration": 6,
    "start_time": "2023-03-13T20:07:13.110Z"
   },
   {
    "duration": 12,
    "start_time": "2023-03-13T20:07:13.492Z"
   },
   {
    "duration": 4,
    "start_time": "2023-03-13T20:07:13.853Z"
   },
   {
    "duration": 12,
    "start_time": "2023-03-13T20:07:16.254Z"
   },
   {
    "duration": 52,
    "start_time": "2023-03-13T20:07:22.514Z"
   },
   {
    "duration": 11,
    "start_time": "2023-03-13T20:07:22.648Z"
   },
   {
    "duration": 6,
    "start_time": "2023-03-13T20:07:22.838Z"
   },
   {
    "duration": 4,
    "start_time": "2023-03-13T20:07:23.021Z"
   },
   {
    "duration": 6,
    "start_time": "2023-03-13T20:07:23.185Z"
   },
   {
    "duration": 3,
    "start_time": "2023-03-13T20:07:23.334Z"
   },
   {
    "duration": 26,
    "start_time": "2023-03-13T20:07:24.510Z"
   },
   {
    "duration": 8,
    "start_time": "2023-03-13T20:07:24.861Z"
   },
   {
    "duration": 6,
    "start_time": "2023-03-13T20:07:25.533Z"
   },
   {
    "duration": 138,
    "start_time": "2023-03-13T20:07:26.108Z"
   },
   {
    "duration": 4,
    "start_time": "2023-03-13T20:07:26.566Z"
   },
   {
    "duration": 105,
    "start_time": "2023-03-13T20:07:27.108Z"
   },
   {
    "duration": 7,
    "start_time": "2023-03-13T20:07:27.606Z"
   },
   {
    "duration": 2,
    "start_time": "2023-03-13T20:07:28.208Z"
   },
   {
    "duration": 6,
    "start_time": "2023-03-13T20:07:29.134Z"
   },
   {
    "duration": 7,
    "start_time": "2023-03-13T20:07:29.654Z"
   },
   {
    "duration": 15,
    "start_time": "2023-03-13T20:07:30.126Z"
   },
   {
    "duration": 19,
    "start_time": "2023-03-13T20:07:57.558Z"
   },
   {
    "duration": 3,
    "start_time": "2023-03-13T20:07:59.062Z"
   },
   {
    "duration": 3,
    "start_time": "2023-03-13T20:07:59.550Z"
   },
   {
    "duration": 5,
    "start_time": "2023-03-13T20:08:00.125Z"
   },
   {
    "duration": 5,
    "start_time": "2023-03-13T20:08:00.710Z"
   },
   {
    "duration": 36,
    "start_time": "2023-03-13T20:08:01.312Z"
   },
   {
    "duration": 2830,
    "start_time": "2023-03-23T09:49:01.568Z"
   },
   {
    "duration": 17,
    "start_time": "2023-03-23T09:49:04.401Z"
   },
   {
    "duration": 26,
    "start_time": "2023-03-23T09:49:04.420Z"
   },
   {
    "duration": 24,
    "start_time": "2023-03-23T09:49:04.450Z"
   },
   {
    "duration": 17,
    "start_time": "2023-03-23T09:49:04.476Z"
   },
   {
    "duration": 30,
    "start_time": "2023-03-23T09:49:04.495Z"
   },
   {
    "duration": 42,
    "start_time": "2023-03-23T09:49:04.527Z"
   },
   {
    "duration": 10,
    "start_time": "2023-03-23T09:49:04.571Z"
   },
   {
    "duration": 13,
    "start_time": "2023-03-23T09:49:04.583Z"
   },
   {
    "duration": 184,
    "start_time": "2023-03-23T09:49:04.640Z"
   },
   {
    "duration": 3,
    "start_time": "2023-03-23T09:49:04.826Z"
   },
   {
    "duration": 30,
    "start_time": "2023-03-23T09:49:04.840Z"
   },
   {
    "duration": 160,
    "start_time": "2023-03-23T09:49:04.871Z"
   },
   {
    "duration": 13,
    "start_time": "2023-03-23T09:49:05.034Z"
   },
   {
    "duration": 184,
    "start_time": "2023-03-23T09:49:05.049Z"
   },
   {
    "duration": 4,
    "start_time": "2023-03-23T09:49:05.240Z"
   },
   {
    "duration": 20,
    "start_time": "2023-03-23T09:49:05.246Z"
   },
   {
    "duration": 11,
    "start_time": "2023-03-23T09:49:05.269Z"
   },
   {
    "duration": 17,
    "start_time": "2023-03-23T09:49:05.282Z"
   },
   {
    "duration": 11,
    "start_time": "2023-03-23T09:49:05.301Z"
   },
   {
    "duration": 31,
    "start_time": "2023-03-23T09:49:05.314Z"
   },
   {
    "duration": 14,
    "start_time": "2023-03-23T09:49:05.347Z"
   },
   {
    "duration": 14,
    "start_time": "2023-03-23T09:49:05.363Z"
   },
   {
    "duration": 7,
    "start_time": "2023-03-23T09:49:05.379Z"
   },
   {
    "duration": 12,
    "start_time": "2023-03-23T09:49:05.388Z"
   },
   {
    "duration": 9,
    "start_time": "2023-03-23T09:49:05.403Z"
   },
   {
    "duration": 11,
    "start_time": "2023-03-23T09:49:05.414Z"
   },
   {
    "duration": 486,
    "start_time": "2023-03-23T09:49:05.441Z"
   },
   {
    "duration": 360,
    "start_time": "2023-03-23T09:49:05.930Z"
   },
   {
    "duration": 489,
    "start_time": "2023-03-23T09:49:06.292Z"
   },
   {
    "duration": 3,
    "start_time": "2023-03-23T09:49:06.783Z"
   },
   {
    "duration": 53,
    "start_time": "2023-03-23T09:49:06.787Z"
   },
   {
    "duration": 9447,
    "start_time": "2023-03-23T09:49:06.842Z"
   },
   {
    "duration": 7337,
    "start_time": "2023-03-23T09:49:16.291Z"
   },
   {
    "duration": 3358,
    "start_time": "2023-03-23T09:49:23.630Z"
   },
   {
    "duration": 3111,
    "start_time": "2023-03-23T09:49:26.990Z"
   },
   {
    "duration": 2,
    "start_time": "2023-03-23T09:49:30.103Z"
   },
   {
    "duration": 383,
    "start_time": "2023-03-23T09:49:30.107Z"
   },
   {
    "duration": 3,
    "start_time": "2023-03-23T09:49:30.492Z"
   },
   {
    "duration": 243,
    "start_time": "2023-03-23T09:49:30.497Z"
   },
   {
    "duration": 100,
    "start_time": "2023-03-23T09:49:30.743Z"
   },
   {
    "duration": 69,
    "start_time": "2023-03-23T09:49:30.845Z"
   },
   {
    "duration": 63,
    "start_time": "2023-03-23T09:49:30.916Z"
   },
   {
    "duration": 37,
    "start_time": "2023-03-23T09:49:30.981Z"
   },
   {
    "duration": 48,
    "start_time": "2023-03-23T09:49:31.020Z"
   },
   {
    "duration": 40,
    "start_time": "2023-03-23T09:49:31.070Z"
   },
   {
    "duration": 41,
    "start_time": "2023-03-23T09:49:31.112Z"
   },
   {
    "duration": 97,
    "start_time": "2023-03-23T09:49:31.156Z"
   },
   {
    "duration": 388,
    "start_time": "2023-03-23T09:49:31.256Z"
   },
   {
    "duration": 377,
    "start_time": "2023-03-23T09:49:31.646Z"
   },
   {
    "duration": 341,
    "start_time": "2023-03-23T09:49:32.025Z"
   },
   {
    "duration": 75,
    "start_time": "2023-03-23T09:49:32.368Z"
   },
   {
    "duration": 405,
    "start_time": "2023-03-23T09:49:32.445Z"
   },
   {
    "duration": 3,
    "start_time": "2023-03-23T09:49:32.852Z"
   },
   {
    "duration": 11,
    "start_time": "2023-03-23T09:49:32.857Z"
   },
   {
    "duration": 10,
    "start_time": "2023-03-23T09:49:32.870Z"
   },
   {
    "duration": 13,
    "start_time": "2023-03-23T09:49:32.882Z"
   },
   {
    "duration": 4,
    "start_time": "2023-03-23T09:49:32.897Z"
   },
   {
    "duration": 9,
    "start_time": "2023-03-23T09:49:32.903Z"
   },
   {
    "duration": 41,
    "start_time": "2023-03-23T09:49:32.914Z"
   },
   {
    "duration": 328,
    "start_time": "2023-03-23T09:49:32.957Z"
   },
   {
    "duration": 165,
    "start_time": "2023-03-23T09:49:33.286Z"
   },
   {
    "duration": 320,
    "start_time": "2023-03-23T09:49:33.453Z"
   },
   {
    "duration": 67,
    "start_time": "2023-03-23T09:49:33.775Z"
   },
   {
    "duration": 414,
    "start_time": "2023-03-23T09:49:33.844Z"
   },
   {
    "duration": 30,
    "start_time": "2023-03-23T09:49:34.260Z"
   },
   {
    "duration": 349,
    "start_time": "2023-03-23T09:49:34.292Z"
   },
   {
    "duration": 202,
    "start_time": "2023-03-23T09:49:34.643Z"
   },
   {
    "duration": 311,
    "start_time": "2023-03-23T09:49:34.847Z"
   },
   {
    "duration": 96,
    "start_time": "2023-03-23T09:49:35.160Z"
   },
   {
    "duration": 346,
    "start_time": "2023-03-23T09:49:35.341Z"
   },
   {
    "duration": 4,
    "start_time": "2023-03-23T09:49:35.690Z"
   },
   {
    "duration": 11,
    "start_time": "2023-03-23T09:49:35.695Z"
   },
   {
    "duration": 7,
    "start_time": "2023-03-23T09:49:35.708Z"
   },
   {
    "duration": 21,
    "start_time": "2023-03-23T09:49:35.717Z"
   },
   {
    "duration": 24,
    "start_time": "2023-03-23T09:49:35.746Z"
   },
   {
    "duration": 8,
    "start_time": "2023-03-23T09:49:35.772Z"
   },
   {
    "duration": 18,
    "start_time": "2023-03-23T09:49:35.782Z"
   },
   {
    "duration": 47,
    "start_time": "2023-03-23T09:49:35.802Z"
   },
   {
    "duration": 9,
    "start_time": "2023-03-23T09:49:35.851Z"
   },
   {
    "duration": 17,
    "start_time": "2023-03-23T09:49:35.862Z"
   },
   {
    "duration": 9,
    "start_time": "2023-03-23T09:49:35.940Z"
   },
   {
    "duration": 447,
    "start_time": "2023-03-23T09:49:35.952Z"
   },
   {
    "duration": 2147,
    "start_time": "2023-03-24T09:59:52.111Z"
   },
   {
    "duration": 13,
    "start_time": "2023-03-24T09:59:54.261Z"
   },
   {
    "duration": 26,
    "start_time": "2023-03-24T09:59:54.275Z"
   },
   {
    "duration": 16,
    "start_time": "2023-03-24T09:59:54.304Z"
   },
   {
    "duration": 5,
    "start_time": "2023-03-24T09:59:54.322Z"
   },
   {
    "duration": 10,
    "start_time": "2023-03-24T09:59:54.329Z"
   },
   {
    "duration": 39,
    "start_time": "2023-03-24T09:59:54.341Z"
   },
   {
    "duration": 12,
    "start_time": "2023-03-24T09:59:54.382Z"
   },
   {
    "duration": 30,
    "start_time": "2023-03-24T09:59:54.396Z"
   },
   {
    "duration": 178,
    "start_time": "2023-03-24T09:59:54.429Z"
   },
   {
    "duration": 2,
    "start_time": "2023-03-24T09:59:54.610Z"
   },
   {
    "duration": 13,
    "start_time": "2023-03-24T09:59:54.614Z"
   },
   {
    "duration": 183,
    "start_time": "2023-03-24T09:59:54.630Z"
   },
   {
    "duration": 9,
    "start_time": "2023-03-24T09:59:54.815Z"
   },
   {
    "duration": 180,
    "start_time": "2023-03-24T09:59:54.826Z"
   },
   {
    "duration": 2,
    "start_time": "2023-03-24T09:59:55.008Z"
   },
   {
    "duration": 14,
    "start_time": "2023-03-24T09:59:55.012Z"
   },
   {
    "duration": 7,
    "start_time": "2023-03-24T09:59:55.029Z"
   },
   {
    "duration": 26,
    "start_time": "2023-03-24T09:59:55.038Z"
   },
   {
    "duration": 19,
    "start_time": "2023-03-24T09:59:55.066Z"
   },
   {
    "duration": 46,
    "start_time": "2023-03-24T09:59:55.093Z"
   },
   {
    "duration": 5,
    "start_time": "2023-03-24T09:59:55.140Z"
   },
   {
    "duration": 19,
    "start_time": "2023-03-24T09:59:55.147Z"
   },
   {
    "duration": 37,
    "start_time": "2023-03-24T09:59:55.168Z"
   },
   {
    "duration": 14,
    "start_time": "2023-03-24T09:59:55.207Z"
   },
   {
    "duration": 16,
    "start_time": "2023-03-24T09:59:55.223Z"
   },
   {
    "duration": 23,
    "start_time": "2023-03-24T09:59:55.242Z"
   },
   {
    "duration": 8,
    "start_time": "2023-03-24T09:59:55.271Z"
   },
   {
    "duration": 27,
    "start_time": "2023-03-24T09:59:55.281Z"
   },
   {
    "duration": 485,
    "start_time": "2023-03-24T09:59:55.310Z"
   },
   {
    "duration": 366,
    "start_time": "2023-03-24T09:59:55.797Z"
   },
   {
    "duration": 80,
    "start_time": "2023-03-24T09:59:56.165Z"
   },
   {
    "duration": 0,
    "start_time": "2023-03-24T09:59:56.247Z"
   },
   {
    "duration": 0,
    "start_time": "2023-03-24T09:59:56.249Z"
   },
   {
    "duration": 0,
    "start_time": "2023-03-24T09:59:56.250Z"
   },
   {
    "duration": 0,
    "start_time": "2023-03-24T09:59:56.252Z"
   },
   {
    "duration": 0,
    "start_time": "2023-03-24T09:59:56.252Z"
   },
   {
    "duration": 0,
    "start_time": "2023-03-24T09:59:56.254Z"
   },
   {
    "duration": 0,
    "start_time": "2023-03-24T09:59:56.255Z"
   },
   {
    "duration": 0,
    "start_time": "2023-03-24T09:59:56.256Z"
   },
   {
    "duration": 0,
    "start_time": "2023-03-24T09:59:56.257Z"
   },
   {
    "duration": 0,
    "start_time": "2023-03-24T09:59:56.258Z"
   },
   {
    "duration": 0,
    "start_time": "2023-03-24T09:59:56.259Z"
   },
   {
    "duration": 0,
    "start_time": "2023-03-24T09:59:56.261Z"
   },
   {
    "duration": 0,
    "start_time": "2023-03-24T09:59:56.262Z"
   },
   {
    "duration": 0,
    "start_time": "2023-03-24T09:59:56.263Z"
   },
   {
    "duration": 0,
    "start_time": "2023-03-24T09:59:56.264Z"
   },
   {
    "duration": 0,
    "start_time": "2023-03-24T09:59:56.265Z"
   },
   {
    "duration": 0,
    "start_time": "2023-03-24T09:59:56.266Z"
   },
   {
    "duration": 0,
    "start_time": "2023-03-24T09:59:56.268Z"
   },
   {
    "duration": 0,
    "start_time": "2023-03-24T09:59:56.269Z"
   },
   {
    "duration": 0,
    "start_time": "2023-03-24T09:59:56.270Z"
   },
   {
    "duration": 0,
    "start_time": "2023-03-24T09:59:56.271Z"
   },
   {
    "duration": 0,
    "start_time": "2023-03-24T09:59:56.272Z"
   },
   {
    "duration": 0,
    "start_time": "2023-03-24T09:59:56.273Z"
   },
   {
    "duration": 0,
    "start_time": "2023-03-24T09:59:56.274Z"
   },
   {
    "duration": 0,
    "start_time": "2023-03-24T09:59:56.275Z"
   },
   {
    "duration": 0,
    "start_time": "2023-03-24T09:59:56.277Z"
   },
   {
    "duration": 0,
    "start_time": "2023-03-24T09:59:56.278Z"
   },
   {
    "duration": 0,
    "start_time": "2023-03-24T09:59:56.279Z"
   },
   {
    "duration": 0,
    "start_time": "2023-03-24T09:59:56.280Z"
   },
   {
    "duration": 0,
    "start_time": "2023-03-24T09:59:56.281Z"
   },
   {
    "duration": 0,
    "start_time": "2023-03-24T09:59:56.287Z"
   },
   {
    "duration": 0,
    "start_time": "2023-03-24T09:59:56.289Z"
   },
   {
    "duration": 0,
    "start_time": "2023-03-24T09:59:56.290Z"
   },
   {
    "duration": 0,
    "start_time": "2023-03-24T09:59:56.292Z"
   },
   {
    "duration": 0,
    "start_time": "2023-03-24T09:59:56.293Z"
   },
   {
    "duration": 0,
    "start_time": "2023-03-24T09:59:56.295Z"
   },
   {
    "duration": 0,
    "start_time": "2023-03-24T09:59:56.296Z"
   },
   {
    "duration": 0,
    "start_time": "2023-03-24T09:59:56.298Z"
   },
   {
    "duration": 0,
    "start_time": "2023-03-24T09:59:56.299Z"
   },
   {
    "duration": 0,
    "start_time": "2023-03-24T09:59:56.301Z"
   },
   {
    "duration": 0,
    "start_time": "2023-03-24T09:59:56.302Z"
   },
   {
    "duration": 0,
    "start_time": "2023-03-24T09:59:56.304Z"
   },
   {
    "duration": 0,
    "start_time": "2023-03-24T09:59:56.305Z"
   },
   {
    "duration": 0,
    "start_time": "2023-03-24T09:59:56.306Z"
   },
   {
    "duration": 0,
    "start_time": "2023-03-24T09:59:56.308Z"
   },
   {
    "duration": 0,
    "start_time": "2023-03-24T09:59:56.310Z"
   },
   {
    "duration": 0,
    "start_time": "2023-03-24T09:59:56.311Z"
   },
   {
    "duration": 0,
    "start_time": "2023-03-24T09:59:56.312Z"
   },
   {
    "duration": 0,
    "start_time": "2023-03-24T09:59:56.313Z"
   },
   {
    "duration": 0,
    "start_time": "2023-03-24T09:59:56.314Z"
   },
   {
    "duration": 0,
    "start_time": "2023-03-24T09:59:56.316Z"
   },
   {
    "duration": 0,
    "start_time": "2023-03-24T09:59:56.317Z"
   },
   {
    "duration": 0,
    "start_time": "2023-03-24T09:59:56.318Z"
   },
   {
    "duration": 0,
    "start_time": "2023-03-24T09:59:56.319Z"
   },
   {
    "duration": 0,
    "start_time": "2023-03-24T09:59:56.320Z"
   },
   {
    "duration": 0,
    "start_time": "2023-03-24T09:59:56.321Z"
   },
   {
    "duration": 0,
    "start_time": "2023-03-24T09:59:56.322Z"
   },
   {
    "duration": 0,
    "start_time": "2023-03-24T09:59:56.323Z"
   },
   {
    "duration": 1969,
    "start_time": "2023-03-24T10:04:24.184Z"
   },
   {
    "duration": 18,
    "start_time": "2023-03-24T10:04:26.156Z"
   },
   {
    "duration": 6,
    "start_time": "2023-03-24T10:04:26.176Z"
   },
   {
    "duration": 29,
    "start_time": "2023-03-24T10:04:26.184Z"
   },
   {
    "duration": 4,
    "start_time": "2023-03-24T10:04:26.215Z"
   },
   {
    "duration": 16,
    "start_time": "2023-03-24T10:04:26.221Z"
   },
   {
    "duration": 32,
    "start_time": "2023-03-24T10:04:26.239Z"
   },
   {
    "duration": 11,
    "start_time": "2023-03-24T10:04:26.272Z"
   },
   {
    "duration": 8,
    "start_time": "2023-03-24T10:04:26.285Z"
   },
   {
    "duration": 218,
    "start_time": "2023-03-24T10:04:26.297Z"
   },
   {
    "duration": 6,
    "start_time": "2023-03-24T10:04:26.517Z"
   },
   {
    "duration": 39,
    "start_time": "2023-03-24T10:04:26.525Z"
   },
   {
    "duration": 174,
    "start_time": "2023-03-24T10:04:26.566Z"
   },
   {
    "duration": 8,
    "start_time": "2023-03-24T10:04:26.742Z"
   },
   {
    "duration": 166,
    "start_time": "2023-03-24T10:04:26.751Z"
   },
   {
    "duration": 3,
    "start_time": "2023-03-24T10:04:26.919Z"
   },
   {
    "duration": 21,
    "start_time": "2023-03-24T10:04:26.924Z"
   },
   {
    "duration": 6,
    "start_time": "2023-03-24T10:04:26.948Z"
   },
   {
    "duration": 23,
    "start_time": "2023-03-24T10:04:26.956Z"
   },
   {
    "duration": 16,
    "start_time": "2023-03-24T10:04:26.982Z"
   },
   {
    "duration": 31,
    "start_time": "2023-03-24T10:04:27.003Z"
   },
   {
    "duration": 4,
    "start_time": "2023-03-24T10:04:27.036Z"
   },
   {
    "duration": 15,
    "start_time": "2023-03-24T10:04:27.042Z"
   },
   {
    "duration": 12,
    "start_time": "2023-03-24T10:04:27.059Z"
   },
   {
    "duration": 16,
    "start_time": "2023-03-24T10:04:27.073Z"
   },
   {
    "duration": 22,
    "start_time": "2023-03-24T10:04:27.091Z"
   },
   {
    "duration": 10,
    "start_time": "2023-03-24T10:04:27.116Z"
   },
   {
    "duration": 5,
    "start_time": "2023-03-24T10:04:27.132Z"
   },
   {
    "duration": 15,
    "start_time": "2023-03-24T10:04:27.139Z"
   },
   {
    "duration": 520,
    "start_time": "2023-03-24T10:04:27.156Z"
   },
   {
    "duration": 415,
    "start_time": "2023-03-24T10:04:27.678Z"
   },
   {
    "duration": 547,
    "start_time": "2023-03-24T10:04:28.096Z"
   },
   {
    "duration": 3,
    "start_time": "2023-03-24T10:04:28.645Z"
   },
   {
    "duration": 67,
    "start_time": "2023-03-24T10:04:28.650Z"
   },
   {
    "duration": 10748,
    "start_time": "2023-03-24T10:04:28.719Z"
   },
   {
    "duration": 8966,
    "start_time": "2023-03-24T10:04:39.469Z"
   },
   {
    "duration": 4427,
    "start_time": "2023-03-24T10:04:48.437Z"
   },
   {
    "duration": 4197,
    "start_time": "2023-03-24T10:04:52.866Z"
   },
   {
    "duration": 3,
    "start_time": "2023-03-24T10:04:57.065Z"
   },
   {
    "duration": 364,
    "start_time": "2023-03-24T10:04:57.070Z"
   },
   {
    "duration": 3,
    "start_time": "2023-03-24T10:04:57.436Z"
   },
   {
    "duration": 174,
    "start_time": "2023-03-24T10:04:57.441Z"
   },
   {
    "duration": 3,
    "start_time": "2023-03-24T10:04:57.618Z"
   },
   {
    "duration": 10,
    "start_time": "2023-03-24T10:04:57.622Z"
   },
   {
    "duration": 64,
    "start_time": "2023-03-24T10:04:57.634Z"
   },
   {
    "duration": 6,
    "start_time": "2023-03-24T10:04:57.704Z"
   },
   {
    "duration": 16,
    "start_time": "2023-03-24T10:04:57.712Z"
   },
   {
    "duration": 3,
    "start_time": "2023-03-24T10:04:57.730Z"
   },
   {
    "duration": 9,
    "start_time": "2023-03-24T10:04:57.735Z"
   },
   {
    "duration": 66,
    "start_time": "2023-03-24T10:04:57.746Z"
   },
   {
    "duration": 459,
    "start_time": "2023-03-24T10:04:57.815Z"
   },
   {
    "duration": 481,
    "start_time": "2023-03-24T10:04:58.276Z"
   },
   {
    "duration": 443,
    "start_time": "2023-03-24T10:04:58.759Z"
   },
   {
    "duration": 107,
    "start_time": "2023-03-24T10:04:59.204Z"
   },
   {
    "duration": 545,
    "start_time": "2023-03-24T10:04:59.313Z"
   },
   {
    "duration": 4,
    "start_time": "2023-03-24T10:04:59.861Z"
   },
   {
    "duration": 39,
    "start_time": "2023-03-24T10:04:59.868Z"
   },
   {
    "duration": 15,
    "start_time": "2023-03-24T10:04:59.910Z"
   },
   {
    "duration": 19,
    "start_time": "2023-03-24T10:04:59.927Z"
   },
   {
    "duration": 6,
    "start_time": "2023-03-24T10:04:59.948Z"
   },
   {
    "duration": 8,
    "start_time": "2023-03-24T10:04:59.956Z"
   },
   {
    "duration": 30,
    "start_time": "2023-03-24T10:04:59.966Z"
   },
   {
    "duration": 406,
    "start_time": "2023-03-24T10:04:59.998Z"
   },
   {
    "duration": 243,
    "start_time": "2023-03-24T10:05:00.407Z"
   },
   {
    "duration": 460,
    "start_time": "2023-03-24T10:05:00.652Z"
   },
   {
    "duration": 92,
    "start_time": "2023-03-24T10:05:01.114Z"
   },
   {
    "duration": 539,
    "start_time": "2023-03-24T10:05:01.214Z"
   },
   {
    "duration": 53,
    "start_time": "2023-03-24T10:05:01.755Z"
   },
   {
    "duration": 439,
    "start_time": "2023-03-24T10:05:01.811Z"
   },
   {
    "duration": 348,
    "start_time": "2023-03-24T10:05:02.253Z"
   },
   {
    "duration": 400,
    "start_time": "2023-03-24T10:05:02.604Z"
   },
   {
    "duration": 91,
    "start_time": "2023-03-24T10:05:03.006Z"
   },
   {
    "duration": 522,
    "start_time": "2023-03-24T10:05:03.099Z"
   },
   {
    "duration": 3,
    "start_time": "2023-03-24T10:05:03.623Z"
   },
   {
    "duration": 13,
    "start_time": "2023-03-24T10:05:03.628Z"
   },
   {
    "duration": 6,
    "start_time": "2023-03-24T10:05:03.643Z"
   },
   {
    "duration": 12,
    "start_time": "2023-03-24T10:05:03.651Z"
   },
   {
    "duration": 474,
    "start_time": "2023-03-24T10:05:03.665Z"
   },
   {
    "duration": 0,
    "start_time": "2023-03-24T10:05:04.142Z"
   },
   {
    "duration": 0,
    "start_time": "2023-03-24T10:05:04.143Z"
   },
   {
    "duration": 0,
    "start_time": "2023-03-24T10:05:04.146Z"
   },
   {
    "duration": 0,
    "start_time": "2023-03-24T10:05:04.147Z"
   },
   {
    "duration": 0,
    "start_time": "2023-03-24T10:05:04.149Z"
   },
   {
    "duration": 0,
    "start_time": "2023-03-24T10:05:04.150Z"
   },
   {
    "duration": 0,
    "start_time": "2023-03-24T10:05:04.152Z"
   },
   {
    "duration": 1704,
    "start_time": "2023-03-24T18:49:49.024Z"
   },
   {
    "duration": 14,
    "start_time": "2023-03-24T18:49:50.731Z"
   },
   {
    "duration": 5,
    "start_time": "2023-03-24T18:49:50.798Z"
   },
   {
    "duration": 10,
    "start_time": "2023-03-24T18:49:52.450Z"
   },
   {
    "duration": 2,
    "start_time": "2023-03-24T18:49:53.294Z"
   },
   {
    "duration": 6,
    "start_time": "2023-03-24T18:49:57.022Z"
   },
   {
    "duration": 20,
    "start_time": "2023-03-24T18:49:59.486Z"
   },
   {
    "duration": 10,
    "start_time": "2023-03-24T18:50:00.494Z"
   },
   {
    "duration": 8,
    "start_time": "2023-03-24T18:50:01.015Z"
   },
   {
    "duration": 149,
    "start_time": "2023-03-24T18:50:01.519Z"
   },
   {
    "duration": 2,
    "start_time": "2023-03-24T18:50:02.351Z"
   },
   {
    "duration": 5,
    "start_time": "2023-03-24T18:50:03.377Z"
   },
   {
    "duration": 131,
    "start_time": "2023-03-24T18:50:04.238Z"
   },
   {
    "duration": 6,
    "start_time": "2023-03-24T18:50:04.919Z"
   },
   {
    "duration": 124,
    "start_time": "2023-03-24T18:50:06.622Z"
   },
   {
    "duration": 3,
    "start_time": "2023-03-24T18:50:11.422Z"
   },
   {
    "duration": 7,
    "start_time": "2023-03-24T18:50:11.983Z"
   },
   {
    "duration": 3,
    "start_time": "2023-03-24T18:50:12.478Z"
   },
   {
    "duration": 11,
    "start_time": "2023-03-24T18:50:15.186Z"
   },
   {
    "duration": 8,
    "start_time": "2023-03-24T18:50:15.846Z"
   },
   {
    "duration": 31,
    "start_time": "2023-03-24T18:50:17.398Z"
   },
   {
    "duration": 4,
    "start_time": "2023-03-24T18:50:18.686Z"
   },
   {
    "duration": 9,
    "start_time": "2023-03-24T18:50:42.600Z"
   },
   {
    "duration": 12,
    "start_time": "2023-03-24T18:50:44.199Z"
   },
   {
    "duration": 4,
    "start_time": "2023-03-24T18:50:44.919Z"
   },
   {
    "duration": 3,
    "start_time": "2023-03-24T18:50:45.416Z"
   },
   {
    "duration": 5,
    "start_time": "2023-03-24T18:50:46.072Z"
   },
   {
    "duration": 3,
    "start_time": "2023-03-24T18:50:46.479Z"
   },
   {
    "duration": 3,
    "start_time": "2023-03-24T18:50:46.894Z"
   },
   {
    "duration": 402,
    "start_time": "2023-03-24T18:50:48.438Z"
   },
   {
    "duration": 70,
    "start_time": "2023-03-24T18:51:56.384Z"
   },
   {
    "duration": 327,
    "start_time": "2023-03-24T18:52:10.150Z"
   },
   {
    "duration": 422,
    "start_time": "2023-03-24T18:53:00.002Z"
   },
   {
    "duration": 69,
    "start_time": "2023-03-24T18:53:27.067Z"
   },
   {
    "duration": 3,
    "start_time": "2023-03-24T18:53:35.893Z"
   },
   {
    "duration": 36,
    "start_time": "2023-03-24T18:53:47.607Z"
   },
   {
    "duration": 8939,
    "start_time": "2023-03-24T18:54:06.006Z"
   },
   {
    "duration": 6607,
    "start_time": "2023-03-24T18:55:01.179Z"
   },
   {
    "duration": 1320,
    "start_time": "2023-03-24T18:55:48.686Z"
   },
   {
    "duration": 1300,
    "start_time": "2023-03-24T18:56:30.103Z"
   },
   {
    "duration": 125,
    "start_time": "2023-03-24T18:58:10.750Z"
   },
   {
    "duration": 208,
    "start_time": "2023-03-24T18:58:27.895Z"
   },
   {
    "duration": 9,
    "start_time": "2023-03-24T18:59:51.847Z"
   },
   {
    "duration": 4,
    "start_time": "2023-03-24T18:59:52.543Z"
   },
   {
    "duration": 10,
    "start_time": "2023-03-24T18:59:54.239Z"
   },
   {
    "duration": 4,
    "start_time": "2023-03-24T18:59:55.075Z"
   },
   {
    "duration": 4,
    "start_time": "2023-03-24T18:59:55.555Z"
   },
   {
    "duration": 37,
    "start_time": "2023-03-24T19:00:12.991Z"
   },
   {
    "duration": 339,
    "start_time": "2023-03-24T19:00:41.127Z"
   },
   {
    "duration": 143,
    "start_time": "2023-03-24T19:02:10.647Z"
   },
   {
    "duration": 335,
    "start_time": "2023-03-24T19:02:12.751Z"
   },
   {
    "duration": 66,
    "start_time": "2023-03-24T19:03:11.752Z"
   },
   {
    "duration": 322,
    "start_time": "2023-03-24T19:03:13.702Z"
   },
   {
    "duration": 4,
    "start_time": "2023-03-24T19:04:31.743Z"
   },
   {
    "duration": 10,
    "start_time": "2023-03-24T19:04:32.327Z"
   },
   {
    "duration": 4,
    "start_time": "2023-03-24T19:04:33.131Z"
   },
   {
    "duration": 4,
    "start_time": "2023-03-24T19:04:33.727Z"
   },
   {
    "duration": 23,
    "start_time": "2023-03-24T19:04:46.095Z"
   },
   {
    "duration": 325,
    "start_time": "2023-03-24T19:04:47.827Z"
   },
   {
    "duration": 73,
    "start_time": "2023-03-24T19:05:42.979Z"
   },
   {
    "duration": 339,
    "start_time": "2023-03-24T19:05:44.755Z"
   },
   {
    "duration": 99,
    "start_time": "2023-03-24T19:06:47.811Z"
   },
   {
    "duration": 318,
    "start_time": "2023-03-24T19:06:56.575Z"
   },
   {
    "duration": 43,
    "start_time": "2023-03-24T19:09:06.952Z"
   },
   {
    "duration": 301,
    "start_time": "2023-03-24T19:09:07.680Z"
   },
   {
    "duration": 121,
    "start_time": "2023-03-24T19:10:05.272Z"
   },
   {
    "duration": 308,
    "start_time": "2023-03-24T19:10:13.057Z"
   },
   {
    "duration": 77,
    "start_time": "2023-03-24T19:11:05.927Z"
   },
   {
    "duration": 315,
    "start_time": "2023-03-24T19:11:06.648Z"
   },
   {
    "duration": 215,
    "start_time": "2023-03-24T19:13:14.067Z"
   },
   {
    "duration": 144,
    "start_time": "2023-03-24T19:13:38.275Z"
   },
   {
    "duration": 117,
    "start_time": "2023-03-24T19:13:43.054Z"
   },
   {
    "duration": 116,
    "start_time": "2023-03-24T19:20:54.927Z"
   },
   {
    "duration": 108,
    "start_time": "2023-03-24T19:23:35.477Z"
   },
   {
    "duration": 69,
    "start_time": "2023-03-24T19:24:58.529Z"
   },
   {
    "duration": 6,
    "start_time": "2023-03-24T19:25:04.897Z"
   },
   {
    "duration": 6,
    "start_time": "2023-03-24T19:25:05.449Z"
   },
   {
    "duration": 19,
    "start_time": "2023-03-24T19:25:06.352Z"
   },
   {
    "duration": 7,
    "start_time": "2023-03-24T19:25:06.728Z"
   },
   {
    "duration": 17,
    "start_time": "2023-03-24T19:25:07.578Z"
   },
   {
    "duration": 8,
    "start_time": "2023-03-24T19:25:08.416Z"
   },
   {
    "duration": 342,
    "start_time": "2023-03-24T19:25:09.557Z"
   },
   {
    "duration": 2254,
    "start_time": "2023-03-25T06:17:05.208Z"
   },
   {
    "duration": 15,
    "start_time": "2023-03-25T06:17:07.465Z"
   },
   {
    "duration": 7,
    "start_time": "2023-03-25T06:17:07.482Z"
   },
   {
    "duration": 63,
    "start_time": "2023-03-25T06:17:07.491Z"
   },
   {
    "duration": 16,
    "start_time": "2023-03-25T06:17:07.558Z"
   },
   {
    "duration": 32,
    "start_time": "2023-03-25T06:17:07.577Z"
   },
   {
    "duration": 11,
    "start_time": "2023-03-25T06:17:07.611Z"
   },
   {
    "duration": 28,
    "start_time": "2023-03-25T06:17:07.624Z"
   },
   {
    "duration": 216,
    "start_time": "2023-03-25T06:17:07.654Z"
   },
   {
    "duration": 9,
    "start_time": "2023-03-25T06:17:07.871Z"
   },
   {
    "duration": 177,
    "start_time": "2023-03-25T06:17:07.882Z"
   },
   {
    "duration": 9,
    "start_time": "2023-03-25T06:17:08.061Z"
   },
   {
    "duration": 183,
    "start_time": "2023-03-25T06:17:08.072Z"
   },
   {
    "duration": 3,
    "start_time": "2023-03-25T06:17:08.258Z"
   },
   {
    "duration": 17,
    "start_time": "2023-03-25T06:17:08.263Z"
   },
   {
    "duration": 14,
    "start_time": "2023-03-25T06:17:08.282Z"
   },
   {
    "duration": 15,
    "start_time": "2023-03-25T06:17:08.298Z"
   },
   {
    "duration": 51,
    "start_time": "2023-03-25T06:17:08.315Z"
   },
   {
    "duration": 4,
    "start_time": "2023-03-25T06:17:08.368Z"
   },
   {
    "duration": 16,
    "start_time": "2023-03-25T06:17:08.374Z"
   },
   {
    "duration": 27,
    "start_time": "2023-03-25T06:17:08.393Z"
   },
   {
    "duration": 59,
    "start_time": "2023-03-25T06:17:08.422Z"
   },
   {
    "duration": 12,
    "start_time": "2023-03-25T06:17:08.483Z"
   },
   {
    "duration": 20,
    "start_time": "2023-03-25T06:17:08.497Z"
   },
   {
    "duration": 52,
    "start_time": "2023-03-25T06:17:08.519Z"
   },
   {
    "duration": 42,
    "start_time": "2023-03-25T06:17:08.573Z"
   },
   {
    "duration": 581,
    "start_time": "2023-03-25T06:17:08.617Z"
   },
   {
    "duration": 448,
    "start_time": "2023-03-25T06:17:09.201Z"
   },
   {
    "duration": 545,
    "start_time": "2023-03-25T06:17:09.659Z"
   },
   {
    "duration": 68,
    "start_time": "2023-03-25T06:17:10.205Z"
   },
   {
    "duration": 11361,
    "start_time": "2023-03-25T06:17:10.276Z"
   },
   {
    "duration": 8228,
    "start_time": "2023-03-25T06:17:21.639Z"
   },
   {
    "duration": 1723,
    "start_time": "2023-03-25T06:17:29.869Z"
   },
   {
    "duration": 1660,
    "start_time": "2023-03-25T06:17:31.594Z"
   },
   {
    "duration": 143,
    "start_time": "2023-03-25T06:17:33.256Z"
   },
   {
    "duration": 133,
    "start_time": "2023-03-25T06:17:33.401Z"
   },
   {
    "duration": 87,
    "start_time": "2023-03-25T06:17:33.537Z"
   },
   {
    "duration": 20,
    "start_time": "2023-03-25T06:17:33.628Z"
   },
   {
    "duration": 20,
    "start_time": "2023-03-25T06:17:33.650Z"
   },
   {
    "duration": 5,
    "start_time": "2023-03-25T06:17:33.671Z"
   },
   {
    "duration": 9,
    "start_time": "2023-03-25T06:17:33.680Z"
   },
   {
    "duration": 59,
    "start_time": "2023-03-25T06:17:33.690Z"
   },
   {
    "duration": 378,
    "start_time": "2023-03-25T06:17:33.751Z"
   },
   {
    "duration": 171,
    "start_time": "2023-03-25T06:17:34.132Z"
   },
   {
    "duration": 397,
    "start_time": "2023-03-25T06:17:34.305Z"
   },
   {
    "duration": 138,
    "start_time": "2023-03-25T06:17:34.703Z"
   },
   {
    "duration": 511,
    "start_time": "2023-03-25T06:17:34.844Z"
   },
   {
    "duration": 5,
    "start_time": "2023-03-25T06:17:35.356Z"
   },
   {
    "duration": 25,
    "start_time": "2023-03-25T06:17:35.363Z"
   },
   {
    "duration": 11,
    "start_time": "2023-03-25T06:17:35.390Z"
   },
   {
    "duration": 11,
    "start_time": "2023-03-25T06:17:35.403Z"
   },
   {
    "duration": 48,
    "start_time": "2023-03-25T06:17:35.416Z"
   },
   {
    "duration": 369,
    "start_time": "2023-03-25T06:17:35.467Z"
   },
   {
    "duration": 112,
    "start_time": "2023-03-25T06:17:35.838Z"
   },
   {
    "duration": 405,
    "start_time": "2023-03-25T06:17:35.952Z"
   },
   {
    "duration": 163,
    "start_time": "2023-03-25T06:17:36.359Z"
   },
   {
    "duration": 512,
    "start_time": "2023-03-25T06:17:36.528Z"
   },
   {
    "duration": 39,
    "start_time": "2023-03-25T06:17:37.043Z"
   },
   {
    "duration": 425,
    "start_time": "2023-03-25T06:17:37.084Z"
   },
   {
    "duration": 142,
    "start_time": "2023-03-25T06:17:37.518Z"
   },
   {
    "duration": 380,
    "start_time": "2023-03-25T06:17:37.662Z"
   },
   {
    "duration": 97,
    "start_time": "2023-03-25T06:17:38.044Z"
   },
   {
    "duration": 453,
    "start_time": "2023-03-25T06:17:38.143Z"
   },
   {
    "duration": 164,
    "start_time": "2023-03-25T06:17:38.598Z"
   },
   {
    "duration": 8,
    "start_time": "2023-03-25T06:17:38.764Z"
   },
   {
    "duration": 21,
    "start_time": "2023-03-25T06:17:38.774Z"
   },
   {
    "duration": 29,
    "start_time": "2023-03-25T06:17:38.797Z"
   },
   {
    "duration": 29,
    "start_time": "2023-03-25T06:17:38.827Z"
   },
   {
    "duration": 66,
    "start_time": "2023-03-25T06:17:38.858Z"
   },
   {
    "duration": 115,
    "start_time": "2023-03-25T06:17:38.929Z"
   },
   {
    "duration": 328,
    "start_time": "2023-03-25T06:17:39.047Z"
   }
  ],
  "kernelspec": {
   "display_name": "Python 3 (ipykernel)",
   "language": "python",
   "name": "python3"
  },
  "language_info": {
   "codemirror_mode": {
    "name": "ipython",
    "version": 3
   },
   "file_extension": ".py",
   "mimetype": "text/x-python",
   "name": "python",
   "nbconvert_exporter": "python",
   "pygments_lexer": "ipython3",
   "version": "3.9.13"
  },
  "toc": {
   "base_numbering": 1,
   "nav_menu": {},
   "number_sections": true,
   "sideBar": true,
   "skip_h1_title": true,
   "title_cell": "Содержание",
   "title_sidebar": "Contents",
   "toc_cell": true,
   "toc_position": {
    "height": "calc(100% - 180px)",
    "left": "10px",
    "top": "150px",
    "width": "308.225px"
   },
   "toc_section_display": true,
   "toc_window_display": true
  }
 },
 "nbformat": 4,
 "nbformat_minor": 2
}
